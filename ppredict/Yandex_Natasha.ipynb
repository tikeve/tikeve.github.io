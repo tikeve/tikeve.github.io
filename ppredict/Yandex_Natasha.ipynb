{
 "cells": [
  {
   "cell_type": "markdown",
   "metadata": {},
   "source": [
    " <div class=\"alert alert-success\" style=\"border-color: green; border-radius: 5px\">\n",
    "    <font color='green'> <b><u>КОММЕНТАРИЙ РЕВЬЮЕРА</u></b>\n",
    "\n",
    "Наталья, доброго дня! рад приветствовать тебя вновь) <br />\n",
    "<br />\n",
    "Меня зовут Николай Шавлюго. <br />И на этом этапе твоего движения к новой профессии от меня будут комментарии по написанному коду. <br />Чтобы меньше \"мусорить эфир\" и чтобы максимально наглядно отделяться от основного кода, есть предложение условиться в некоторых обозначениях:<br /> <br />\n",
    "<div class=\"alert alert-success\" style=\"border-color: green; border-radius: 5px\">\n",
    "    <p><u><b>✅ КОММЕНТАРИЙ РЕВЬЮЕРА</b></u></p>\n",
    "    <p>Всё хорошо.</p>\n",
    "</div>\n",
    "\n",
    "<div class=\"alert alert-warning\" style=\"border-color: darkorange; border-radius: 5px\">\n",
    "    <p><u><b>⚠️ КОММЕНТАРИЙ РЕВЬЮЕРА</b></u></p>\n",
    "    <p>Обрати внимание, есть потенциал</p>\n",
    "</div>\n",
    "\n",
    "<div class=\"alert alert-danger\" style=\"border-color: darkred; border-radius: 5px\">\n",
    "    <p><u><b>❌ КОММЕНТАРИЙ РЕВЬЮЕРА</b></u></p>\n",
    "    <p>Нужно ещё раз глянуть</p>\n",
    "</div>\n",
    "</font><br /><br />\n",
    "<font color='green'>Моей целью является не \"уличить\" в не знании, а просто высказать сверху твоих знаний - свой опыт, что бы тебе использовать его для своего дальнейшего успеха) И очень здорово будет, если удастся задавать вопросы, да и вообще - всячески доставать меня, если я по каким-то причинам не приму проект:) При этом, из своего опыта скажу, хорошо и важно, когда переписка ревьюера и студента - сохраняется на следующие проекты и даже на будущую практическую деятельность.<br>\n",
    "<BR> В ПУТЬ!<br></div>"
   ]
  },
  {
   "cell_type": "markdown",
   "metadata": {},
   "source": [
    " <div class=\"alert alert-info\">\n",
    "    <b> Комментарий студента</b>\n",
    "\n",
    "Привет! Большое спасибо за такие подробные комментарии! Теория по временным рядам на тренажере была очень сжатая, а так стало немного понятнее.\n",
    "    \n",
    "Ниже я убрала лишние признаки и построила графиик расхождения между реальными значениями и прогнозом - действительно, получается очень наглядно и полезно. Например, видно, что модель предсказывает заметные пики и спады, но иногда делает это с небольшим отставанием. Для отлаживания прогноза еще было бы полезно понимать, в какую сторону ошибка дороже: преувеличение или преуменьшение числа заказов.\n",
    "    \n",
    "Интересно, что лучшая модель получилась с лагами на неделю (168 часов) - хотя прогноз мы строим всего на один час, а изменения интервала для rolling mean особо не влияло. \n",
    "    </div>"
   ]
  },
  {
   "cell_type": "markdown",
   "metadata": {},
   "source": [
    "<div class=\"alert alert-success\" style=\"border-color: green; border-radius: 5px\">\n",
    "    <p><u><b>✅ КОММЕНТАРИЙ РЕВЬЮЕРА 2</b></u></p>\n",
    "ОК, Наталья, увидел твои изменения, ОК.<br>\n",
    "РАД, что смог помочь подразобраться с этой темой. Для меня это тоже важно.<br>\n",
    "Верно ты пишешь,глядя на график, а также добавляя отдельный анализ остатков, можно будет хорошо порабоать над улучшением модели..<br>\n",
    "    \n",
    "По факторам:конечно же, иной раз мы можем хорошо подогнать модель (математиа может многое))). Тут важно потом понять, реально ли данные фаткоры влияю на продажи. Ведь часто бизнесу нужен не просто прогноз, а понимание за счёт какиих значимых факторов просиходят продажи компании<br>\n",
    "\n",
    "Тут много ещё что можно сказать по самой теме...<br>\n",
    "Если будет возможность тебе однозначно интересно посмотреть разные практические истории вот здесь:<br>\n",
    "1) https://ibf.org/knowledge - заморский институт бизнес-прогнозирования.<br>\n",
    "Там и статьи можно накопать, и методы посмомтерть...<br>\n",
    "\n",
    "2) Есть классический труд (он НЕ ML, а исключительно на эксель). Но для понимания сути временных рядов - то, что надо:<br>\n",
    "УИЧЕРН \"Бизнес-прогнозирование\"<br>\n",
    "\n",
    "3) Идеологически по системе прогнозирования, интересно почитать<br>\n",
    "ТОМАС УОЛЛАС, Р. СТАЛЬ \"планирование продаж и операций\" SO&P<br><br>     \n",
    "\n",
    "Спасибо за проект)<br>\n",
    "УСПЕШНОГО ДАЛЬНЕЙШЕГО ОБЧЕНИЯ!</div>"
   ]
  },
  {
   "cell_type": "markdown",
   "metadata": {
    "toc": true
   },
   "source": [
    "<h1>Содержание<span class=\"tocSkip\"></span></h1>\n",
    "<div class=\"toc\"><ul class=\"toc-item\"><li><span><a href=\"#Описание-проекта\" data-toc-modified-id=\"Описание-проекта-1\"><span class=\"toc-item-num\">1&nbsp;&nbsp;</span>Описание проекта</a></span></li><li><span><a href=\"#Импорт-библиотек\" data-toc-modified-id=\"Импорт-библиотек-2\"><span class=\"toc-item-num\">2&nbsp;&nbsp;</span>Импорт библиотек</a></span></li><li><span><a href=\"#Подготовка\" data-toc-modified-id=\"Подготовка-3\"><span class=\"toc-item-num\">3&nbsp;&nbsp;</span>Подготовка</a></span><ul class=\"toc-item\"><li><span><a href=\"#Загрузка-данных\" data-toc-modified-id=\"Загрузка-данных-3.1\"><span class=\"toc-item-num\">3.1&nbsp;&nbsp;</span>Загрузка данных</a></span></li><li><span><a href=\"#Ресемплирование\" data-toc-modified-id=\"Ресемплирование-3.2\"><span class=\"toc-item-num\">3.2&nbsp;&nbsp;</span>Ресемплирование</a></span></li></ul></li><li><span><a href=\"#Анализ\" data-toc-modified-id=\"Анализ-4\"><span class=\"toc-item-num\">4&nbsp;&nbsp;</span>Анализ</a></span><ul class=\"toc-item\"><li><span><a href=\"#Диапазон-временных-значений\" data-toc-modified-id=\"Диапазон-временных-значений-4.1\"><span class=\"toc-item-num\">4.1&nbsp;&nbsp;</span>Диапазон временных значений</a></span></li><li><span><a href=\"#Тренд-и-сезонность\" data-toc-modified-id=\"Тренд-и-сезонность-4.2\"><span class=\"toc-item-num\">4.2&nbsp;&nbsp;</span>Тренд и сезонность</a></span></li></ul></li><li><span><a href=\"#Обучение\" data-toc-modified-id=\"Обучение-5\"><span class=\"toc-item-num\">5&nbsp;&nbsp;</span>Обучение</a></span><ul class=\"toc-item\"><li><span><a href=\"#Проверка-на-вменяемость\" data-toc-modified-id=\"Проверка-на-вменяемость-5.1\"><span class=\"toc-item-num\">5.1&nbsp;&nbsp;</span>Проверка на вменяемость</a></span></li><li><span><a href=\"#Обучение-модели-линейной-регрессии\" data-toc-modified-id=\"Обучение-модели-линейной-регрессии-5.2\"><span class=\"toc-item-num\">5.2&nbsp;&nbsp;</span>Обучение модели линейной регрессии</a></span></li></ul></li><li><span><a href=\"#Тестирование\" data-toc-modified-id=\"Тестирование-6\"><span class=\"toc-item-num\">6&nbsp;&nbsp;</span>Тестирование</a></span></li><li><span><a href=\"#Вывод\" data-toc-modified-id=\"Вывод-7\"><span class=\"toc-item-num\">7&nbsp;&nbsp;</span>Вывод</a></span></li><li><span><a href=\"#Чек-лист-проверки\" data-toc-modified-id=\"Чек-лист-проверки-8\"><span class=\"toc-item-num\">8&nbsp;&nbsp;</span>Чек-лист проверки</a></span></li></ul></div>"
   ]
  },
  {
   "cell_type": "markdown",
   "metadata": {},
   "source": [
    "#  Прогнозирование заказов такси"
   ]
  },
  {
   "cell_type": "markdown",
   "metadata": {},
   "source": [
    "Компания «Чётенькое такси» собрала исторические данные о заказах такси в аэропортах. Чтобы привлекать больше водителей в период пиковой нагрузки, нужно спрогнозировать количество заказов такси на следующий час. Постройте модель для такого предсказания.\n",
    "\n",
    "Значение метрики *RMSE* на тестовой выборке должно быть не больше 48.\n",
    "\n",
    "Вам нужно:\n",
    "\n",
    "1. Загрузить данные и выполнить их ресемплирование по одному часу.\n",
    "2. Проанализировать данные.\n",
    "3. Обучить разные модели с различными гиперпараметрами. Сделать тестовую выборку размером 10% от исходных данных.\n",
    "4. Проверить данные на тестовой выборке и сделать выводы.\n",
    "\n",
    "\n",
    "Данные лежат в файле `taxi.csv`. Количество заказов находится в столбце `num_orders` (от англ. *number of orders*, «число заказов»)."
   ]
  },
  {
   "cell_type": "markdown",
   "metadata": {},
   "source": [
    "## Описание проекта\n",
    "\n",
    "Цель: С использованием исторических данных построить модель для прогнозирования количества заказов такси на следующий час для привлечения дополнительынх водителей в часы пиковой нагрузки.\n",
    "    \n",
    "Метод: Обучим модель линейной регрессии для прогнозирования временных рядов.\n",
    "    \n",
    "Ход работы:\n",
    "\n",
    "* Упорядочим и сгруппируем временные данные.\n",
    "* Изучим данные, посмотрим на наличие в них трендов и сезонности.\n",
    "* Выделим признаки для обучения (календарные признаки, скользящее среднее, предыдущие значения временного ряда).\n",
    "* Обучим модели с разными гиперпараметрами и выберем модель, показавшей наименьшее значение RMSE. Проверим работу лучшей модели на тестовой выборке."
   ]
  },
  {
   "cell_type": "markdown",
   "metadata": {},
   "source": [
    "## Импорт библиотек"
   ]
  },
  {
   "cell_type": "code",
   "execution_count": 1,
   "metadata": {},
   "outputs": [],
   "source": [
    "import pandas as pd\n",
    "import numpy as np\n",
    "from statsmodels.tsa.seasonal import seasonal_decompose\n",
    "import matplotlib.pyplot as plt\n",
    "from sklearn.model_selection import train_test_split\n",
    "from sklearn.linear_model import LinearRegression\n",
    "from sklearn.metrics import mean_squared_error\n",
    "import time"
   ]
  },
  {
   "cell_type": "markdown",
   "metadata": {},
   "source": [
    "## Подготовка"
   ]
  },
  {
   "cell_type": "markdown",
   "metadata": {},
   "source": [
    "### Загрузка данных"
   ]
  },
  {
   "cell_type": "code",
   "execution_count": 2,
   "metadata": {},
   "outputs": [
    {
     "data": {
      "text/html": [
       "<div>\n",
       "<style scoped>\n",
       "    .dataframe tbody tr th:only-of-type {\n",
       "        vertical-align: middle;\n",
       "    }\n",
       "\n",
       "    .dataframe tbody tr th {\n",
       "        vertical-align: top;\n",
       "    }\n",
       "\n",
       "    .dataframe thead th {\n",
       "        text-align: right;\n",
       "    }\n",
       "</style>\n",
       "<table border=\"1\" class=\"dataframe\">\n",
       "  <thead>\n",
       "    <tr style=\"text-align: right;\">\n",
       "      <th></th>\n",
       "      <th>datetime</th>\n",
       "      <th>num_orders</th>\n",
       "    </tr>\n",
       "  </thead>\n",
       "  <tbody>\n",
       "    <tr>\n",
       "      <th>0</th>\n",
       "      <td>2018-03-01 00:00:00</td>\n",
       "      <td>9</td>\n",
       "    </tr>\n",
       "    <tr>\n",
       "      <th>1</th>\n",
       "      <td>2018-03-01 00:10:00</td>\n",
       "      <td>14</td>\n",
       "    </tr>\n",
       "    <tr>\n",
       "      <th>2</th>\n",
       "      <td>2018-03-01 00:20:00</td>\n",
       "      <td>28</td>\n",
       "    </tr>\n",
       "    <tr>\n",
       "      <th>3</th>\n",
       "      <td>2018-03-01 00:30:00</td>\n",
       "      <td>20</td>\n",
       "    </tr>\n",
       "    <tr>\n",
       "      <th>4</th>\n",
       "      <td>2018-03-01 00:40:00</td>\n",
       "      <td>32</td>\n",
       "    </tr>\n",
       "  </tbody>\n",
       "</table>\n",
       "</div>"
      ],
      "text/plain": [
       "              datetime  num_orders\n",
       "0  2018-03-01 00:00:00           9\n",
       "1  2018-03-01 00:10:00          14\n",
       "2  2018-03-01 00:20:00          28\n",
       "3  2018-03-01 00:30:00          20\n",
       "4  2018-03-01 00:40:00          32"
      ]
     },
     "execution_count": 2,
     "metadata": {},
     "output_type": "execute_result"
    }
   ],
   "source": [
    "df = pd.read_csv('/datasets/taxi.csv')\n",
    "df.head()"
   ]
  },
  {
   "cell_type": "code",
   "execution_count": 3,
   "metadata": {},
   "outputs": [
    {
     "name": "stdout",
     "output_type": "stream",
     "text": [
      "<class 'pandas.core.frame.DataFrame'>\n",
      "RangeIndex: 26496 entries, 0 to 26495\n",
      "Data columns (total 2 columns):\n",
      " #   Column      Non-Null Count  Dtype \n",
      "---  ------      --------------  ----- \n",
      " 0   datetime    26496 non-null  object\n",
      " 1   num_orders  26496 non-null  int64 \n",
      "dtypes: int64(1), object(1)\n",
      "memory usage: 414.1+ KB\n"
     ]
    }
   ],
   "source": [
    "df.info()"
   ]
  },
  {
   "cell_type": "markdown",
   "metadata": {},
   "source": [
    "В датасете два столбца - с данными о времени с промежутком в десять минут и с количеством заказов за это время.\n",
    "\n",
    "Всего у нас 26496 объектов с данными о количестве заказов, поступающих в десятиминутные интервалы. Столбцы названы корректно, пропусков в данных нет."
   ]
  },
  {
   "cell_type": "code",
   "execution_count": 4,
   "metadata": {},
   "outputs": [
    {
     "name": "stdout",
     "output_type": "stream",
     "text": [
      "<class 'pandas.core.frame.DataFrame'>\n",
      "RangeIndex: 26496 entries, 0 to 26495\n",
      "Data columns (total 2 columns):\n",
      " #   Column      Non-Null Count  Dtype         \n",
      "---  ------      --------------  -----         \n",
      " 0   datetime    26496 non-null  datetime64[ns]\n",
      " 1   num_orders  26496 non-null  int64         \n",
      "dtypes: datetime64[ns](1), int64(1)\n",
      "memory usage: 414.1 KB\n"
     ]
    }
   ],
   "source": [
    "# Приведены данные в столбце \"datetime\" к виду datetime\n",
    "\n",
    "df['datetime'] = pd.to_datetime(df['datetime'])\n",
    "df.info()"
   ]
  },
  {
   "cell_type": "code",
   "execution_count": 5,
   "metadata": {},
   "outputs": [],
   "source": [
    "# Сделаем временные данные индексом датафрейма\n",
    "\n",
    "df.set_index('datetime', inplace=True)"
   ]
  },
  {
   "cell_type": "code",
   "execution_count": 6,
   "metadata": {},
   "outputs": [
    {
     "name": "stdout",
     "output_type": "stream",
     "text": [
      "Данные идут в хронологическом порядке\n"
     ]
    }
   ],
   "source": [
    "# Отсортируем данные по дате\n",
    "df.sort_index(inplace=True)\n",
    "\n",
    "# Проверим, что данные идут в хронологическом порядке\n",
    "if df.index.is_monotonic:\n",
    "    print ('Данные идут в хронологическом порядке')\n",
    "else:\n",
    "    print ('СПАСИТЕ! Данные не идут в хронологическом порядке')"
   ]
  },
  {
   "cell_type": "markdown",
   "metadata": {},
   "source": [
    " ### Ресемплирование"
   ]
  },
  {
   "cell_type": "code",
   "execution_count": 7,
   "metadata": {},
   "outputs": [
    {
     "data": {
      "text/html": [
       "<div>\n",
       "<style scoped>\n",
       "    .dataframe tbody tr th:only-of-type {\n",
       "        vertical-align: middle;\n",
       "    }\n",
       "\n",
       "    .dataframe tbody tr th {\n",
       "        vertical-align: top;\n",
       "    }\n",
       "\n",
       "    .dataframe thead th {\n",
       "        text-align: right;\n",
       "    }\n",
       "</style>\n",
       "<table border=\"1\" class=\"dataframe\">\n",
       "  <thead>\n",
       "    <tr style=\"text-align: right;\">\n",
       "      <th></th>\n",
       "      <th>num_orders</th>\n",
       "    </tr>\n",
       "    <tr>\n",
       "      <th>datetime</th>\n",
       "      <th></th>\n",
       "    </tr>\n",
       "  </thead>\n",
       "  <tbody>\n",
       "    <tr>\n",
       "      <th>2018-03-01 00:00:00</th>\n",
       "      <td>124</td>\n",
       "    </tr>\n",
       "    <tr>\n",
       "      <th>2018-03-01 01:00:00</th>\n",
       "      <td>85</td>\n",
       "    </tr>\n",
       "    <tr>\n",
       "      <th>2018-03-01 02:00:00</th>\n",
       "      <td>71</td>\n",
       "    </tr>\n",
       "    <tr>\n",
       "      <th>2018-03-01 03:00:00</th>\n",
       "      <td>66</td>\n",
       "    </tr>\n",
       "    <tr>\n",
       "      <th>2018-03-01 04:00:00</th>\n",
       "      <td>43</td>\n",
       "    </tr>\n",
       "  </tbody>\n",
       "</table>\n",
       "</div>"
      ],
      "text/plain": [
       "                     num_orders\n",
       "datetime                       \n",
       "2018-03-01 00:00:00         124\n",
       "2018-03-01 01:00:00          85\n",
       "2018-03-01 02:00:00          71\n",
       "2018-03-01 03:00:00          66\n",
       "2018-03-01 04:00:00          43"
      ]
     },
     "execution_count": 7,
     "metadata": {},
     "output_type": "execute_result"
    }
   ],
   "source": [
    "# Выполним ресемплирование по одному часу: выведем сумму заказов за это время\n",
    "\n",
    "df = df.resample('1H').sum()\n",
    "df.head()"
   ]
  },
  {
   "cell_type": "markdown",
   "metadata": {},
   "source": [
    "Данные подготовлены: столбец с датами приведен к виду datetime, отсортирован в хронологическом порядке, данные разбиты на группы по часам."
   ]
  },
  {
   "cell_type": "markdown",
   "metadata": {},
   "source": [
    "<div class=\"alert alert-success\" style=\"border-color: green; border-radius: 5px\">\n",
    "    <p><u><b>✅ КОММЕНТАРИЙ РЕВЬЮЕРА</b></u></p>ОК, данные на базе"
   ]
  },
  {
   "cell_type": "markdown",
   "metadata": {},
   "source": [
    "## Анализ"
   ]
  },
  {
   "cell_type": "markdown",
   "metadata": {},
   "source": [
    "### Диапазон временных значений"
   ]
  },
  {
   "cell_type": "markdown",
   "metadata": {},
   "source": [
    "Изучим данные"
   ]
  },
  {
   "cell_type": "code",
   "execution_count": 8,
   "metadata": {},
   "outputs": [
    {
     "name": "stdout",
     "output_type": "stream",
     "text": [
      "2018-03-01 00:00:00\n",
      "2018-08-31 23:00:00\n"
     ]
    }
   ],
   "source": [
    "print(df.index.min())\n",
    "print(df.index.max())"
   ]
  },
  {
   "cell_type": "code",
   "execution_count": 9,
   "metadata": {},
   "outputs": [
    {
     "data": {
      "text/plain": [
       "count    4416.000000\n",
       "mean       84.422781\n",
       "std        45.023853\n",
       "min         0.000000\n",
       "25%        54.000000\n",
       "50%        78.000000\n",
       "75%       107.000000\n",
       "max       462.000000\n",
       "Name: num_orders, dtype: float64"
      ]
     },
     "execution_count": 9,
     "metadata": {},
     "output_type": "execute_result"
    }
   ],
   "source": [
    "df['num_orders'].describe()"
   ]
  },
  {
   "cell_type": "markdown",
   "metadata": {},
   "source": [
    "В датасепте данные по часам за полгода: с 1 марта по 31 августа 2018 года.\n",
    "Поскольку у нас нет данных за несколько лет, мы не сможем увидеть возможную сезонность по временам года, онако можем изучить, есть ли сезонность в течение дня или недели.\n",
    "\n",
    "Значения целевого признака (количество вызовов такси в час) колеблется от 0 до 467 с медианой 78."
   ]
  },
  {
   "cell_type": "markdown",
   "metadata": {},
   "source": [
    "### Тренд и сезонность"
   ]
  },
  {
   "cell_type": "code",
   "execution_count": 10,
   "metadata": {
    "scrolled": true
   },
   "outputs": [
    {
     "data": {
      "image/png": "[encoded data removed]",
      "text/plain": [
       "<Figure size 432x576 with 3 Axes>"
      ]
     },
     "metadata": {
      "needs_background": "light"
     },
     "output_type": "display_data"
    }
   ],
   "source": [
    "# Разделим данные на тренд, сезонность и остаток, применив decomposed\n",
    "\n",
    "decomposed = seasonal_decompose(df)\n",
    "trend = decomposed.trend\n",
    "seasonal = decomposed.seasonal\n",
    "resid = decomposed.resid\n",
    "\n",
    "plt.figure(figsize=(6, 8))\n",
    "plt.subplot(311)\n",
    "# Чтобы график корректно отобразился, указываем его\n",
    "# оси ax, равными plt.gca() (англ. get current axis,\n",
    "# получить текущие оси)\n",
    "trend.plot(ax=plt.gca())\n",
    "plt.title('Trend')\n",
    "plt.subplot(312)\n",
    "seasonal.plot(ax=plt.gca()) \n",
    "plt.title('Seasonality')\n",
    "plt.subplot(313)\n",
    "resid.plot(ax=plt.gca())\n",
    "plt.title('Residuals')\n",
    "plt.tight_layout()"
   ]
  },
  {
   "cell_type": "code",
   "execution_count": 11,
   "metadata": {},
   "outputs": [
    {
     "data": {
      "text/plain": [
       "<AxesSubplot:xlabel='datetime'>"
      ]
     },
     "execution_count": 11,
     "metadata": {},
     "output_type": "execute_result"
    },
    {
     "data": {
      "image/png": "[encoded data removed]",
      "text/plain": [
       "<Figure size 432x288 with 1 Axes>"
      ]
     },
     "metadata": {
      "needs_background": "light"
     },
     "output_type": "display_data"
    }
   ],
   "source": [
    "# Посмотрим на сезонность в течение недели\n",
    "decomposed.seasonal.head(168).plot()"
   ]
  },
  {
   "cell_type": "code",
   "execution_count": 12,
   "metadata": {},
   "outputs": [
    {
     "data": {
      "text/plain": [
       "<AxesSubplot:xlabel='datetime'>"
      ]
     },
     "execution_count": 12,
     "metadata": {},
     "output_type": "execute_result"
    },
    {
     "data": {
      "image/png": "[encoded data removed]",
      "text/plain": [
       "<Figure size 432x288 with 1 Axes>"
      ]
     },
     "metadata": {
      "needs_background": "light"
     },
     "output_type": "display_data"
    }
   ],
   "source": [
    "# Посмотрим на сезонность в течение двух суток\n",
    "decomposed.seasonal.head(48).plot()"
   ]
  },
  {
   "cell_type": "markdown",
   "metadata": {},
   "source": [
    "Мы видим ярко выраженную цикличность числа заказов такси в течение дня: самое низкое число заказов в 6 утра, самое высокое - в полночь, также заметны два пика в течение дня: в 9 утра и в 16 часов.\n",
    "\n",
    "Также заметен тренд на плавное увеличение числа заказов по месяцам, особенно ярко выраженный в конце месяца. При этом в августе возрастает и дисперсия в данных. Вычислим разницу временного ряда, чтобы сделать его более стационарным."
   ]
  },
  {
   "cell_type": "code",
   "execution_count": 13,
   "metadata": {
    "scrolled": true
   },
   "outputs": [
    {
     "data": {
      "text/plain": [
       "<AxesSubplot:xlabel='datetime'>"
      ]
     },
     "execution_count": 13,
     "metadata": {},
     "output_type": "execute_result"
    },
    {
     "data": {
      "image/png": "[encoded data removed]",
      "text/plain": [
       "<Figure size 432x288 with 1 Axes>"
      ]
     },
     "metadata": {
      "needs_background": "light"
     },
     "output_type": "display_data"
    }
   ],
   "source": [
    "# Посмотрим, как меняется скользящее среднее - возьмем интервал в месяц\n",
    "df['rolling_mean'] = df['num_orders'].rolling(720).mean()\n",
    "df.plot()\n"
   ]
  },
  {
   "cell_type": "markdown",
   "metadata": {},
   "source": [
    "<div class=\"alert alert-success\" style=\"border-color: green; border-radius: 5px\">\n",
    "    <p><u><b>✅ КОММЕНТАРИЙ РЕВЬЮЕРА</b></u></p>\n",
    "    <p>\n",
    "Исследование - понятно<br>\n",
    "Инструмент декомпозиции в частности, а графический анализ временных рядов как в принципе - важный этап моделирования рядов.<br> Позволяет увидеть продажи визуально, а это помогает сделать предвариетльные выводы<br>\n",
    "    \n",
    "Хочу озвучить ещё такой момент<br>\n",
    "В реальности бизнеса есть все три вида сезонности:<br>\n",
    "1) дневная сезонность -  данные собраны по дням, т.е. будни и выходные имеют разные продажи<br>\n",
    "2) внутрисуточная сезонность: когда продажи утром отличаются от продаж вечером <br>\n",
    "3) месячная сезонность: когда продажи лета и осени - разные.<br><br>\n",
    "И если строить прогноз на длительный период времени, то без учёта всех видов сезонности  - не обойтись<br>\n",
    "Например: есть в данных восходящий тренд. Но вопрос такой возникает: <br>\n",
    "этот подъём действительно за счёт роста компании (чаще всего тренд - это отражение роста компании) или есть ещё влияние месячной сезнности? (летом - продаж в рост, например, и именно этот момент мы наблюдаем в данных)<br>\n",
    "Ответ на вопрос - не протой на имеющихся данных - у нас данных меньше года. А это означает, что месячную сезонность нам не просто вычислить адекватно - т.е. не внести в модель корректтировки месяцев(<br>\n",
    "Поэтому, я бы дал такой совет:<br>\n",
    "на горизонте прогнозирования - несколько часов или дней - можно предположить что у нас тренд.<br>\n",
    "А если строить прогноз на несколько недель - вот тут утверждать наличие тренда надо с большой осторожностью))))<br><br>\n",
    "Ну, а если вернуться к постановке задаче - построить прогноз на час (очень маленький горизонт), то двух сезонности часовой и дневной - должно хватить."
   ]
  },
  {
   "cell_type": "code",
   "execution_count": 14,
   "metadata": {},
   "outputs": [],
   "source": [
    "df.drop('rolling_mean', axis=1, inplace=True)"
   ]
  },
  {
   "cell_type": "code",
   "execution_count": 15,
   "metadata": {
    "scrolled": true
   },
   "outputs": [
    {
     "data": {
      "text/plain": [
       "<AxesSubplot:xlabel='datetime'>"
      ]
     },
     "execution_count": 15,
     "metadata": {},
     "output_type": "execute_result"
    },
    {
     "data": {
      "image/png": "[encoded data removed]",
      "text/plain": [
       "<Figure size 432x288 with 1 Axes>"
      ]
     },
     "metadata": {
      "needs_background": "light"
     },
     "output_type": "display_data"
    }
   ],
   "source": [
    "df_shifted = df - df.shift()\n",
    "df_shifted['rolling_mean'] = df_shifted['num_orders'].rolling(168).mean() # среднее\n",
    "df_shifted['std'] = df_shifted['num_orders'].rolling(168).std() # стандартное отклонение\n",
    "df_shifted.plot()"
   ]
  },
  {
   "cell_type": "markdown",
   "metadata": {},
   "source": [
    "При вычетании предыдущих значений временной ряд становится более стационарным: выравнивается среднее, хотя стандартное отклонение еще несколько увеличивается к концу."
   ]
  },
  {
   "cell_type": "code",
   "execution_count": 16,
   "metadata": {},
   "outputs": [],
   "source": [
    "# Запуталась, нужно ли использовать эти данные при обучении? Сейас не использую."
   ]
  },
  {
   "cell_type": "markdown",
   "metadata": {},
   "source": [
    "<div class=\"alert alert-success\" style=\"border-color: green; border-radius: 5px\">\n",
    "    <p><u><b>✅ КОММЕНТАРИЙ РЕВЬЮЕРА</b></u></p>\n",
    "есть три вида нестационарности: тренд, сезонность, непостоянство дисперсии)<br>\n",
    "Стационарный ряд - это когда ничего из перечисленного в ряде не наблюдается (очистили его). Нужно это для одного из методов прогрнозироваия АРИМА, например. Для нашегго метода прогнозирования (регрессия) это понятие можно не использовать.</div>"
   ]
  },
  {
   "cell_type": "markdown",
   "metadata": {},
   "source": [
    "## Обучение"
   ]
  },
  {
   "cell_type": "markdown",
   "metadata": {},
   "source": [
    "Наша задача - спрогнозировать число заказов на следующий час. План такой:\n",
    "* Подготовим функцию для добавления обучающих признаков \n",
    "* Подготовим метрику RMSE\n",
    "* Обучим модель линейной регрессии с разными гиперпараметрами и выберем оптимальные по метрике\n",
    "* Проведем замеры для проверки моделей на вменяемость\n",
    "* Запустим лучшую модель на тестовой выборке"
   ]
  },
  {
   "cell_type": "markdown",
   "metadata": {},
   "source": [
    "### Проверка на вменяемость"
   ]
  },
  {
   "cell_type": "code",
   "execution_count": 17,
   "metadata": {},
   "outputs": [
    {
     "name": "stdout",
     "output_type": "stream",
     "text": [
      "Средний объем вызовов в час: 140\n",
      "RMSE при предсказании средним: 87\n",
      "RMSE при предсказании предыдущим значением: 59\n"
     ]
    }
   ],
   "source": [
    "# Проведем два замера для проверки на вменяемость\n",
    "\n",
    "# Разделим данные на обучающую и тестовую выборку\n",
    "train, test = train_test_split(df, shuffle=False, test_size=0.1)\n",
    "\n",
    "print('Средний объем вызовов в час:', round(test['num_orders'].mean()))\n",
    "\n",
    "# 1. Предскажем значения константой. Для метрики  RMSE подойдет среднее.\n",
    "\n",
    "pred_median = np.ones(test.shape) * train.median().values\n",
    "min_rmse_crazy = round(mean_squared_error(test, pred_median, squared=False))\n",
    "print('RMSE при предсказании средним:', min_rmse_crazy)\n",
    "\n",
    "# 2. Спрогнозируем новое значение предыдущим значением ряда\n",
    "\n",
    "train_last = train.iloc[-1, :].values[0]\n",
    "pred_previous = test.shift(1, fill_value=train_last)\n",
    "rmse_prev = round(mean_squared_error(test, pred_previous, squared=False))\n",
    "print(\"RMSE при предсказании предыдущим значением:\", rmse_prev)\n",
    "\n",
    "# Запишем наилучшее значением RMSE для проверки моделей на вменяемость\n",
    "if min_rmse_crazy > rmse_prev:\n",
    "    min_rmse_crazy = rmse_prev\n"
   ]
  },
  {
   "cell_type": "markdown",
   "metadata": {},
   "source": [
    "### Обучение модели линейной регрессии"
   ]
  },
  {
   "cell_type": "code",
   "execution_count": 18,
   "metadata": {},
   "outputs": [],
   "source": [
    "def best_model_from_features(data_empty, max_lag, rolling_mean_size, best_rmse):\n",
    "    '''\n",
    "    Функция принимает данные, а также гиперпараметры (размер интервалов для предыдущих значений и скользящего среднего) и значение лучшее известное значение RMSE\n",
    "    Добавляет признаки:\n",
    "    1) календарных признаков\n",
    "    2) предыдущих значений временного ряда в соответствии с заданным интервалом - это показывает, растет функция или уменьшается\n",
    "    3) скользящее среднее в соответствии с заданным интервалом - оно задает тренд временного ряда\n",
    "    Разбивает данные на выборки, обучает модель и рассчитывает RMSE.\n",
    "    Возвращает RMSE на валидационной выборке, модель, тестовую выборку.\n",
    "    '''\n",
    "    \n",
    "    print (f'\\nМодель с параметрами max_lag {max_lag}, rolling_mean_size {rolling_mean_size}:\\n')\n",
    "    \n",
    "    # Сделаем рабочую копию исходного датасета\n",
    "    data = data_empty.copy()\n",
    "    \n",
    "    # добавим календарные среднее\n",
    "    #data['year'] = data.index.year # исправлено после ревью\n",
    "    #data['month'] = data.index.month # исправлено после ревью\n",
    "    #data['day'] = data.index.day # исправлено после ревью\n",
    "    data['hour'] = data.index.hour\n",
    "    data['dayofweek'] = data.index.dayofweek\n",
    "    \n",
    "    # добавим столбцы с предыдущими значениями\n",
    "    for lag in range(1, max_lag + 1):\n",
    "        data['lag_{}'.format(lag)] = data['num_orders'].shift(lag)\n",
    "\n",
    "    # добавим скользящее среднее\n",
    "    data['rolling_mean'] = data['num_orders'].shift(1).rolling(rolling_mean_size).mean() # Добавляем shift, чтобы не учитывать текущее значение \n",
    "    \n",
    "    \n",
    "    # Разделим датасет на последовательные (в хронологическом порядке) выборки: обучающую, валидационную и тестовую в пропорции 81%  - 9% - 10% (по условию задачи на тестовые выборки выделяется 10%)\n",
    "    \n",
    "    # Отделим данные для тестовой выборки\n",
    "    train, test = train_test_split(data, shuffle=False, test_size=0.1) # указываем shuffle=False, чтобы выборки были последовательными\n",
    "    train=train.dropna() # удалим первые строки с пропусками\n",
    "    # Отделим данные для валидационной и обучающей выборки  \n",
    "    train, valid = train_test_split(train, shuffle=False, test_size=0.1) # указываем shuffle=False, чтобы выборки были последовательными\n",
    "    \n",
    "    # для проверки начальных дат каждоый выборки\n",
    "    # for i in [train, valid, test]:\n",
    "    #    print (i.index[0])\n",
    "\n",
    "    # отделим целевые признаки\n",
    "    features_train = train.drop('num_orders', axis=1)\n",
    "    target_train = train['num_orders']\n",
    "    features_valid = valid.drop('num_orders', axis=1)\n",
    "    target_valid = valid['num_orders']\n",
    "    \n",
    "    \n",
    "    # Обучим модель\n",
    "    \n",
    "    start_time = time.time() # засечем время на обучение\n",
    "    \n",
    "    model = LinearRegression()\n",
    "    model.fit(features_train, target_train)\n",
    "    time_train = round(time.time() - start_time, 2) # запишем время на обучение\n",
    "    \n",
    "    # Сделаем прогноз\n",
    "    \n",
    "    predictions_valid = model.predict(features_valid)\n",
    "    predictions_train = model.predict(features_train)\n",
    "    \n",
    "    # Посчитаем RMSE для предсказаний на обучающей и валидационной выборке\n",
    "    rmse_train = round(mean_squared_error(target_train, predictions_train, squared=False))  # при squared=False возвращает RMSE\n",
    "    rmse_valid = round(mean_squared_error(target_valid, predictions_valid, squared=False))\n",
    "    \n",
    "    print('Время обучения:', time_train)\n",
    "    print('RMSE на обучающей выборке:', rmse_train)\n",
    "    print('RMSE на валидационной выборке: ', rmse_valid)\n",
    "    \n",
    "    return rmse_valid, model, test"
   ]
  },
  {
   "cell_type": "markdown",
   "metadata": {},
   "source": [
    "<div class=\"alert alert-danger\" style=\"border-color: darkred; border-radius: 5px\">\n",
    "    <p><u><b>❌ КОММЕНТАРИЙ РЕВЬЮЕРА</b></u></p>\n",
    "На мой взгляд: не все факторы подходят, чисто логически. Выскажу свою позицию:<br><br>\n",
    "\n",
    "1) Фактор год: НЕТ, однозначно не подходит. У нас данных меньше года. Поэтому будет просто константа.<br>\n",
    "2) Фактор месяц: НЕТ, аналогично году, у нас в истории всего один март, май.... Да и горизоно прогноза - часы. Поэтому сезонность времени года будет просто в тренде уже заложена.<br>\n",
    "3) Фактор день: НЕТ, также не подходит, будет просто последовательность чисел<br>\n",
    "4) Фактор день недели: ДА, т.к. у нас есть недельная сезонность<br>\n",
    "5) Фактор час: ДА, т.к. есть часовая (суточная) сезонность.<br>\n",
    "6) Факто lag: ДА, это параметр авторегрессии - учёт влияния вчерашних событий на сегодняшние.<br>\n",
    "7) Фактор rolling: ДА, это аналог тренда. Чем больше окно сглаживания, тем ровнее линия тренда <br>\n",
    "\n",
    "Как ты думаешь?</div>"
   ]
  },
  {
   "cell_type": "markdown",
   "metadata": {},
   "source": [
    " <div class=\"alert alert-info\">\n",
    "    <b> Комментарий студента</b>\n",
    "\n",
    "Да, действительно, год, месяц и день - лишние признаки! Убрала их в блоке выше.\n",
    "    </div>"
   ]
  },
  {
   "cell_type": "markdown",
   "metadata": {},
   "source": [
    "<div class=\"alert alert-success\" style=\"border-color: green; border-radius: 5px\">\n",
    "    <p><u><b>✅ КОММЕНТАРИЙ РЕВЬЮЕРА</b></u></p> Сразу пару строк о факторе месяц:<br>\n",
    "Если нам брать горизонт прогноза месяц или два , то фактор месяц - очень важне  это факт. А если брать горизонт прогноза несколько часов, то фактор времени года - на таком отрезке времени и не заметен. К тому же, он уже присутствует в тренде (скользящем среднем). Т.е. его участие локально как бы и есть.<br>\n",
    "\n",
    "То, что сейчас месяц может увеличивать точность - это случайно. Он ведь представлен как числа от 1 до 8 и ещё есть тренд, как раз. Т.е. произошло наложение тренда и номера месяца. А вот если продажи буду уходить вниз (или перестанут расти), а мы будем продолжать пользовться моделью, то модель будет предсказывать рост на сентябрь (цифра 9), на октябпрь (цифра 10)... т.е. чиссто числовая тенденция)<br>\n",
    "    \n",
    "Поэтому, рекомендация для будущих проетов на эту тему:<br>\n",
    "Учитывать горизонт прогноза: если задача стоит среднесрочного и долгосрочного прогноза, то месяц нам в помощь (при этом данных должно быть не меннее 2-х / 3-х лет). Если задача краткосрочного прогнозирования - месяц не надо использовать, он уже в тренде заложен.</div>"
   ]
  },
  {
   "cell_type": "code",
   "execution_count": null,
   "metadata": {},
   "outputs": [],
   "source": []
  },
  {
   "cell_type": "code",
   "execution_count": 19,
   "metadata": {},
   "outputs": [
    {
     "name": "stdout",
     "output_type": "stream",
     "text": [
      "\n",
      "Модель с параметрами max_lag 1, rolling_mean_size 1:\n",
      "\n",
      "Время обучения: 0.0\n",
      "RMSE на обучающей выборке: 30\n",
      "RMSE на валидационной выборке:  44\n",
      "\n",
      "Модель с параметрами max_lag 1, rolling_mean_size 3:\n",
      "\n",
      "Время обучения: 0.0\n",
      "RMSE на обучающей выборке: 30\n",
      "RMSE на валидационной выборке:  44\n",
      "\n",
      "Модель с параметрами max_lag 1, rolling_mean_size 6:\n",
      "\n",
      "Время обучения: 0.0\n",
      "RMSE на обучающей выборке: 30\n",
      "RMSE на валидационной выборке:  43\n",
      "\n",
      "Модель с параметрами max_lag 1, rolling_mean_size 12:\n",
      "\n",
      "Время обучения: 0.0\n",
      "RMSE на обучающей выборке: 30\n",
      "RMSE на валидационной выборке:  42\n",
      "\n",
      "Модель с параметрами max_lag 1, rolling_mean_size 24:\n",
      "\n",
      "Время обучения: 0.0\n",
      "RMSE на обучающей выборке: 30\n",
      "RMSE на валидационной выборке:  41\n",
      "\n",
      "Модель с параметрами max_lag 1, rolling_mean_size 168:\n",
      "\n",
      "Время обучения: 0.0\n",
      "RMSE на обучающей выборке: 30\n",
      "RMSE на валидационной выборке:  41\n",
      "\n",
      "Модель с параметрами max_lag 1, rolling_mean_size 720:\n",
      "\n",
      "Время обучения: 0.0\n",
      "RMSE на обучающей выборке: 31\n",
      "RMSE на валидационной выборке:  41\n",
      "\n",
      "Модель с параметрами max_lag 3, rolling_mean_size 1:\n",
      "\n",
      "Время обучения: 0.0\n",
      "RMSE на обучающей выборке: 30\n",
      "RMSE на валидационной выборке:  44\n",
      "\n",
      "Модель с параметрами max_lag 3, rolling_mean_size 3:\n",
      "\n",
      "Время обучения: 0.0\n",
      "RMSE на обучающей выборке: 30\n",
      "RMSE на валидационной выборке:  44\n",
      "\n",
      "Модель с параметрами max_lag 3, rolling_mean_size 6:\n",
      "\n",
      "Время обучения: 0.0\n",
      "RMSE на обучающей выборке: 30\n",
      "RMSE на валидационной выборке:  43\n",
      "\n",
      "Модель с параметрами max_lag 3, rolling_mean_size 12:\n",
      "\n",
      "Время обучения: 0.0\n",
      "RMSE на обучающей выборке: 30\n",
      "RMSE на валидационной выборке:  42\n",
      "\n",
      "Модель с параметрами max_lag 3, rolling_mean_size 24:\n",
      "\n",
      "Время обучения: 0.0\n",
      "RMSE на обучающей выборке: 29\n",
      "RMSE на валидационной выборке:  41\n",
      "\n",
      "Модель с параметрами max_lag 3, rolling_mean_size 168:\n",
      "\n",
      "Время обучения: 0.0\n",
      "RMSE на обучающей выборке: 29\n",
      "RMSE на валидационной выборке:  41\n",
      "\n",
      "Модель с параметрами max_lag 3, rolling_mean_size 720:\n",
      "\n",
      "Время обучения: 0.0\n",
      "RMSE на обучающей выборке: 30\n",
      "RMSE на валидационной выборке:  41\n",
      "\n",
      "Модель с параметрами max_lag 6, rolling_mean_size 1:\n",
      "\n",
      "Время обучения: 0.0\n",
      "RMSE на обучающей выборке: 30\n",
      "RMSE на валидационной выборке:  43\n",
      "\n",
      "Модель с параметрами max_lag 6, rolling_mean_size 3:\n",
      "\n",
      "Время обучения: 0.0\n",
      "RMSE на обучающей выборке: 30\n",
      "RMSE на валидационной выборке:  43\n",
      "\n",
      "Модель с параметрами max_lag 6, rolling_mean_size 6:\n",
      "\n",
      "Время обучения: 0.0\n",
      "RMSE на обучающей выборке: 30\n",
      "RMSE на валидационной выборке:  43\n",
      "\n",
      "Модель с параметрами max_lag 6, rolling_mean_size 12:\n",
      "\n",
      "Время обучения: 0.0\n",
      "RMSE на обучающей выборке: 30\n",
      "RMSE на валидационной выборке:  42\n",
      "\n",
      "Модель с параметрами max_lag 6, rolling_mean_size 24:\n",
      "\n",
      "Время обучения: 0.0\n",
      "RMSE на обучающей выборке: 29\n",
      "RMSE на валидационной выборке:  41\n",
      "\n",
      "Модель с параметрами max_lag 6, rolling_mean_size 168:\n",
      "\n",
      "Время обучения: 0.09\n",
      "RMSE на обучающей выборке: 29\n",
      "RMSE на валидационной выборке:  40\n",
      "\n",
      "Модель с параметрами max_lag 6, rolling_mean_size 720:\n",
      "\n",
      "Время обучения: 0.0\n",
      "RMSE на обучающей выборке: 30\n",
      "RMSE на валидационной выборке:  41\n",
      "\n",
      "Модель с параметрами max_lag 12, rolling_mean_size 1:\n",
      "\n",
      "Время обучения: 0.01\n",
      "RMSE на обучающей выборке: 29\n",
      "RMSE на валидационной выборке:  41\n",
      "\n",
      "Модель с параметрами max_lag 12, rolling_mean_size 3:\n",
      "\n",
      "Время обучения: 0.0\n",
      "RMSE на обучающей выборке: 29\n",
      "RMSE на валидационной выборке:  41\n",
      "\n",
      "Модель с параметрами max_lag 12, rolling_mean_size 6:\n",
      "\n",
      "Время обучения: 0.09\n",
      "RMSE на обучающей выборке: 29\n",
      "RMSE на валидационной выборке:  41\n",
      "\n",
      "Модель с параметрами max_lag 12, rolling_mean_size 12:\n",
      "\n",
      "Время обучения: 0.0\n",
      "RMSE на обучающей выборке: 29\n",
      "RMSE на валидационной выборке:  41\n",
      "\n",
      "Модель с параметрами max_lag 12, rolling_mean_size 24:\n",
      "\n",
      "Время обучения: 0.0\n",
      "RMSE на обучающей выборке: 29\n",
      "RMSE на валидационной выборке:  40\n",
      "\n",
      "Модель с параметрами max_lag 12, rolling_mean_size 168:\n",
      "\n",
      "Время обучения: 0.0\n",
      "RMSE на обучающей выборке: 29\n",
      "RMSE на валидационной выборке:  40\n",
      "\n",
      "Модель с параметрами max_lag 12, rolling_mean_size 720:\n",
      "\n",
      "Время обучения: 0.0\n",
      "RMSE на обучающей выборке: 30\n",
      "RMSE на валидационной выборке:  40\n",
      "\n",
      "Модель с параметрами max_lag 24, rolling_mean_size 1:\n",
      "\n",
      "Время обучения: 0.09\n",
      "RMSE на обучающей выборке: 25\n",
      "RMSE на валидационной выборке:  34\n",
      "\n",
      "Модель с параметрами max_lag 24, rolling_mean_size 3:\n",
      "\n",
      "Время обучения: 0.01\n",
      "RMSE на обучающей выборке: 25\n",
      "RMSE на валидационной выборке:  34\n",
      "\n",
      "Модель с параметрами max_lag 24, rolling_mean_size 6:\n",
      "\n",
      "Время обучения: 0.01\n",
      "RMSE на обучающей выборке: 25\n",
      "RMSE на валидационной выборке:  34\n",
      "\n",
      "Модель с параметрами max_lag 24, rolling_mean_size 12:\n",
      "\n",
      "Время обучения: 0.08\n",
      "RMSE на обучающей выборке: 25\n",
      "RMSE на валидационной выборке:  34\n",
      "\n",
      "Модель с параметрами max_lag 24, rolling_mean_size 24:\n",
      "\n",
      "Время обучения: 0.08\n",
      "RMSE на обучающей выборке: 25\n",
      "RMSE на валидационной выборке:  34\n",
      "\n",
      "Модель с параметрами max_lag 24, rolling_mean_size 168:\n",
      "\n",
      "Время обучения: 0.01\n",
      "RMSE на обучающей выборке: 25\n",
      "RMSE на валидационной выборке:  34\n",
      "\n",
      "Модель с параметрами max_lag 24, rolling_mean_size 720:\n",
      "\n",
      "Время обучения: 0.01\n",
      "RMSE на обучающей выборке: 25\n",
      "RMSE на валидационной выборке:  34\n",
      "\n",
      "Модель с параметрами max_lag 168, rolling_mean_size 1:\n",
      "\n",
      "Время обучения: 0.28\n",
      "RMSE на обучающей выборке: 19\n",
      "RMSE на валидационной выборке:  28\n",
      "\n",
      "Модель с параметрами max_lag 168, rolling_mean_size 3:\n",
      "\n",
      "Время обучения: 0.2\n",
      "RMSE на обучающей выборке: 19\n",
      "RMSE на валидационной выборке:  28\n",
      "\n",
      "Модель с параметрами max_lag 168, rolling_mean_size 6:\n",
      "\n",
      "Время обучения: 0.3\n",
      "RMSE на обучающей выборке: 19\n",
      "RMSE на валидационной выборке:  28\n",
      "\n",
      "Модель с параметрами max_lag 168, rolling_mean_size 12:\n",
      "\n",
      "Время обучения: 0.3\n",
      "RMSE на обучающей выборке: 19\n",
      "RMSE на валидационной выборке:  28\n",
      "\n",
      "Модель с параметрами max_lag 168, rolling_mean_size 24:\n",
      "\n",
      "Время обучения: 0.17\n",
      "RMSE на обучающей выборке: 19\n",
      "RMSE на валидационной выборке:  28\n",
      "\n",
      "Модель с параметрами max_lag 168, rolling_mean_size 168:\n",
      "\n",
      "Время обучения: 0.2\n",
      "RMSE на обучающей выборке: 19\n",
      "RMSE на валидационной выборке:  28\n",
      "\n",
      "Модель с параметрами max_lag 168, rolling_mean_size 720:\n",
      "\n",
      "Время обучения: 0.26\n",
      "RMSE на обучающей выборке: 20\n",
      "RMSE на валидационной выборке:  29\n",
      "\n",
      "Модель с параметрами max_lag 720, rolling_mean_size 1:\n",
      "\n",
      "Время обучения: 2.17\n",
      "RMSE на обучающей выборке: 17\n",
      "RMSE на валидационной выборке:  31\n",
      "\n",
      "Модель с параметрами max_lag 720, rolling_mean_size 3:\n",
      "\n",
      "Время обучения: 2.88\n",
      "RMSE на обучающей выборке: 18\n",
      "RMSE на валидационной выборке:  31\n",
      "\n",
      "Модель с параметрами max_lag 720, rolling_mean_size 6:\n",
      "\n",
      "Время обучения: 2.58\n",
      "RMSE на обучающей выборке: 17\n",
      "RMSE на валидационной выборке:  31\n",
      "\n",
      "Модель с параметрами max_lag 720, rolling_mean_size 12:\n",
      "\n",
      "Время обучения: 2.5\n",
      "RMSE на обучающей выборке: 17\n",
      "RMSE на валидационной выборке:  31\n",
      "\n",
      "Модель с параметрами max_lag 720, rolling_mean_size 24:\n",
      "\n",
      "Время обучения: 2.22\n",
      "RMSE на обучающей выборке: 18\n",
      "RMSE на валидационной выборке:  32\n",
      "\n",
      "Модель с параметрами max_lag 720, rolling_mean_size 168:\n",
      "\n",
      "Время обучения: 2.32\n",
      "RMSE на обучающей выборке: 17\n",
      "RMSE на валидационной выборке:  31\n",
      "\n",
      "Модель с параметрами max_lag 720, rolling_mean_size 720:\n",
      "\n",
      "Время обучения: 2.29\n",
      "RMSE на обучающей выборке: 17\n",
      "RMSE на валидационной выборке:  31\n",
      "\n",
      "\n",
      "Параметры лучшей модели {'max_lag': 168, 'rolling_mean_size': 1}\n"
     ]
    }
   ],
   "source": [
    "best_rmse = min_rmse_crazy\n",
    "best_model = None\n",
    "best_params = {}\n",
    "intervals = [1, 3, 6, 12, 24, 168, 720]\n",
    "\n",
    "for  max_lag in intervals:\n",
    "    for rolling_mean_size in intervals:\n",
    "        rmse_valid, model, test = best_model_from_features(df, max_lag, rolling_mean_size, min_rmse_crazy)\n",
    "        \n",
    "        # Запишем модель с лучшим RMSE и ее параметры\n",
    "        if rmse_valid < best_rmse:\n",
    "            best_rmse = rmse_valid\n",
    "            best_model = model\n",
    "            best_params = {'max_lag' : max_lag, 'rolling_mean_size' : rolling_mean_size}\n",
    "            best_test = test\n",
    "        \n",
    "print ('\\n\\nПараметры лучшей модели', best_params)"
   ]
  },
  {
   "cell_type": "markdown",
   "metadata": {},
   "source": [
    "<div class=\"alert alert-success\" style=\"border-color: green; border-radius: 5px\">\n",
    "    <p><u><b>✅ КОММЕНТАРИЙ РЕВЬЮЕРА</b></u></p>Пару строк по фактору лаг и скользящее среднее:<br>\n",
    "Lag: его называют ещё параметром авторегрессии. На бытовом уровне его можно понять так: допустим вчера мы собрались с друзьями и не много закусили.... повлияет ли это на сегодняшний настрой на жизнь? Скорее да)))) Так вот с авторегрессией также. Допустим lag=1 - учитывает (для удобства будем считать, что продажи собраны по дням) как вчерашние продажи - вчерашние события - воалияли на сегоняшние.Lag=2: учитывает как позавчерашние продажи влияютна сегодняшние.....<br>\n",
    "    \n",
    "По скользящему среднего:<br>\n",
    "Предположим rolling=10 - скользящее среднее. По сути, ищем среднее по 10 точкам, потом следующие 10 точек, и т.д. - это некое подобие тренда будет - средней линии. Т.е. - сглаживание колебаний/выбросов. Это легко увидеть на пределе: допустим длина ряда 100 дней. rolling(100) - это просто одно число - среднее всего ряда. <br>\n",
    "    \n",
    "Поэтому, если выставить сезонности - hour и деньНедели, то дополнительные факторы могут быть такие: лаг =1 (максимум 2), а скользящее среднее = 24 (среднее за сутки). Т.е. начинать с этого. В итоге модель будет приемлемая по точности и не много факторов.. а это значит и для бизнеса будет легче доносить решение)</div>"
   ]
  },
  {
   "cell_type": "code",
   "execution_count": null,
   "metadata": {},
   "outputs": [],
   "source": []
  },
  {
   "cell_type": "markdown",
   "metadata": {},
   "source": [
    "## Тестирование"
   ]
  },
  {
   "cell_type": "code",
   "execution_count": 20,
   "metadata": {},
   "outputs": [
    {
     "name": "stdout",
     "output_type": "stream",
     "text": [
      "RMSE лучшей модели на тестовой выборке:  35\n"
     ]
    }
   ],
   "source": [
    "# Разделим тестовую выборку с лучшими гиперпараметрами на признаки и целевые признакм.\n",
    "features_test = best_test.drop('num_orders', axis=1)\n",
    "target_test = best_test['num_orders']\n",
    "\n",
    "predictions_test = best_model.predict(features_test)\n",
    "rmse_test = round(mean_squared_error(target_test, predictions_test, squared=False))\n",
    "\n",
    "print('RMSE лучшей модели на тестовой выборке: ', rmse_test)"
   ]
  },
  {
   "cell_type": "markdown",
   "metadata": {},
   "source": [
    " <div class=\"alert alert-info\">\n",
    "    <b> Комментарий студента</b>\n",
    "    \n",
    "Тут я добавила графики и сравнила лучшую модель с моделью с меньшим числом параметров.\n",
    "    </div>"
   ]
  },
  {
   "cell_type": "code",
   "execution_count": 21,
   "metadata": {},
   "outputs": [
    {
     "data": {
      "text/plain": [
       "<AxesSubplot:xlabel='datetime'>"
      ]
     },
     "execution_count": 21,
     "metadata": {},
     "output_type": "execute_result"
    },
    {
     "data": {
      "image/png": "[encoded data removed]",
      "text/plain": [
       "<Figure size 432x288 with 1 Axes>"
      ]
     },
     "metadata": {
      "needs_background": "light"
     },
     "output_type": "display_data"
    }
   ],
   "source": [
    "# Добавлено после ревью\n",
    "\n",
    "# Построим график расхождения предсказаний модели с реальными значениями за 48 часов\n",
    "\n",
    "pd.DataFrame({'predictions' : predictions_test[:48], 'num_orders' : target_test[:48]}).plot()"
   ]
  },
  {
   "cell_type": "code",
   "execution_count": 22,
   "metadata": {},
   "outputs": [
    {
     "name": "stdout",
     "output_type": "stream",
     "text": [
      "\n",
      "Модель с параметрами max_lag 1, rolling_mean_size 2:\n",
      "\n",
      "Время обучения: 0.0\n",
      "RMSE на обучающей выборке: 30\n",
      "RMSE на валидационной выборке:  44\n",
      "Модель с лагом 1 и rolling mean с интервалом 2:\n",
      "RMSE на тестовой выборке:  58\n"
     ]
    },
    {
     "data": {
      "text/plain": [
       "<AxesSubplot:xlabel='datetime'>"
      ]
     },
     "execution_count": 22,
     "metadata": {},
     "output_type": "execute_result"
    },
    {
     "data": {
      "image/png": "[encoded data removed]",
      "text/plain": [
       "<Figure size 432x288 with 1 Axes>"
      ]
     },
     "metadata": {
      "needs_background": "light"
     },
     "output_type": "display_data"
    }
   ],
   "source": [
    "# Добавлено после ревью\n",
    "# Прогноз при обучении модели на признаках с лагом 1 и rolling mean с интервалом 2\n",
    "\n",
    "rmse_valid, model, test = best_model_from_features(df, 1, 2, min_rmse_crazy)\n",
    "# Разделим тестовую выборку с лучшими гиперпараметрами на признаки и целевые признакм.\n",
    "features_test = test.drop('num_orders', axis=1)\n",
    "target_test = test['num_orders']\n",
    "\n",
    "predictions_simple = model.predict(features_test)\n",
    "rmse_test = round(mean_squared_error(target_test, predictions_simple, squared=False))\n",
    "\n",
    "print('Модель с лагом 1 и rolling mean с интервалом 2:')\n",
    "print('RMSE на тестовой выборке: ', rmse_test)\n",
    "\n",
    "pd.DataFrame({'predictions' : predictions_simple[:48], 'num_orders' : target_test[:48]}).plot()"
   ]
  },
  {
   "cell_type": "markdown",
   "metadata": {},
   "source": [
    "## Вывод"
   ]
  },
  {
   "cell_type": "markdown",
   "metadata": {},
   "source": [
    "Мы отобрали модель, показавшую лучшее RMSE при проверке на валидационной выборке (28). При проверке на тестовой выборке качество прогноза ухудшилось: RMSE (36) осталось в рамках допустимого диапазона (не больше 48) и прошло проверку на вменяемость (RMSE при прогнозе предыдущим значением 59, при предсказании средним - 87)."
   ]
  },
  {
   "cell_type": "markdown",
   "metadata": {},
   "source": [
    "<div class=\"alert alert-success\" style=\"border-color: green; border-radius: 5px\">\n",
    "    <p><u><b>✅ КОММЕНТАРИЙ РЕВЬЮЕРА</b></u></p>\n",
    "ОК, Наталья, с модельной частью тебе удалось справиться хорошо!<br>\n",
    "Видно, что этот скил уже достаточно сильный.<br>\n",
    "Метрика - ОК. Но не понятно, если честно, а хороша ли эта модель в плане предсказания? Для этого лучше построить дополнительно график (чуть ниженаписал об этом).<br>\n",
    "    \n",
    "И если сутейно рассуждать, то временные ряды стоят особняком во всём курсе, я бы сказал. Тут чуть иная модельная философия. Имменно поэтому позволял себе оставлять большие рассуждения, чтобы как-то раскрыть её особенности.<br>\n",
    "        \n",
    "Оставил несколько комментариев в тексте - готов буду ответить на твои вопросы!<br>\n",
    "<font color='red'>    \n",
    "Также попрошу вот что:<br>\n",
    "Выведи, пожалуйста графики факт/предсказанное на одном рисунке (обычный линейный график). Чтобы увидеть где основные не \"попадалки\" модели. Это один из важнейших инструментов анализа результатов моделирования временных рядов.<br>\n",
    "Лучше выбрать масштаб, скажем, несколько дней, чтобы увиеть можо было и сравнить каждый час.<br>    \n",
    "<font color='green'>\n",
    "Спасибо)<BR>\n",
    "БУДУ ЖДАТЬ КОММЕНТАРИЕВ</div> "
   ]
  },
  {
   "attachments": {
    "image.png": {
     "image/png": "[encoded data removed]"
    }
   },
   "cell_type": "markdown",
   "metadata": {},
   "source": [
    "![image.png](attachment:image.png)"
   ]
  },
  {
   "cell_type": "markdown",
   "metadata": {},
   "source": [
    "## Чек-лист проверки"
   ]
  },
  {
   "cell_type": "markdown",
   "metadata": {},
   "source": [
    "- [x]  Jupyter Notebook открыт\n",
    "- [ ]  Весь код выполняется без ошибок\n",
    "- [ ]  Ячейки с кодом расположены в порядке исполнения\n",
    "- [ ]  Данные загружены и подготовлены\n",
    "- [ ]  Данные проанализированы\n",
    "- [ ]  Модель обучена, гиперпараметры подобраны\n",
    "- [ ]  Качество моделей проверено, выводы сделаны\n",
    "- [ ]  Значение *RMSE* на тестовой выборке не больше 48"
   ]
  },
  {
   "cell_type": "markdown",
   "metadata": {},
   "source": [
    "<div class=\"alert alert-success\" style=\"border-color: green; border-radius: 5px\">\n",
    "    <p><u><b>✅ КОММЕНТАРИЙ РЕВЬЮЕРА</b></u></p>\n",
    "Хотел бы оставить несколько идей для твоих будущих проектов в этой обоасти<br>\n",
    "\n",
    "На мой взгляд, в этой теме (временные ряды) главное - необходимо чувствовать исходный ряд продаж, с точки зрения бизнеса, и уже только потом подбирать к нему модели. Каждое колебание временного ряда - это деньги для бизнеса (если говорим что заказчик бизнесовый) и за \"трепетами\" данных прячутся разные семейства причин. И именно знание их помогут строить хорошие прогнозы..<br>.\n",
    "Леса, бустинги, регрессии.... могут подобрать хорошие модели на старых данных. Но иногда, как прогноз эти, модели могут оказаться пустышками - не интересными бизнесу. <br>  <br>\n",
    "Поэтому, от себя позволю добавить несколько идей:<br>\n",
    "Очень часто ищут \"волшебную таблетку\" или \"кнопку\". Нажал и само всё построилось с высокой точностью<br>\n",
    "Но такого никогода не будет)))<br>\n",
    "И причиной тому: модели нужно подсказать причины, по которым происходит колебания продаж (временного ряда): понимать причины колебаний треда, понимать аномалии, учитывать акционные продажи, видеть действия конкурентов , закладывать их в модель и т.д. <br><br>\n",
    "В общем, всё как обычно - три группы факторов: <br>\n",
    "1)внешние факторы (например выручка такси-компании зависит от количества машин на линии),<br>\n",
    "2)есть факторы внутри самих данных (Вы использовали как раз поняти лаг, сезонности), <br>\n",
    "3)есть параметры самих моделей (то, что обычно используется при моделировании леса или деревьев).<br><br>\n",
    "\n",
    "Ещё важно иметь ввиду горизонт прогноза: на кокой период строить прогноз нужно  - на час вперёд, на неделю, на месяц.<br>\n",
    "Это также накладывает ограничения на подбор моделей<br>\n",
    "Я бы рекомендовал Вам составить для себя матрицу  в разрезе: <br>\n",
    "а)есть тренд/нет тренда; <br>\n",
    "б)еть сезоннотсь/нет сезонности; <br>\n",
    "в)какой горизонт прогноза требуется; <br>\n",
    "г) есть ли у нас дополнительные факторы для модей<br>\n",
    "На пересечении знаний о моделях легко будет подобрать адкватную модель.\n",
    "Не все задачи прогнозирования временных рядов можно хорошо решить лесом и еже с ним на основе знаний только факторов ряда... Они хорошо подойдут для коротких горизонтов прогнозирования.... А если горизонт чуть больше: недели, месяцы... то тут надо подключать понимания фаткоров продаж самого бизнеса.</div> "
   ]
  },
  {
   "cell_type": "code",
   "execution_count": null,
   "metadata": {},
   "outputs": [],
   "source": []
  }
 ],
 "metadata": {
  "ExecuteTimeLog": [
   {
    "duration": 54,
    "start_time": "2022-06-24T21:42:21.615Z"
   },
   {
    "duration": 2,
    "start_time": "2022-06-24T21:43:29.526Z"
   },
   {
    "duration": 2,
    "start_time": "2022-06-24T21:43:31.165Z"
   },
   {
    "duration": 381,
    "start_time": "2022-06-24T21:43:39.965Z"
   },
   {
    "duration": 3,
    "start_time": "2022-06-24T21:44:08.896Z"
   },
   {
    "duration": 54,
    "start_time": "2022-06-24T21:44:46.010Z"
   },
   {
    "duration": 2,
    "start_time": "2022-06-24T21:45:00.545Z"
   },
   {
    "duration": 12,
    "start_time": "2022-06-24T21:45:12.219Z"
   },
   {
    "duration": 60,
    "start_time": "2022-06-24T21:45:40.911Z"
   },
   {
    "duration": 4,
    "start_time": "2022-06-24T21:46:57.421Z"
   },
   {
    "duration": 58,
    "start_time": "2022-06-24T21:47:25.885Z"
   },
   {
    "duration": 4,
    "start_time": "2022-06-24T21:47:29.393Z"
   },
   {
    "duration": 3,
    "start_time": "2022-06-24T21:49:14.209Z"
   },
   {
    "duration": 8,
    "start_time": "2022-06-24T21:49:27.360Z"
   },
   {
    "duration": 10,
    "start_time": "2022-06-24T21:49:56.254Z"
   },
   {
    "duration": 11,
    "start_time": "2022-06-24T21:50:14.042Z"
   },
   {
    "duration": 20,
    "start_time": "2022-06-24T21:50:32.991Z"
   },
   {
    "duration": 15,
    "start_time": "2022-06-24T21:50:52.132Z"
   },
   {
    "duration": 4,
    "start_time": "2022-06-24T21:52:46.485Z"
   },
   {
    "duration": 3,
    "start_time": "2022-06-24T21:53:02.722Z"
   },
   {
    "duration": 14,
    "start_time": "2022-06-24T21:53:58.067Z"
   },
   {
    "duration": 2,
    "start_time": "2022-06-24T21:55:20.429Z"
   },
   {
    "duration": 54,
    "start_time": "2022-06-24T21:55:20.433Z"
   },
   {
    "duration": 12,
    "start_time": "2022-06-24T21:55:20.488Z"
   },
   {
    "duration": 8,
    "start_time": "2022-06-24T21:56:20.410Z"
   },
   {
    "duration": 6,
    "start_time": "2022-06-24T21:56:40.630Z"
   },
   {
    "duration": 10,
    "start_time": "2022-06-24T21:57:59.701Z"
   },
   {
    "duration": 15,
    "start_time": "2022-06-24T21:58:08.322Z"
   },
   {
    "duration": 14,
    "start_time": "2022-06-24T21:58:16.520Z"
   },
   {
    "duration": 3,
    "start_time": "2022-06-24T21:58:24.617Z"
   },
   {
    "duration": 4,
    "start_time": "2022-06-24T21:58:25.813Z"
   },
   {
    "duration": 11,
    "start_time": "2022-06-24T21:58:27.681Z"
   },
   {
    "duration": 6,
    "start_time": "2022-06-24T21:58:57.962Z"
   },
   {
    "duration": 10,
    "start_time": "2022-06-24T21:59:05.910Z"
   },
   {
    "duration": 44,
    "start_time": "2022-06-24T22:00:19.106Z"
   },
   {
    "duration": 788,
    "start_time": "2022-06-24T22:01:40.621Z"
   },
   {
    "duration": 46,
    "start_time": "2022-06-24T22:02:07.040Z"
   },
   {
    "duration": 487,
    "start_time": "2022-06-24T22:04:23.142Z"
   },
   {
    "duration": 753,
    "start_time": "2022-06-24T22:04:36.861Z"
   },
   {
    "duration": 223,
    "start_time": "2022-06-24T22:05:31.388Z"
   },
   {
    "duration": 193,
    "start_time": "2022-06-24T22:05:35.506Z"
   },
   {
    "duration": 137,
    "start_time": "2022-06-24T22:05:58.168Z"
   },
   {
    "duration": 12,
    "start_time": "2022-06-24T22:06:47.421Z"
   },
   {
    "duration": 4,
    "start_time": "2022-06-24T22:06:57.137Z"
   },
   {
    "duration": 3,
    "start_time": "2022-06-24T22:07:10.327Z"
   },
   {
    "duration": 65,
    "start_time": "2022-06-24T22:07:56.940Z"
   },
   {
    "duration": 77,
    "start_time": "2022-06-24T22:09:42.969Z"
   },
   {
    "duration": 2,
    "start_time": "2022-06-24T22:10:12.689Z"
   },
   {
    "duration": 3,
    "start_time": "2022-06-24T22:10:27.890Z"
   },
   {
    "duration": 2,
    "start_time": "2022-06-24T22:10:33.293Z"
   },
   {
    "duration": 975,
    "start_time": "2022-06-24T23:05:50.795Z"
   },
   {
    "duration": 96,
    "start_time": "2022-06-24T23:05:51.772Z"
   },
   {
    "duration": 11,
    "start_time": "2022-06-24T23:05:51.870Z"
   },
   {
    "duration": 19,
    "start_time": "2022-06-24T23:05:51.883Z"
   },
   {
    "duration": 3,
    "start_time": "2022-06-24T23:05:51.904Z"
   },
   {
    "duration": 11,
    "start_time": "2022-06-24T23:05:51.909Z"
   },
   {
    "duration": 16,
    "start_time": "2022-06-24T23:05:51.922Z"
   },
   {
    "duration": 3,
    "start_time": "2022-06-24T23:05:51.939Z"
   },
   {
    "duration": 702,
    "start_time": "2022-06-24T23:05:51.944Z"
   },
   {
    "duration": 143,
    "start_time": "2022-06-24T23:05:52.648Z"
   },
   {
    "duration": 126,
    "start_time": "2022-06-24T23:07:17.257Z"
   },
   {
    "duration": 6,
    "start_time": "2022-06-24T23:07:59.935Z"
   },
   {
    "duration": 11,
    "start_time": "2022-06-24T23:08:10.990Z"
   },
   {
    "duration": 6,
    "start_time": "2022-06-24T23:08:19.306Z"
   },
   {
    "duration": 124,
    "start_time": "2022-06-24T23:08:47.474Z"
   },
   {
    "duration": 183,
    "start_time": "2022-06-24T23:09:42.203Z"
   },
   {
    "duration": 5,
    "start_time": "2022-06-24T23:10:04.476Z"
   },
   {
    "duration": 276,
    "start_time": "2022-06-24T23:10:20.992Z"
   },
   {
    "duration": 134,
    "start_time": "2022-06-24T23:11:51.846Z"
   },
   {
    "duration": 144,
    "start_time": "2022-06-24T23:12:49.818Z"
   },
   {
    "duration": 146,
    "start_time": "2022-06-24T23:14:03.130Z"
   },
   {
    "duration": 60,
    "start_time": "2022-06-24T23:14:35.868Z"
   },
   {
    "duration": 229,
    "start_time": "2022-06-24T23:17:32.044Z"
   },
   {
    "duration": 230,
    "start_time": "2022-06-24T23:18:46.961Z"
   },
   {
    "duration": 209,
    "start_time": "2022-06-24T23:19:56.248Z"
   },
   {
    "duration": 91,
    "start_time": "2022-06-24T23:24:26.850Z"
   },
   {
    "duration": 3,
    "start_time": "2022-06-24T23:24:29.575Z"
   },
   {
    "duration": 8,
    "start_time": "2022-06-24T23:24:41.032Z"
   },
   {
    "duration": 5,
    "start_time": "2022-06-24T23:24:49.878Z"
   },
   {
    "duration": 12,
    "start_time": "2022-06-24T23:24:56.779Z"
   },
   {
    "duration": 346,
    "start_time": "2022-06-24T23:24:59.473Z"
   },
   {
    "duration": 249,
    "start_time": "2022-06-24T23:26:06.106Z"
   },
   {
    "duration": 258,
    "start_time": "2022-06-24T23:26:29.901Z"
   },
   {
    "duration": 8,
    "start_time": "2022-06-24T23:27:36.361Z"
   },
   {
    "duration": 310,
    "start_time": "2022-06-24T23:27:43.748Z"
   },
   {
    "duration": 380,
    "start_time": "2022-06-24T23:28:32.913Z"
   },
   {
    "duration": 3,
    "start_time": "2022-06-24T23:28:42.937Z"
   },
   {
    "duration": 51,
    "start_time": "2022-06-24T23:28:42.941Z"
   },
   {
    "duration": 11,
    "start_time": "2022-06-24T23:28:42.993Z"
   },
   {
    "duration": 17,
    "start_time": "2022-06-24T23:28:43.006Z"
   },
   {
    "duration": 3,
    "start_time": "2022-06-24T23:28:43.024Z"
   },
   {
    "duration": 4,
    "start_time": "2022-06-24T23:28:43.029Z"
   },
   {
    "duration": 11,
    "start_time": "2022-06-24T23:28:43.034Z"
   },
   {
    "duration": 21,
    "start_time": "2022-06-24T23:28:43.047Z"
   },
   {
    "duration": 681,
    "start_time": "2022-06-24T23:28:43.070Z"
   },
   {
    "duration": 140,
    "start_time": "2022-06-24T23:28:43.753Z"
   },
   {
    "duration": 154,
    "start_time": "2022-06-24T23:28:43.895Z"
   },
   {
    "duration": 218,
    "start_time": "2022-06-24T23:28:47.962Z"
   },
   {
    "duration": 320,
    "start_time": "2022-06-24T23:29:18.121Z"
   },
   {
    "duration": 227,
    "start_time": "2022-06-24T23:31:27.044Z"
   },
   {
    "duration": 3,
    "start_time": "2022-06-24T23:31:37.620Z"
   },
   {
    "duration": 63,
    "start_time": "2022-06-24T23:31:37.626Z"
   },
   {
    "duration": 12,
    "start_time": "2022-06-24T23:31:37.690Z"
   },
   {
    "duration": 37,
    "start_time": "2022-06-24T23:31:37.703Z"
   },
   {
    "duration": 14,
    "start_time": "2022-06-24T23:31:37.743Z"
   },
   {
    "duration": 17,
    "start_time": "2022-06-24T23:31:37.759Z"
   },
   {
    "duration": 32,
    "start_time": "2022-06-24T23:31:37.778Z"
   },
   {
    "duration": 4,
    "start_time": "2022-06-24T23:31:37.812Z"
   },
   {
    "duration": 692,
    "start_time": "2022-06-24T23:31:37.817Z"
   },
   {
    "duration": 147,
    "start_time": "2022-06-24T23:31:38.511Z"
   },
   {
    "duration": 158,
    "start_time": "2022-06-24T23:31:38.660Z"
   },
   {
    "duration": 232,
    "start_time": "2022-06-24T23:31:41.238Z"
   },
   {
    "duration": 231,
    "start_time": "2022-06-24T23:31:54.643Z"
   },
   {
    "duration": 4,
    "start_time": "2022-06-24T23:32:27.432Z"
   },
   {
    "duration": 7,
    "start_time": "2022-06-24T23:32:42.786Z"
   },
   {
    "duration": 240,
    "start_time": "2022-06-24T23:33:29.764Z"
   },
   {
    "duration": 448,
    "start_time": "2022-06-24T23:35:49.221Z"
   },
   {
    "duration": 94,
    "start_time": "2022-06-24T23:37:28.901Z"
   },
   {
    "duration": 8,
    "start_time": "2022-06-24T23:51:14.079Z"
   },
   {
    "duration": 5,
    "start_time": "2022-06-24T23:51:16.825Z"
   },
   {
    "duration": 754,
    "start_time": "2022-06-24T23:52:47.009Z"
   },
   {
    "duration": 4,
    "start_time": "2022-06-24T23:53:01.942Z"
   },
   {
    "duration": 10,
    "start_time": "2022-06-24T23:53:12.964Z"
   },
   {
    "duration": 4,
    "start_time": "2022-06-24T23:53:33.411Z"
   },
   {
    "duration": 26,
    "start_time": "2022-06-24T23:53:50.407Z"
   },
   {
    "duration": 20,
    "start_time": "2022-06-24T23:53:57.517Z"
   },
   {
    "duration": 265,
    "start_time": "2022-06-24T23:55:46.069Z"
   },
   {
    "duration": 20,
    "start_time": "2022-06-25T00:04:13.127Z"
   },
   {
    "duration": 7,
    "start_time": "2022-06-25T00:04:21.300Z"
   },
   {
    "duration": 6,
    "start_time": "2022-06-25T00:04:40.478Z"
   },
   {
    "duration": 7,
    "start_time": "2022-06-25T00:05:23.318Z"
   },
   {
    "duration": 4,
    "start_time": "2022-06-25T00:05:47.054Z"
   },
   {
    "duration": 3,
    "start_time": "2022-06-25T00:17:13.450Z"
   },
   {
    "duration": 2,
    "start_time": "2022-06-25T00:17:29.455Z"
   },
   {
    "duration": 23,
    "start_time": "2022-06-25T00:26:35.527Z"
   },
   {
    "duration": 2,
    "start_time": "2022-06-25T00:26:52.104Z"
   },
   {
    "duration": 16,
    "start_time": "2022-06-25T00:26:58.744Z"
   },
   {
    "duration": 4,
    "start_time": "2022-06-25T00:27:29.886Z"
   },
   {
    "duration": 17,
    "start_time": "2022-06-25T00:27:36.521Z"
   },
   {
    "duration": 38,
    "start_time": "2022-06-25T00:28:15.926Z"
   },
   {
    "duration": 669,
    "start_time": "2022-06-25T00:31:25.166Z"
   },
   {
    "duration": 3,
    "start_time": "2022-06-25T00:34:15.529Z"
   },
   {
    "duration": 3,
    "start_time": "2022-06-25T00:34:38.836Z"
   },
   {
    "duration": 3,
    "start_time": "2022-06-25T00:34:50.152Z"
   },
   {
    "duration": 48,
    "start_time": "2022-06-25T00:34:50.157Z"
   },
   {
    "duration": 11,
    "start_time": "2022-06-25T00:34:50.206Z"
   },
   {
    "duration": 17,
    "start_time": "2022-06-25T00:34:50.219Z"
   },
   {
    "duration": 3,
    "start_time": "2022-06-25T00:34:50.239Z"
   },
   {
    "duration": 6,
    "start_time": "2022-06-25T00:34:50.244Z"
   },
   {
    "duration": 21,
    "start_time": "2022-06-25T00:34:50.252Z"
   },
   {
    "duration": 4,
    "start_time": "2022-06-25T00:34:50.275Z"
   },
   {
    "duration": 811,
    "start_time": "2022-06-25T00:34:50.281Z"
   },
   {
    "duration": 148,
    "start_time": "2022-06-25T00:34:51.094Z"
   },
   {
    "duration": 153,
    "start_time": "2022-06-25T00:34:51.244Z"
   },
   {
    "duration": 239,
    "start_time": "2022-06-25T00:34:51.399Z"
   },
   {
    "duration": 302,
    "start_time": "2022-06-25T00:34:51.640Z"
   },
   {
    "duration": 2,
    "start_time": "2022-06-25T00:34:51.944Z"
   },
   {
    "duration": 16,
    "start_time": "2022-06-25T00:34:55.696Z"
   },
   {
    "duration": 15,
    "start_time": "2022-06-25T00:35:24.113Z"
   },
   {
    "duration": 14,
    "start_time": "2022-06-25T00:39:30.070Z"
   },
   {
    "duration": 3,
    "start_time": "2022-06-25T00:39:41.498Z"
   },
   {
    "duration": 51,
    "start_time": "2022-06-25T00:39:41.503Z"
   },
   {
    "duration": 11,
    "start_time": "2022-06-25T00:39:41.556Z"
   },
   {
    "duration": 19,
    "start_time": "2022-06-25T00:39:41.569Z"
   },
   {
    "duration": 3,
    "start_time": "2022-06-25T00:39:41.589Z"
   },
   {
    "duration": 6,
    "start_time": "2022-06-25T00:39:41.593Z"
   },
   {
    "duration": 14,
    "start_time": "2022-06-25T00:39:41.600Z"
   },
   {
    "duration": 4,
    "start_time": "2022-06-25T00:39:41.616Z"
   },
   {
    "duration": 733,
    "start_time": "2022-06-25T00:39:41.622Z"
   },
   {
    "duration": 145,
    "start_time": "2022-06-25T00:39:42.356Z"
   },
   {
    "duration": 146,
    "start_time": "2022-06-25T00:39:42.503Z"
   },
   {
    "duration": 235,
    "start_time": "2022-06-25T00:39:42.651Z"
   },
   {
    "duration": 281,
    "start_time": "2022-06-25T00:39:42.887Z"
   },
   {
    "duration": 2,
    "start_time": "2022-06-25T00:39:43.170Z"
   },
   {
    "duration": 21,
    "start_time": "2022-06-25T00:39:43.174Z"
   },
   {
    "duration": 8,
    "start_time": "2022-06-25T00:43:03.641Z"
   },
   {
    "duration": 2,
    "start_time": "2022-06-25T00:43:41.215Z"
   },
   {
    "duration": 8,
    "start_time": "2022-06-25T00:47:10.840Z"
   },
   {
    "duration": 3,
    "start_time": "2022-06-25T00:52:12.112Z"
   },
   {
    "duration": 53,
    "start_time": "2022-06-25T00:52:12.118Z"
   },
   {
    "duration": 12,
    "start_time": "2022-06-25T00:52:12.173Z"
   },
   {
    "duration": 24,
    "start_time": "2022-06-25T00:52:12.187Z"
   },
   {
    "duration": 4,
    "start_time": "2022-06-25T00:52:12.214Z"
   },
   {
    "duration": 7,
    "start_time": "2022-06-25T00:52:12.219Z"
   },
   {
    "duration": 19,
    "start_time": "2022-06-25T00:52:12.228Z"
   },
   {
    "duration": 19,
    "start_time": "2022-06-25T00:52:12.249Z"
   },
   {
    "duration": 868,
    "start_time": "2022-06-25T00:52:12.269Z"
   },
   {
    "duration": 146,
    "start_time": "2022-06-25T00:52:13.139Z"
   },
   {
    "duration": 145,
    "start_time": "2022-06-25T00:52:13.287Z"
   },
   {
    "duration": 244,
    "start_time": "2022-06-25T00:52:13.433Z"
   },
   {
    "duration": 296,
    "start_time": "2022-06-25T00:52:13.678Z"
   },
   {
    "duration": 3,
    "start_time": "2022-06-25T00:52:13.975Z"
   },
   {
    "duration": 16,
    "start_time": "2022-06-25T00:52:13.980Z"
   },
   {
    "duration": 8,
    "start_time": "2022-06-25T00:52:13.998Z"
   },
   {
    "duration": 87,
    "start_time": "2022-06-25T00:52:29.970Z"
   },
   {
    "duration": 31,
    "start_time": "2022-06-25T00:52:44.627Z"
   },
   {
    "duration": 4,
    "start_time": "2022-06-25T00:53:07.462Z"
   },
   {
    "duration": 27,
    "start_time": "2022-06-25T00:53:12.636Z"
   },
   {
    "duration": 3,
    "start_time": "2022-06-25T00:53:26.803Z"
   },
   {
    "duration": 32,
    "start_time": "2022-06-25T00:53:34.256Z"
   },
   {
    "duration": 3,
    "start_time": "2022-06-25T00:55:10.716Z"
   },
   {
    "duration": 51,
    "start_time": "2022-06-25T00:55:10.721Z"
   },
   {
    "duration": 12,
    "start_time": "2022-06-25T00:55:10.774Z"
   },
   {
    "duration": 28,
    "start_time": "2022-06-25T00:55:10.787Z"
   },
   {
    "duration": 5,
    "start_time": "2022-06-25T00:55:10.818Z"
   },
   {
    "duration": 19,
    "start_time": "2022-06-25T00:55:10.825Z"
   },
   {
    "duration": 23,
    "start_time": "2022-06-25T00:55:10.846Z"
   },
   {
    "duration": 8,
    "start_time": "2022-06-25T00:55:10.871Z"
   },
   {
    "duration": 680,
    "start_time": "2022-06-25T00:55:10.881Z"
   },
   {
    "duration": 151,
    "start_time": "2022-06-25T00:55:11.563Z"
   },
   {
    "duration": 159,
    "start_time": "2022-06-25T00:55:11.717Z"
   },
   {
    "duration": 257,
    "start_time": "2022-06-25T00:55:11.878Z"
   },
   {
    "duration": 313,
    "start_time": "2022-06-25T00:55:12.137Z"
   },
   {
    "duration": 2,
    "start_time": "2022-06-25T00:55:12.452Z"
   },
   {
    "duration": 24,
    "start_time": "2022-06-25T00:55:12.456Z"
   },
   {
    "duration": 9,
    "start_time": "2022-06-25T00:55:14.538Z"
   },
   {
    "duration": 40,
    "start_time": "2022-06-25T00:55:18.351Z"
   },
   {
    "duration": 10,
    "start_time": "2022-06-25T00:56:35.569Z"
   },
   {
    "duration": 40,
    "start_time": "2022-06-25T00:56:37.559Z"
   },
   {
    "duration": 8,
    "start_time": "2022-06-25T00:56:58.127Z"
   },
   {
    "duration": 8,
    "start_time": "2022-06-25T00:57:31.310Z"
   },
   {
    "duration": 35,
    "start_time": "2022-06-25T00:57:39.994Z"
   },
   {
    "duration": 9,
    "start_time": "2022-06-25T00:59:16.494Z"
   },
   {
    "duration": 32,
    "start_time": "2022-06-25T00:59:19.903Z"
   },
   {
    "duration": 8,
    "start_time": "2022-06-25T01:00:10.999Z"
   },
   {
    "duration": 5933,
    "start_time": "2022-06-25T01:00:13.339Z"
   },
   {
    "duration": 6107,
    "start_time": "2022-06-25T01:00:55.469Z"
   },
   {
    "duration": 8,
    "start_time": "2022-06-25T01:04:10.653Z"
   },
   {
    "duration": 103,
    "start_time": "2022-06-25T01:04:22.965Z"
   },
   {
    "duration": 8,
    "start_time": "2022-06-25T01:07:36.266Z"
   },
   {
    "duration": 5652,
    "start_time": "2022-06-25T01:07:43.722Z"
   },
   {
    "duration": 9,
    "start_time": "2022-06-25T01:11:29.321Z"
   },
   {
    "duration": 5489,
    "start_time": "2022-06-25T01:11:45.390Z"
   },
   {
    "duration": 12,
    "start_time": "2022-06-25T01:12:46.030Z"
   },
   {
    "duration": 10,
    "start_time": "2022-06-25T01:15:23.722Z"
   },
   {
    "duration": 17,
    "start_time": "2022-06-25T01:16:48.674Z"
   },
   {
    "duration": 17,
    "start_time": "2022-06-25T01:20:33.672Z"
   },
   {
    "duration": 9,
    "start_time": "2022-06-25T01:21:03.325Z"
   },
   {
    "duration": 510,
    "start_time": "2022-06-25T01:22:17.160Z"
   },
   {
    "duration": 8,
    "start_time": "2022-06-25T01:23:00.325Z"
   },
   {
    "duration": 25296,
    "start_time": "2022-06-25T01:23:02.974Z"
   },
   {
    "duration": 11,
    "start_time": "2022-06-25T01:27:26.252Z"
   },
   {
    "duration": 2,
    "start_time": "2022-06-25T01:28:28.463Z"
   },
   {
    "duration": 2,
    "start_time": "2022-06-25T01:28:34.428Z"
   },
   {
    "duration": 16,
    "start_time": "2022-06-25T01:31:01.531Z"
   },
   {
    "duration": 1407,
    "start_time": "2022-06-25T01:31:12.642Z"
   },
   {
    "duration": 9,
    "start_time": "2022-06-25T01:31:28.576Z"
   },
   {
    "duration": 47871,
    "start_time": "2022-06-25T01:35:26.198Z"
   },
   {
    "duration": 33,
    "start_time": "2022-06-25T01:37:25.300Z"
   },
   {
    "duration": 38,
    "start_time": "2022-06-25T01:38:09.121Z"
   },
   {
    "duration": 9,
    "start_time": "2022-06-25T01:38:40.414Z"
   },
   {
    "duration": 12,
    "start_time": "2022-06-25T01:38:54.670Z"
   },
   {
    "duration": 755,
    "start_time": "2022-06-25T01:39:49.123Z"
   },
   {
    "duration": 854,
    "start_time": "2022-06-25T01:40:06.743Z"
   },
   {
    "duration": 3,
    "start_time": "2022-06-25T01:40:19.644Z"
   },
   {
    "duration": 47,
    "start_time": "2022-06-25T01:40:19.649Z"
   },
   {
    "duration": 11,
    "start_time": "2022-06-25T01:40:19.698Z"
   },
   {
    "duration": 16,
    "start_time": "2022-06-25T01:40:19.711Z"
   },
   {
    "duration": 4,
    "start_time": "2022-06-25T01:40:19.729Z"
   },
   {
    "duration": 5,
    "start_time": "2022-06-25T01:40:19.734Z"
   },
   {
    "duration": 30,
    "start_time": "2022-06-25T01:40:19.741Z"
   },
   {
    "duration": 4,
    "start_time": "2022-06-25T01:40:19.773Z"
   },
   {
    "duration": 8,
    "start_time": "2022-06-25T01:40:19.780Z"
   },
   {
    "duration": 862,
    "start_time": "2022-06-25T01:40:19.789Z"
   },
   {
    "duration": 150,
    "start_time": "2022-06-25T01:40:20.653Z"
   },
   {
    "duration": 153,
    "start_time": "2022-06-25T01:40:20.805Z"
   },
   {
    "duration": 235,
    "start_time": "2022-06-25T01:40:20.960Z"
   },
   {
    "duration": 277,
    "start_time": "2022-06-25T01:40:21.197Z"
   },
   {
    "duration": 2,
    "start_time": "2022-06-25T01:40:21.476Z"
   },
   {
    "duration": 14,
    "start_time": "2022-06-25T01:40:31.882Z"
   },
   {
    "duration": 10,
    "start_time": "2022-06-25T01:40:40.025Z"
   },
   {
    "duration": 8,
    "start_time": "2022-06-25T01:42:21.295Z"
   },
   {
    "duration": 28534,
    "start_time": "2022-06-25T01:42:29.645Z"
   },
   {
    "duration": 12,
    "start_time": "2022-06-25T01:43:34.484Z"
   },
   {
    "duration": 237,
    "start_time": "2022-06-25T01:44:29.743Z"
   },
   {
    "duration": 263,
    "start_time": "2022-06-25T01:44:38.166Z"
   },
   {
    "duration": 243,
    "start_time": "2022-06-25T01:44:52.969Z"
   },
   {
    "duration": 249,
    "start_time": "2022-06-25T01:44:56.108Z"
   },
   {
    "duration": 269,
    "start_time": "2022-06-25T01:45:02.053Z"
   },
   {
    "duration": 4,
    "start_time": "2022-06-25T01:45:09.449Z"
   },
   {
    "duration": 53,
    "start_time": "2022-06-25T01:46:52.108Z"
   },
   {
    "duration": 11,
    "start_time": "2022-06-25T01:46:54.610Z"
   },
   {
    "duration": 28344,
    "start_time": "2022-06-25T01:47:01.029Z"
   },
   {
    "duration": 28671,
    "start_time": "2022-06-25T01:47:40.603Z"
   },
   {
    "duration": 10,
    "start_time": "2022-06-25T01:48:38.649Z"
   },
   {
    "duration": 1333,
    "start_time": "2022-06-25T01:51:46.687Z"
   },
   {
    "duration": 53,
    "start_time": "2022-06-25T01:51:48.022Z"
   },
   {
    "duration": 12,
    "start_time": "2022-06-25T01:51:48.077Z"
   },
   {
    "duration": 16,
    "start_time": "2022-06-25T01:51:48.092Z"
   },
   {
    "duration": 3,
    "start_time": "2022-06-25T01:51:48.110Z"
   },
   {
    "duration": 6,
    "start_time": "2022-06-25T01:51:48.115Z"
   },
   {
    "duration": 45,
    "start_time": "2022-06-25T01:51:48.123Z"
   },
   {
    "duration": 4,
    "start_time": "2022-06-25T01:51:48.171Z"
   },
   {
    "duration": 13,
    "start_time": "2022-06-25T01:51:48.177Z"
   },
   {
    "duration": 801,
    "start_time": "2022-06-25T01:51:48.192Z"
   },
   {
    "duration": 175,
    "start_time": "2022-06-25T01:51:48.995Z"
   },
   {
    "duration": 176,
    "start_time": "2022-06-25T01:51:49.172Z"
   },
   {
    "duration": 338,
    "start_time": "2022-06-25T01:51:49.350Z"
   },
   {
    "duration": 4,
    "start_time": "2022-06-25T01:51:49.690Z"
   },
   {
    "duration": 315,
    "start_time": "2022-06-25T01:51:49.696Z"
   },
   {
    "duration": 3,
    "start_time": "2022-06-25T01:51:50.013Z"
   },
   {
    "duration": 16,
    "start_time": "2022-06-25T01:51:50.018Z"
   },
   {
    "duration": 10,
    "start_time": "2022-06-25T01:51:50.036Z"
   },
   {
    "duration": 29104,
    "start_time": "2022-06-25T01:51:50.068Z"
   },
   {
    "duration": 100,
    "start_time": "2022-06-25T01:52:19.175Z"
   },
   {
    "duration": 3,
    "start_time": "2022-06-25T01:53:34.781Z"
   },
   {
    "duration": 2685,
    "start_time": "2022-06-25T22:28:20.920Z"
   },
   {
    "duration": 47,
    "start_time": "2022-06-25T22:28:23.607Z"
   },
   {
    "duration": 12,
    "start_time": "2022-06-25T22:28:23.656Z"
   },
   {
    "duration": 16,
    "start_time": "2022-06-25T22:28:23.670Z"
   },
   {
    "duration": 4,
    "start_time": "2022-06-25T22:28:23.688Z"
   },
   {
    "duration": 12,
    "start_time": "2022-06-25T22:28:23.693Z"
   },
   {
    "duration": 19,
    "start_time": "2022-06-25T22:28:23.708Z"
   },
   {
    "duration": 4,
    "start_time": "2022-06-25T22:28:38.734Z"
   },
   {
    "duration": 11,
    "start_time": "2022-06-25T22:28:38.987Z"
   },
   {
    "duration": 787,
    "start_time": "2022-06-25T22:28:40.952Z"
   },
   {
    "duration": 165,
    "start_time": "2022-06-25T22:28:41.742Z"
   },
   {
    "duration": 161,
    "start_time": "2022-06-25T22:28:41.908Z"
   },
   {
    "duration": 340,
    "start_time": "2022-06-25T22:28:42.071Z"
   },
   {
    "duration": 5,
    "start_time": "2022-06-25T22:28:42.412Z"
   },
   {
    "duration": 379,
    "start_time": "2022-06-25T22:28:42.419Z"
   },
   {
    "duration": 90,
    "start_time": "2022-06-25T23:41:18.838Z"
   },
   {
    "duration": 2665,
    "start_time": "2022-06-25T23:43:14.576Z"
   },
   {
    "duration": 121,
    "start_time": "2022-06-25T23:43:17.244Z"
   },
   {
    "duration": 62,
    "start_time": "2022-06-25T23:43:17.367Z"
   },
   {
    "duration": 20,
    "start_time": "2022-06-25T23:43:17.432Z"
   },
   {
    "duration": 4,
    "start_time": "2022-06-25T23:43:17.455Z"
   },
   {
    "duration": 66,
    "start_time": "2022-06-25T23:43:17.461Z"
   },
   {
    "duration": 16,
    "start_time": "2022-06-25T23:43:17.528Z"
   },
   {
    "duration": 3,
    "start_time": "2022-06-25T23:43:17.545Z"
   },
   {
    "duration": 12,
    "start_time": "2022-06-25T23:43:17.550Z"
   },
   {
    "duration": 1401,
    "start_time": "2022-06-25T23:43:17.624Z"
   },
   {
    "duration": 426,
    "start_time": "2022-06-25T23:43:19.027Z"
   },
   {
    "duration": 307,
    "start_time": "2022-06-25T23:43:19.455Z"
   },
   {
    "duration": 490,
    "start_time": "2022-06-25T23:43:19.764Z"
   },
   {
    "duration": 4,
    "start_time": "2022-06-25T23:43:20.257Z"
   },
   {
    "duration": 663,
    "start_time": "2022-06-25T23:43:20.262Z"
   },
   {
    "duration": 2,
    "start_time": "2022-06-25T23:43:20.927Z"
   },
   {
    "duration": 19,
    "start_time": "2022-06-25T23:43:20.931Z"
   },
   {
    "duration": 8,
    "start_time": "2022-06-25T23:43:20.952Z"
   },
   {
    "duration": 43967,
    "start_time": "2022-06-25T23:43:20.962Z"
   },
   {
    "duration": 98,
    "start_time": "2022-06-25T23:44:04.931Z"
   },
   {
    "duration": 94,
    "start_time": "2022-06-25T23:44:05.031Z"
   },
   {
    "duration": 210,
    "start_time": "2022-06-25T23:50:51.439Z"
   },
   {
    "duration": 30,
    "start_time": "2022-06-25T23:52:00.494Z"
   },
   {
    "duration": 26,
    "start_time": "2022-06-25T23:52:07.713Z"
   },
   {
    "duration": 358,
    "start_time": "2022-06-25T23:52:19.893Z"
   },
   {
    "duration": 223,
    "start_time": "2022-06-25T23:56:39.304Z"
   },
   {
    "duration": 121,
    "start_time": "2022-06-25T23:59:09.310Z"
   },
   {
    "duration": 114,
    "start_time": "2022-06-26T00:00:11.809Z"
   },
   {
    "duration": 68,
    "start_time": "2022-06-26T00:00:19.758Z"
   },
   {
    "duration": 522,
    "start_time": "2022-06-26T00:03:31.719Z"
   },
   {
    "duration": 2645,
    "start_time": "2022-06-26T00:04:31.205Z"
   },
   {
    "duration": 124,
    "start_time": "2022-06-26T00:04:33.852Z"
   },
   {
    "duration": 57,
    "start_time": "2022-06-26T00:04:33.978Z"
   },
   {
    "duration": 18,
    "start_time": "2022-06-26T00:04:34.037Z"
   },
   {
    "duration": 3,
    "start_time": "2022-06-26T00:04:34.057Z"
   },
   {
    "duration": 65,
    "start_time": "2022-06-26T00:04:34.062Z"
   },
   {
    "duration": 17,
    "start_time": "2022-06-26T00:04:34.129Z"
   },
   {
    "duration": 5,
    "start_time": "2022-06-26T00:04:34.147Z"
   },
   {
    "duration": 75,
    "start_time": "2022-06-26T00:04:34.154Z"
   },
   {
    "duration": 1312,
    "start_time": "2022-06-26T00:04:34.232Z"
   },
   {
    "duration": 296,
    "start_time": "2022-06-26T00:04:35.546Z"
   },
   {
    "duration": 311,
    "start_time": "2022-06-26T00:04:35.844Z"
   },
   {
    "duration": 681,
    "start_time": "2022-06-26T00:04:36.158Z"
   },
   {
    "duration": 3,
    "start_time": "2022-06-26T00:04:36.841Z"
   },
   {
    "duration": 603,
    "start_time": "2022-06-26T00:04:36.846Z"
   },
   {
    "duration": 2,
    "start_time": "2022-06-26T00:04:37.451Z"
   },
   {
    "duration": 77,
    "start_time": "2022-06-26T00:04:37.455Z"
   },
   {
    "duration": 9,
    "start_time": "2022-06-26T00:04:37.534Z"
   },
   {
    "duration": 41778,
    "start_time": "2022-06-26T00:04:37.545Z"
   },
   {
    "duration": 101,
    "start_time": "2022-06-26T00:05:19.326Z"
   },
   {
    "duration": 513,
    "start_time": "2022-06-26T00:05:19.429Z"
   },
   {
    "duration": 492,
    "start_time": "2022-06-26T00:05:19.944Z"
   },
   {
    "duration": 55,
    "start_time": "2022-06-26T00:09:02.573Z"
   }
  ],
  "kernelspec": {
   "display_name": "Python 3",
   "language": "python",
   "name": "python3"
  },
  "language_info": {
   "codemirror_mode": {
    "name": "ipython",
    "version": 3
   },
   "file_extension": ".py",
   "mimetype": "text/x-python",
   "name": "python",
   "nbconvert_exporter": "python",
   "pygments_lexer": "ipython3",
   "version": "3.7.1"
  },
  "toc": {
   "base_numbering": 1,
   "nav_menu": {},
   "number_sections": true,
   "sideBar": true,
   "skip_h1_title": true,
   "title_cell": "Содержание",
   "title_sidebar": "Contents",
   "toc_cell": true,
   "toc_position": {
    "height": "calc(100% - 180px)",
    "left": "10px",
    "top": "150px",
    "width": "238.396px"
   },
   "toc_section_display": true,
   "toc_window_display": true
  }
 },
 "nbformat": 4,
 "nbformat_minor": 2
}
