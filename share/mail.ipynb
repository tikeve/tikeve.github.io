{
 "cells": [
  {
   "cell_type": "code",
   "execution_count": 16,
   "metadata": {},
   "outputs": [
    {
     "data": {
      "text/plain": [
       "{}"
      ]
     },
     "execution_count": 16,
     "metadata": {},
     "output_type": "execute_result"
    }
   ],
   "source": [
    "import yagmail\n",
    "\n",
    "FROM = 'imonyapa@gmail.com'\n",
    "TO = 'constti@gmail.com'\n",
    "SUBJECT = '1stpy'\n",
    "TEXT = ''\n",
    "yag = yagmail.SMTP(FROM, 'GlobalWin#1')\n",
    "yag.send(TO, SUBJECT, TEXT)"
   ]
  },
  {
   "cell_type": "code",
   "execution_count": 3,
   "metadata": {},
   "outputs": [
    {
     "name": "stdout",
     "output_type": "stream",
     "text": [
      "b= 1 1 2 3 55 1 2 2 2 2\n",
      "5\n"
     ]
    },
    {
     "data": {
      "text/plain": [
       "2"
      ]
     },
     "execution_count": 3,
     "metadata": {},
     "output_type": "execute_result"
    }
   ],
   "source": [
    "n=10\n",
    "a = [1, 1, 2, 3, 55, 1, 2, 2, 2, 2]\n",
    "with open('input.txt', 'r') as file:\n",
    "    n = int(file.readline())\n",
    "    b = file.readline()\n",
    "    \n",
    "print('b=', b)\n",
    "a = b.split()\n",
    "a = [int(i) for i in a]\n",
    "#from collections import defaultdict\n",
    "#d = defaultdict(int)\n",
    "d = {}\n",
    "for i in range(n):\n",
    "    if a[i] in d:\n",
    "        d[a[i]]+=1\n",
    "    else:\n",
    "        d[a[i]] = 1\n",
    "m = max(d.values())\n",
    "print(m)\n",
    "for i in d:\n",
    "    if d[i]==m:\n",
    "        ans = i\n",
    "with open('output.txt', 'w') as file:\n",
    "    file.write(str(ans))\n",
    "ans"
   ]
  },
  {
   "cell_type": "code",
   "execution_count": 4,
   "metadata": {},
   "outputs": [
    {
     "data": {
      "text/plain": [
       "Counter({1: 3, 2: 5, 3: 1, 55: 1})"
      ]
     },
     "execution_count": 4,
     "metadata": {},
     "output_type": "execute_result"
    }
   ],
   "source": [
    "from collections import Counter\n",
    "counts = Counter(a)\n",
    "counts"
   ]
  },
  {
   "cell_type": "code",
   "execution_count": 7,
   "metadata": {},
   "outputs": [
    {
     "data": {
      "text/plain": [
       "<matplotlib.axes._subplots.AxesSubplot at 0x7f0a3d283278>"
      ]
     },
     "execution_count": 7,
     "metadata": {},
     "output_type": "execute_result"
    },
    {
     "data": {
      "image/png": "[encoded data removed]",
      "text/plain": [
       "<Figure size 432x288 with 1 Axes>"
      ]
     },
     "metadata": {
      "needs_background": "light"
     },
     "output_type": "display_data"
    }
   ],
   "source": [
    "import pandas as pd\n",
    "import numpy as np\n",
    "df = pd.DataFrame(a)\n",
    "df[0].fillna('')\n",
    "counts = df[0].value_counts()\n",
    "counts.plot(kind='barh', rot=0)"
   ]
  },
  {
   "cell_type": "code",
   "execution_count": 8,
   "metadata": {},
   "outputs": [
    {
     "data": {
      "text/html": [
       "<div>\n",
       "<style scoped>\n",
       "    .dataframe tbody tr th:only-of-type {\n",
       "        vertical-align: middle;\n",
       "    }\n",
       "\n",
       "    .dataframe tbody tr th {\n",
       "        vertical-align: top;\n",
       "    }\n",
       "\n",
       "    .dataframe thead th {\n",
       "        text-align: right;\n",
       "    }\n",
       "</style>\n",
       "<table border=\"1\" class=\"dataframe\">\n",
       "  <thead>\n",
       "    <tr style=\"text-align: right;\">\n",
       "      <th></th>\n",
       "      <th>a</th>\n",
       "    </tr>\n",
       "  </thead>\n",
       "  <tbody>\n",
       "    <tr>\n",
       "      <th>0</th>\n",
       "      <td>1</td>\n",
       "    </tr>\n",
       "    <tr>\n",
       "      <th>1</th>\n",
       "      <td>1</td>\n",
       "    </tr>\n",
       "    <tr>\n",
       "      <th>2</th>\n",
       "      <td>2</td>\n",
       "    </tr>\n",
       "    <tr>\n",
       "      <th>3</th>\n",
       "      <td>3</td>\n",
       "    </tr>\n",
       "    <tr>\n",
       "      <th>4</th>\n",
       "      <td>55</td>\n",
       "    </tr>\n",
       "    <tr>\n",
       "      <th>5</th>\n",
       "      <td>1</td>\n",
       "    </tr>\n",
       "    <tr>\n",
       "      <th>6</th>\n",
       "      <td>2</td>\n",
       "    </tr>\n",
       "    <tr>\n",
       "      <th>7</th>\n",
       "      <td>2</td>\n",
       "    </tr>\n",
       "    <tr>\n",
       "      <th>8</th>\n",
       "      <td>2</td>\n",
       "    </tr>\n",
       "    <tr>\n",
       "      <th>9</th>\n",
       "      <td>2</td>\n",
       "    </tr>\n",
       "  </tbody>\n",
       "</table>\n",
       "</div>"
      ],
      "text/plain": [
       "    a\n",
       "0   1\n",
       "1   1\n",
       "2   2\n",
       "3   3\n",
       "4  55\n",
       "5   1\n",
       "6   2\n",
       "7   2\n",
       "8   2\n",
       "9   2"
      ]
     },
     "execution_count": 8,
     "metadata": {},
     "output_type": "execute_result"
    }
   ],
   "source": [
    "df.columns = ['a']\n",
    "df[df.a.notnull()]\n"
   ]
  },
  {
   "cell_type": "code",
   "execution_count": 47,
   "metadata": {},
   "outputs": [
    {
     "data": {
      "text/plain": [
       "array(['la', 'la', ''], dtype='<U2')"
      ]
     },
     "execution_count": 47,
     "metadata": {},
     "output_type": "execute_result"
    }
   ],
   "source": [
    "l = ['lala','la','asdasd']\n",
    "L = pd.DataFrame(l)\n",
    "la = np.where(L[0].str.contains('la'), 'la','')\n",
    "la"
   ]
  },
  {
   "cell_type": "code",
   "execution_count": 9,
   "metadata": {},
   "outputs": [],
   "source": [
    "Table = pd.read_csv('../in/fplgameweeks.csv')"
   ]
  },
  {
   "cell_type": "code",
   "execution_count": 17,
   "metadata": {},
   "outputs": [],
   "source": [
    "TT = Table.groupby('side')"
   ]
  },
  {
   "cell_type": "code",
   "execution_count": 18,
   "metadata": {},
   "outputs": [
    {
     "data": {
      "text/html": [
       "<div>\n",
       "<style scoped>\n",
       "    .dataframe tbody tr th:only-of-type {\n",
       "        vertical-align: middle;\n",
       "    }\n",
       "\n",
       "    .dataframe tbody tr th {\n",
       "        vertical-align: top;\n",
       "    }\n",
       "\n",
       "    .dataframe thead th {\n",
       "        text-align: right;\n",
       "    }\n",
       "</style>\n",
       "<table border=\"1\" class=\"dataframe\">\n",
       "  <thead>\n",
       "    <tr style=\"text-align: right;\">\n",
       "      <th></th>\n",
       "      <th>Unnamed: 0</th>\n",
       "      <th>minutes</th>\n",
       "      <th>goals_scored</th>\n",
       "      <th>assists</th>\n",
       "      <th>clean_sheets</th>\n",
       "      <th>goals_conceded</th>\n",
       "      <th>own_goals</th>\n",
       "      <th>penalties_saved</th>\n",
       "      <th>penalties_missed</th>\n",
       "      <th>yellow_cards</th>\n",
       "      <th>...</th>\n",
       "      <th>creativity</th>\n",
       "      <th>threat</th>\n",
       "      <th>ict_index</th>\n",
       "      <th>total_points</th>\n",
       "      <th>in_dreamteam</th>\n",
       "      <th>id</th>\n",
       "      <th>gameweek</th>\n",
       "      <th>fixture</th>\n",
       "      <th>team</th>\n",
       "      <th>teamAgainst</th>\n",
       "    </tr>\n",
       "    <tr>\n",
       "      <th>side</th>\n",
       "      <th></th>\n",
       "      <th></th>\n",
       "      <th></th>\n",
       "      <th></th>\n",
       "      <th></th>\n",
       "      <th></th>\n",
       "      <th></th>\n",
       "      <th></th>\n",
       "      <th></th>\n",
       "      <th></th>\n",
       "      <th></th>\n",
       "      <th></th>\n",
       "      <th></th>\n",
       "      <th></th>\n",
       "      <th></th>\n",
       "      <th></th>\n",
       "      <th></th>\n",
       "      <th></th>\n",
       "      <th></th>\n",
       "      <th></th>\n",
       "      <th></th>\n",
       "    </tr>\n",
       "  </thead>\n",
       "  <tbody>\n",
       "    <tr>\n",
       "      <th>away</th>\n",
       "      <td>6125.887163</td>\n",
       "      <td>35.332134</td>\n",
       "      <td>0.045626</td>\n",
       "      <td>0.040720</td>\n",
       "      <td>0.081930</td>\n",
       "      <td>0.586754</td>\n",
       "      <td>0.001962</td>\n",
       "      <td>0.000000</td>\n",
       "      <td>0.001308</td>\n",
       "      <td>0.066721</td>\n",
       "      <td>...</td>\n",
       "      <td>4.782142</td>\n",
       "      <td>5.531153</td>\n",
       "      <td>1.831627</td>\n",
       "      <td>1.347833</td>\n",
       "      <td>0.015372</td>\n",
       "      <td>280.844808</td>\n",
       "      <td>11.699755</td>\n",
       "      <td>112.497302</td>\n",
       "      <td>10.533606</td>\n",
       "      <td>10.512674</td>\n",
       "    </tr>\n",
       "    <tr>\n",
       "      <th>home</th>\n",
       "      <td>6118.655585</td>\n",
       "      <td>35.324926</td>\n",
       "      <td>0.051425</td>\n",
       "      <td>0.045693</td>\n",
       "      <td>0.117425</td>\n",
       "      <td>0.513102</td>\n",
       "      <td>0.000983</td>\n",
       "      <td>0.001146</td>\n",
       "      <td>0.000164</td>\n",
       "      <td>0.059777</td>\n",
       "      <td>...</td>\n",
       "      <td>5.658958</td>\n",
       "      <td>6.594497</td>\n",
       "      <td>2.031133</td>\n",
       "      <td>1.519161</td>\n",
       "      <td>0.024238</td>\n",
       "      <td>279.838192</td>\n",
       "      <td>11.687357</td>\n",
       "      <td>112.384212</td>\n",
       "      <td>10.493122</td>\n",
       "      <td>10.440059</td>\n",
       "    </tr>\n",
       "  </tbody>\n",
       "</table>\n",
       "<p>2 rows × 25 columns</p>\n",
       "</div>"
      ],
      "text/plain": [
       "       Unnamed: 0    minutes  goals_scored   assists  clean_sheets  \\\n",
       "side                                                                 \n",
       "away  6125.887163  35.332134      0.045626  0.040720      0.081930   \n",
       "home  6118.655585  35.324926      0.051425  0.045693      0.117425   \n",
       "\n",
       "      goals_conceded  own_goals  penalties_saved  penalties_missed  \\\n",
       "side                                                                 \n",
       "away        0.586754   0.001962         0.000000          0.001308   \n",
       "home        0.513102   0.000983         0.001146          0.000164   \n",
       "\n",
       "      yellow_cards  ...  creativity    threat  ict_index  total_points  \\\n",
       "side                ...                                                  \n",
       "away      0.066721  ...    4.782142  5.531153   1.831627      1.347833   \n",
       "home      0.059777  ...    5.658958  6.594497   2.031133      1.519161   \n",
       "\n",
       "      in_dreamteam          id   gameweek     fixture       team  teamAgainst  \n",
       "side                                                                           \n",
       "away      0.015372  280.844808  11.699755  112.497302  10.533606    10.512674  \n",
       "home      0.024238  279.838192  11.687357  112.384212  10.493122    10.440059  \n",
       "\n",
       "[2 rows x 25 columns]"
      ]
     },
     "execution_count": 18,
     "metadata": {},
     "output_type": "execute_result"
    }
   ],
   "source": [
    "TT.mean()"
   ]
  },
  {
   "cell_type": "code",
   "execution_count": 79,
   "metadata": {},
   "outputs": [
    {
     "data": {
      "text/plain": [
       "0        away\n",
       "1        away\n",
       "2        away\n",
       "3        away\n",
       "4        home\n",
       "         ... \n",
       "11619    away\n",
       "11620    away\n",
       "11621    away\n",
       "11622    away\n",
       "11623    home\n",
       "Name: side, Length: 11624, dtype: object"
      ]
     },
     "execution_count": 79,
     "metadata": {},
     "output_type": "execute_result"
    }
   ],
   "source": [
    "Table.side"
   ]
  },
  {
   "cell_type": "code",
   "execution_count": null,
   "metadata": {},
   "outputs": [],
   "source": []
  }
 ],
 "metadata": {
  "kernelspec": {
   "display_name": "Python 3",
   "language": "python",
   "name": "python3"
  },
  "language_info": {
   "codemirror_mode": {
    "name": "ipython",
    "version": 3
   },
   "file_extension": ".py",
   "mimetype": "text/x-python",
   "name": "python",
   "nbconvert_exporter": "python",
   "pygments_lexer": "ipython3",
   "version": "3.7.1"
  }
 },
 "nbformat": 4,
 "nbformat_minor": 2
}
