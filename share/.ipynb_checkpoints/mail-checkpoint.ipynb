{
 "cells": [
  {
   "cell_type": "code",
   "execution_count": 16,
   "metadata": {},
   "outputs": [
    {
     "data": {
      "text/plain": [
       "{}"
      ]
     },
     "execution_count": 16,
     "metadata": {},
     "output_type": "execute_result"
    }
   ],
   "source": [
    "import yagmail\n",
    "\n",
    "FROM = 'imonyapa@gmail.com'\n",
    "TO = 'constti@gmail.com'\n",
    "SUBJECT = '1stpy'\n",
    "TEXT = ''\n",
    "yag = yagmail.SMTP(FROM, 'GlobalWin#1')\n",
    "yag.send(TO, SUBJECT, TEXT)"
   ]
  },
  {
   "cell_type": "code",
   "execution_count": 16,
   "metadata": {},
   "outputs": [
    {
     "name": "stdout",
     "output_type": "stream",
     "text": [
      "b= 1 1 2 3 55 1 2 2 2 2\n",
      "5\n"
     ]
    },
    {
     "data": {
      "text/plain": [
       "'2'"
      ]
     },
     "execution_count": 16,
     "metadata": {},
     "output_type": "execute_result"
    }
   ],
   "source": [
    "n=10\n",
    "a = [1, 1, 2, 3, 55, 1, 2, 2, 2, 2]\n",
    "with open('input.txt', 'r') as file:\n",
    "    n = int(file.readline())\n",
    "    b = file.readline()\n",
    "    \n",
    "print('b=', b)\n",
    "a = b.split()    \n",
    "from collections import defaultdict\n",
    "d = defaultdict(int)\n",
    "for i in range(n):\n",
    "    d[a[i]]+=1\n",
    "m = max(d.values())\n",
    "print(m)\n",
    "for i in d:\n",
    "    if d[i]==m:\n",
    "        ans = i\n",
    "with open('output.txt', 'w') as file:\n",
    "    file.write(ans)\n",
    "ans"
   ]
  },
  {
   "cell_type": "code",
   "execution_count": null,
   "metadata": {},
   "outputs": [],
   "source": []
  }
 ],
 "metadata": {
  "kernelspec": {
   "display_name": "Python 3",
   "language": "python",
   "name": "python3"
  },
  "language_info": {
   "codemirror_mode": {
    "name": "ipython",
    "version": 3
   },
   "file_extension": ".py",
   "mimetype": "text/x-python",
   "name": "python",
   "nbconvert_exporter": "python",
   "pygments_lexer": "ipython3",
   "version": "3.7.3"
  }
 },
 "nbformat": 4,
 "nbformat_minor": 2
}
