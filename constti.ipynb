{
 "cells": [
  {
   "cell_type": "code",
   "execution_count": 63,
   "metadata": {
    "scrolled": true
   },
   "outputs": [
    {
     "name": "stdout",
     "output_type": "stream",
     "text": [
      "Hello\n",
      "<!doctype html><html itemscope=\"\" itemtype=\"http://schema.org/WebPage\" lang=\"ru\"><head><meta content=\"&#1055;&#1086;&#1080;&#1089;&#1082; &#1080;&#1085;&#1092;&#1086;&#1088;&#1084;&#1072;&#1094;&#1080;&#1080; &#1074; &#1080;&#1085;&#1090;&#1077;&#1088;&#1085;&#1077;&#1090;&#1077;: &#1074;&#1077;&#1073; &#1089;&#1090;&#1088;&#1072;&#1085;&#1080;&#1094;&#1099;, &#1082;&#1072;&#1088;&#1090;&#1080;&#1085;&#1082;&#1080;, &#1074;&#1080;&#1076;&#1077;&#1086; &#1080; &#1084;&#1085;&#1086;&#1075;&#1086;&#1077; &#1076;&#1088;&#1091;&#1075;&#1086;&#1077;.\" name=\"description\"><meta content=\"noodp\" name=\"robots\"><meta content=\"text/html; charset=UTF-8\" http-equiv=\"Content-Type\"><meta content=\"/images/branding/googleg/1x/googleg_standard_color_128dp.png\" itemprop=\"image\"><title>Google</title><script nonce=\"9Ep0wsPwCvmf4r+gHJVhlQ==\">(function(){window.google={kEI:'TjfzYYTxLcOG9u8PguWjsAs',kEXPI:'0,18168,1284368,56873,6058,207,4804,2316,383,246,5,1354,4013,1238,1122515,1197713,688,380089,16115,28684,17572,4859,1361,9291,3025,12742,4849,4990,13228,3847,4192,6430,7432,15311,2853,2226,1593,1279,2742,149,1103,841,6296,109,4011,2023,1777,520,14670,3227,2845,7,17450,14665,1655,908,2,941,6515,9241,3,576,6460,148,13975,4,1252,276,2304,7039,4684,15625,4764,2658,6701,481,175,30,13628,2305,18918,5815,2542,992,3102,17,4035,3,3541,1,16807,38,6866,18443,2,14022,1998,5522,744,5852,9321,1142,508,2,650,5679,1020,2381,2719,14886,3346,46,2,6,6681,1055,4568,2578,2788,893,6723,5294,2,6609,2172,2618,438,808,4594,2,6,12500,880,2826,1539,41,1270,1483,2071,2315,291,745,667,58,1782,2,2,1,3008,2648,1303,4262,1865,2081,2475,2,1,3753,1986,2,22,368,850,621,938,10,1,436,1047,534,3092,6,3414,62,113,1673,511,1693,1176,5,394,68,768,181,798,1,416,46,2,1984,357,766,333,595,2067,75,194,389,1319,692,40,262,1169,37,1099,449,121,891,76,2678,19,1,2,979,5,259,928,29,127,3755,5490783,12,3892,5996795,2801216,882,444,1,2,80,1,1796,1,9,2553,1,748,141,795,563,1,4265,1,1,2,1331,4142,2609,155,17,13,72,139,4,2,20,2,169,13,19,46,5,39,96,548,29,2,2,1,2,1,2,2,7,4,1,2,2,2,2,2,2,353,513,186,1,1,158,3,2,2,2,2,2,4,2,3,3,269,1601,141,204,51,69,6,5,4,2,5,13,5,34,2,4,4,1,23952571,2772895,1268795,3,2414,1491,9,1435,159,1358,4720,3,929,1246,917,1472,490,461,682,387,151',kBL:'kt7M'};google.sn='webhp';google.kHL='ru';})();(function(){\n",
      "var f=this||self;var h,k=[];function l(a){for(var b;a&&(!a.getAttribute||!(b=a.getAttribute(\"eid\")));)a=a.parentNode;return b||h}function m(a){for(var b=null;a&&(!a.getAttribute||!(b=a.getAttribute(\"leid\")));)a=a.parentNode;return b}\n",
      "function n(a,b,c,d,g){var e=\"\";c||-1!==b.search(\"&ei=\")||(e=\"&ei=\"+l(d),-1===b.search(\"&lei=\")&&(d=m(d))&&(e+=\"&lei=\"+d));d=\"\";!c&&f._cshid&&-1===b.search(\"&cshid=\")&&\"slh\"!==a&&(d=\"&cshid=\"+f._cshid);c=c||\"/\"+(g||\"gen_204\")+\"?atyp=i&ct=\"+a+\"&cad=\"+b+e+\"&zx=\"+Date.now()+d;/^http:/i.test(c)&&\"https:\"===window.location.protocol&&(google.ml&&google.ml(Error(\"a\"),!1,{src:c,glmm:1}),c=\"\");return c};h=google.kEI;google.getEI=l;google.getLEI=m;google.ml=function(){return null};google.log=function(a,b,c,d,g){if(c=n(a,b,c,d,g)){a=new Image;var e=k.length;k[e]=a;a.onerror=a.onload=a.onabort=function(){delete k[e]};a.src=c}};google.logUrl=n;}).call(this);(function(){\n",
      "google.y={};google.sy=[];google.x=function(a,b){if(a)var c=a.id;else{do c=Math.random();while(google.y[c])}google.y[c]=[a,b];return!1};google.sx=function(a){google.sy.push(a)};google.lm=[];google.plm=function(a){google.lm.push.apply(google.lm,a)};google.lq=[];google.load=function(a,b,c){google.lq.push([[a],b,c])};google.loadAll=function(a,b){google.lq.push([a,b])};google.bx=!1;google.lx=function(){};}).call(this);google.f={};(function(){\n",
      "document.documentElement.addEventListener(\"submit\",function(b){var a;if(a=b.target){var c=a.getAttribute(\"data-submitfalse\");a=\"1\"===c||\"q\"===c&&!a.elements.q.value?!0:!1}else a=!1;a&&(b.preventDefault(),b.stopPropagation())},!0);document.documentElement.addEventListener(\"click\",function(b){var a;a:{for(a=b.target;a&&a!==document.documentElement;a=a.parentElement)if(\"A\"===a.tagName){a=\"1\"===a.getAttribute(\"data-nohref\");break a}a=!1}a&&b.preventDefault()},!0);}).call(this);</script><style>#gbar,#guser{font-size:13px;padding-top:1px !important;}#gbar{height:22px}#guser{padding-bottom:7px !important;text-align:right}.gbh,.gbd{border-top:1px solid #c9d7f1;font-size:1px}.gbh{height:0;position:absolute;top:24px;width:100%}@media all{.gb1{height:22px;margin-right:.5em;vertical-align:top}#gbar{float:left}}a.gb1,a.gb4{text-decoration:underline !important}a.gb1,a.gb4{color:#00c !important}.gbi .gb4{color:#dd8e27 !important}.gbf .gb4{color:#900 !important}\n",
      "</style><style>body,td,a,p,.h{font-family:arial,sans-serif}body{margin:0;overflow-y:scroll}#gog{padding:3px 8px 0}td{line-height:.8em}.gac_m td{line-height:17px}form{margin-bottom:20px}.h{color:#1558d6}em{font-weight:bold;font-style:normal}.lst{height:25px;width:496px}.gsfi,.lst{font:18px arial,sans-serif}.gsfs{font:17px arial,sans-serif}.ds{display:inline-box;display:inline-block;margin:3px 0 4px;margin-left:4px}input{font-family:inherit}body{background:#fff;color:#000}a{color:#4b11a8;text-decoration:none}a:hover,a:active{text-decoration:underline}.fl a{color:#1558d6}a:visited{color:#4b11a8}.sblc{padding-top:5px}.sblc a{display:block;margin:2px 0;margin-left:13px;font-size:11px}.lsbb{background:#f8f9fa;border:solid 1px;border-color:#dadce0 #70757a #70757a #dadce0;height:30px}.lsbb{display:block}#WqQANb a{display:inline-block;margin:0 12px}.lsb{background:url(/images/nav_logo229.png) 0 -261px repeat-x;border:none;color:#000;cursor:pointer;height:30px;margin:0;outline:0;font:15px arial,sans-serif;vertical-align:top}.lsb:active{background:#dadce0}.lst:focus{outline:none}.tiah{width:458px}</style><script nonce=\"9Ep0wsPwCvmf4r+gHJVhlQ==\">(function(){window.google.erd={jsr:1,bv:1518,de:true};\n",
      "var f=this||self;var g,h,k=null!==(g=f.mei)&&void 0!==g?g:1,l=null!==(h=f.sdo)&&void 0!==h?h:!0,p=0,q,r=google.erd,u=r.jsr;google.ml=function(a,b,d,m,c){c=void 0===c?2:c;b&&(q=a&&a.message);if(google.dl)return google.dl(a,c,d),null;if(0>u){window.console&&console.error(a,d);if(-2===u)throw a;b=!1}else b=!a||!a.message||\"Error loading script\"===a.message||p>=k&&!m?!1:!0;if(!b)return null;p++;d=d||{};var e=c;c=encodeURIComponent;b=\"/gen_204?atyp=i&ei=\"+c(google.kEI);google.kEXPI&&(b+=\"&jexpid=\"+c(google.kEXPI));b+=\"&srcpg=\"+c(google.sn)+\"&jsr=\"+c(r.jsr)+\"&bver=\"+c(r.bv)+(\"&jsel=\"+e);e=a.lineNumber;void 0!==e&&(b+=\"&line=\"+\n",
      "e);var n=a.fileName;n&&(b+=\"&script=\"+c(n),e&&n===window.location.href&&(e=document.documentElement.outerHTML.split(\"\\n\")[e],b+=\"&cad=\"+c(e?e.substring(0,300):\"No script found.\")));for(var t in d)b+=\"&\",b+=c(t),b+=\"=\",b+=c(d[t]);b=b+\"&emsg=\"+c(a.name+\": \"+a.message);b=b+\"&jsst=\"+c(a.stack||\"N/A\");12288<=b.length&&(b=b.substr(0,12288));a=b;m||google.log(0,\"\",a);return a};window.onerror=function(a,b,d,m,c){q!==a&&(a=c instanceof Error?c:Error(a),void 0===d||\"lineNumber\"in a||(a.lineNumber=d),void 0===b||\"fileName\"in a||(a.fileName=b),google.ml(a,!1,void 0,!1,\"SyntaxError\"===a.name||\"SyntaxError\"===a.message.substring(0,11)?2:0));q=null;l&&p>=k&&(window.onerror=null)};})();</script></head><body bgcolor=\"#fff\"><script nonce=\"9Ep0wsPwCvmf4r+gHJVhlQ==\">(function(){var src='/images/nav_logo229.png';var iesg=false;document.body.onload = function(){window.n && window.n();if (document.images){new Image().src=src;}\n",
      "if (!iesg){document.f&&document.f.q.focus();document.gbqf&&document.gbqf.q.focus();}\n",
      "}\n",
      "})();</script><div id=\"mngb\"><div id=gbar><nobr><b class=gb1>&#1055;&#1086;&#1080;&#1089;&#1082;</b> <a class=gb1 href=\"http://www.google.ru/imghp?hl=ru&tab=wi\">&#1050;&#1072;&#1088;&#1090;&#1080;&#1085;&#1082;&#1080;</a> <a class=gb1 href=\"http://maps.google.ru/maps?hl=ru&tab=wl\">&#1050;&#1072;&#1088;&#1090;&#1099;</a> <a class=gb1 href=\"https://play.google.com/?hl=ru&tab=w8\">Play</a> <a class=gb1 href=\"http://www.youtube.com/?gl=RU&tab=w1\">YouTube</a> <a class=gb1 href=\"https://news.google.com/?tab=wn\">&#1053;&#1086;&#1074;&#1086;&#1089;&#1090;&#1080;</a> <a class=gb1 href=\"https://mail.google.com/mail/?tab=wm\">&#1055;&#1086;&#1095;&#1090;&#1072;</a> <a class=gb1 href=\"https://drive.google.com/?tab=wo\">&#1044;&#1080;&#1089;&#1082;</a> <a class=gb1 style=\"text-decoration:none\" href=\"https://www.google.ru/intl/ru/about/products?tab=wh\"><u>&#1045;&#1097;&#1105;</u> &raquo;</a></nobr></div><div id=guser width=100%><nobr><span id=gbn class=gbi></span><span id=gbf class=gbf></span><span id=gbe></span><a href=\"http://www.google.ru/history/optout?hl=ru\" class=gb4>&#1048;&#1089;&#1090;&#1086;&#1088;&#1080;&#1103; &#1074;&#1077;&#1073;-&#1087;&#1086;&#1080;&#1089;&#1082;&#1072;</a> | <a  href=\"/preferences?hl=ru\" class=gb4>&#1053;&#1072;&#1089;&#1090;&#1088;&#1086;&#1081;&#1082;&#1080;</a> | <a target=_top id=gb_70 href=\"https://accounts.google.com/ServiceLogin?hl=ru&passive=true&continue=http://www.google.com/&ec=GAZAAQ\" class=gb4>&#1042;&#1086;&#1081;&#1090;&#1080;</a></nobr></div><div class=gbh style=left:0></div><div class=gbh style=right:0></div></div><center><br clear=\"all\" id=\"lgpd\"><div id=\"lga\"><img alt=\"Google\" height=\"92\" src=\"/images/branding/googlelogo/1x/googlelogo_white_background_color_272x92dp.png\" style=\"padding:28px 0 14px\" width=\"272\" id=\"hplogo\"><br><br></div><form action=\"/search\" name=\"f\"><table cellpadding=\"0\" cellspacing=\"0\"><tr valign=\"top\"><td width=\"25%\">&nbsp;</td><td align=\"center\" nowrap=\"\"><input name=\"ie\" value=\"ISO-8859-1\" type=\"hidden\"><input value=\"ru\" name=\"hl\" type=\"hidden\"><input name=\"source\" type=\"hidden\" value=\"hp\"><input name=\"biw\" type=\"hidden\"><input name=\"bih\" type=\"hidden\"><div class=\"ds\" style=\"height:32px;margin:4px 0\"><div style=\"position:relative;zoom:1\"><input class=\"lst tiah\" style=\"margin:0;padding:5px 8px 0 6px;vertical-align:top;color:#000;padding-right:38px\" autocomplete=\"off\" value=\"\" title=\"&#1055;&#1086;&#1080;&#1089;&#1082; &#1074; Google\" maxlength=\"2048\" name=\"q\" size=\"57\"><img src=\"/textinputassistant/tia.png\" style=\"position:absolute;cursor:pointer;right:5px;top:4px;z-index:300\" data-script-url=\"/textinputassistant/11/ru_tia.js\" id=\"tsuid1\" alt=\"\" height=\"23\" width=\"27\"><script nonce=\"9Ep0wsPwCvmf4r+gHJVhlQ==\">(function(){var id='tsuid1';document.getElementById(id).onclick = function(){var s = document.createElement('script');s.src = this.getAttribute('data-script-url');(document.getElementById('xjsc')||document.body).appendChild(s);};})();</script></div></div><br style=\"line-height:0\"><span class=\"ds\"><span class=\"lsbb\"><input class=\"lsb\" value=\"&#1055;&#1086;&#1080;&#1089;&#1082; &#1074; Google\" name=\"btnG\" type=\"submit\"></span></span><span class=\"ds\"><span class=\"lsbb\"><input class=\"lsb\" id=\"tsuid2\" value=\"&#1052;&#1085;&#1077; &#1087;&#1086;&#1074;&#1077;&#1079;&#1105;&#1090;!\" name=\"btnI\" type=\"submit\"><script nonce=\"9Ep0wsPwCvmf4r+gHJVhlQ==\">(function(){var id='tsuid2';document.getElementById(id).onclick = function(){if (this.form.q.value){this.checked = 1;if (this.form.iflsig)this.form.iflsig.disabled = false;}\n",
      "else top.location='/doodles/';};})();</script><input value=\"ALs-wAMAAAAAYfNFXmAHd18N47QMzJzg5q6j-3EdIoWw\" name=\"iflsig\" type=\"hidden\"></span></span></td><td class=\"fl sblc\" align=\"left\" nowrap=\"\" width=\"25%\"><a href=\"/advanced_search?hl=ru&amp;authuser=0\">&#1056;&#1072;&#1089;&#1096;&#1080;&#1088;&#1077;&#1085;&#1085;&#1099;&#1081; &#1087;&#1086;&#1080;&#1089;&#1082;</a></td></tr></table><input id=\"gbv\" name=\"gbv\" type=\"hidden\" value=\"1\"><script nonce=\"9Ep0wsPwCvmf4r+gHJVhlQ==\">(function(){\n",
      "var a,b=\"1\";if(document&&document.getElementById)if(\"undefined\"!=typeof XMLHttpRequest)b=\"2\";else if(\"undefined\"!=typeof ActiveXObject){var c,d,e=[\"MSXML2.XMLHTTP.6.0\",\"MSXML2.XMLHTTP.3.0\",\"MSXML2.XMLHTTP\",\"Microsoft.XMLHTTP\"];for(c=0;d=e[c++];)try{new ActiveXObject(d),b=\"2\"}catch(h){}}a=b;if(\"2\"==a&&-1==location.search.indexOf(\"&gbv=2\")){var f=google.gbvu,g=document.getElementById(\"gbv\");g&&(g.value=a);f&&window.setTimeout(function(){location.href=f},0)};}).call(this);</script></form><div id=\"gac_scont\"></div><div style=\"font-size:83%;min-height:3.5em\"><br></div><span id=\"footer\"><div style=\"font-size:10pt\"><div style=\"margin:19px auto;text-align:center\" id=\"WqQANb\"><a href=\"http://www.google.ru/intl/ru/services/\">&#1056;&#1077;&#1096;&#1077;&#1085;&#1080;&#1103; &#1076;&#1083;&#1103; &#1073;&#1080;&#1079;&#1085;&#1077;&#1089;&#1072;</a><a href=\"/intl/ru/about.html\">&#1042;&#1089;&#1105; &#1086; Google</a><a href=\"http://www.google.com/setprefdomain?prefdom=RU&amp;prev=http://www.google.ru/&amp;sig=K_uadaC6XQzERxa8i_GAnvPm0yJdc%3D\">Google.ru</a></div></div><p style=\"font-size:8pt;color:#70757a\">&copy; 2022 - <a href=\"/intl/ru/policies/privacy/\">&#1050;&#1086;&#1085;&#1092;&#1080;&#1076;&#1077;&#1085;&#1094;&#1080;&#1072;&#1083;&#1100;&#1085;&#1086;&#1089;&#1090;&#1100;</a> - <a href=\"/intl/ru/policies/terms/\">&#1059;&#1089;&#1083;&#1086;&#1074;&#1080;&#1103;</a></p></span></center><script nonce=\"9Ep0wsPwCvmf4r+gHJVhlQ==\">(function(){window.google.cdo={height:757,width:1440};(function(){\n",
      "var a=window.innerWidth,b=window.innerHeight;if(!a||!b){var c=window.document,d=\"CSS1Compat\"==c.compatMode?c.documentElement:c.body;a=d.clientWidth;b=d.clientHeight}a&&b&&(a!=google.cdo.width||b!=google.cdo.height)&&google.log(\"\",\"\",\"/client_204?&atyp=i&biw=\"+a+\"&bih=\"+b+\"&ei=\"+google.kEI);}).call(this);})();</script> <script nonce=\"9Ep0wsPwCvmf4r+gHJVhlQ==\">(function(){google.xjs={ck:'',cs:'',excm:[]};})();</script>  <script nonce=\"9Ep0wsPwCvmf4r+gHJVhlQ==\">(function(){var u='/xjs/_/js/k\\x3dxjs.hp.en.6xuaaDbqVFA.O/am\\x3dAPAEAEACkA/d\\x3d1/ed\\x3d1/esmo\\x3d1/rs\\x3dACT90oG4Usrsj2N3Yw8h2Jw2fjfpOOQfYA/m\\x3dsb_he,d';\n",
      "var e=this||self,f=function(a){return a};var g;var l=function(a,b){this.g=b===h?a:\"\"};l.prototype.toString=function(){return this.g+\"\"};var h={};\n",
      "function m(){var a=u;google.lx=function(){n(a);google.lx=function(){}};google.bx||google.lx()}\n",
      "function n(a){google.timers&&google.timers.load&&google.tick&&google.tick(\"load\",\"xjsls\");var b=document;var c=\"SCRIPT\";\"application/xhtml+xml\"===b.contentType&&(c=c.toLowerCase());c=b.createElement(c);if(void 0===g){b=null;var k=e.trustedTypes;if(k&&k.createPolicy){try{b=k.createPolicy(\"goog#html\",{createHTML:f,createScript:f,createScriptURL:f})}catch(p){e.console&&e.console.error(p.message)}g=b}else g=b}a=(b=g)?b.createScriptURL(a):a;a=new l(a,h);c.src=a instanceof l&&a.constructor===l?a.g:\"type_error:TrustedResourceUrl\";var d;a=(c.ownerDocument&&c.ownerDocument.defaultView||window).document;(d=(b=null===(d=a.querySelector)||void 0===d?void 0:d.call(a,\"script[nonce]\"))?b.nonce||b.getAttribute(\"nonce\")||\"\":\"\")&&c.setAttribute(\"nonce\",d);document.body.appendChild(c);google.psa=!0};google.xjsu=u;setTimeout(function(){m()},0);})();function _DumpException(e){throw e;}\n",
      "function _F_installCss(c){}\n",
      "(function(){google.jl={attn:false,blt:'none',chnk:0,dw:false,dwu:true,emtn:0,end:0,ine:false,lls:'default',pdt:0,rep:0,snet:true,strt:0,ubm:false,uwp:true};})();(function(){var pmc='{\\x22d\\x22:{},\\x22sb_he\\x22:{\\x22agen\\x22:true,\\x22cgen\\x22:true,\\x22client\\x22:\\x22heirloom-hp\\x22,\\x22dh\\x22:true,\\x22dhqt\\x22:true,\\x22ds\\x22:\\x22\\x22,\\x22ffql\\x22:\\x22ru\\x22,\\x22fl\\x22:true,\\x22host\\x22:\\x22google.com\\x22,\\x22isbh\\x22:28,\\x22jsonp\\x22:true,\\x22msgs\\x22:{\\x22cibl\\x22:\\x22&#1059;&#1076;&#1072;&#1083;&#1080;&#1090;&#1100; &#1087;&#1086;&#1080;&#1089;&#1082;&#1086;&#1074;&#1099;&#1081; &#1079;&#1072;&#1087;&#1088;&#1086;&#1089;\\x22,\\x22dym\\x22:\\x22&#1042;&#1086;&#1079;&#1084;&#1086;&#1078;&#1085;&#1086;, &#1074;&#1099; &#1080;&#1084;&#1077;&#1083;&#1080; &#1074; &#1074;&#1080;&#1076;&#1091;:\\x22,\\x22lcky\\x22:\\x22&#1052;&#1085;&#1077; &#1087;&#1086;&#1074;&#1077;&#1079;&#1105;&#1090;!\\x22,\\x22lml\\x22:\\x22&#1055;&#1086;&#1076;&#1088;&#1086;&#1073;&#1085;&#1077;&#1077;...\\x22,\\x22oskt\\x22:\\x22&#1069;&#1082;&#1088;&#1072;&#1085;&#1085;&#1072;&#1103; &#1082;&#1083;&#1072;&#1074;&#1080;&#1072;&#1090;&#1091;&#1088;&#1072;\\x22,\\x22psrc\\x22:\\x22&#1069;&#1090;&#1086;&#1090; &#1079;&#1072;&#1087;&#1088;&#1086;&#1089; &#1073;&#1099;&#1083; &#1091;&#1076;&#1072;&#1083;&#1077;&#1085; &#1080;&#1079; &#1074;&#1072;&#1096;&#1077;&#1081; \\\\u003Ca href\\x3d\\\\\\x22/history\\\\\\x22\\\\u003E&#1080;&#1089;&#1090;&#1086;&#1088;&#1080;&#1080; &#1074;&#1077;&#1073;-&#1087;&#1086;&#1080;&#1089;&#1082;&#1072;\\\\u003C/a\\\\u003E\\x22,\\x22psrl\\x22:\\x22&#1059;&#1076;&#1072;&#1083;&#1080;&#1090;&#1100;\\x22,\\x22sbit\\x22:\\x22&#1055;&#1086;&#1080;&#1089;&#1082; &#1087;&#1086; &#1082;&#1072;&#1088;&#1090;&#1080;&#1085;&#1082;&#1077;\\x22,\\x22srch\\x22:\\x22&#1055;&#1086;&#1080;&#1089;&#1082; &#1074; Google\\x22},\\x22ovr\\x22:{},\\x22pq\\x22:\\x22\\x22,\\x22refpd\\x22:true,\\x22rfs\\x22:[],\\x22sbas\\x22:\\x220 3px 8px 0 rgba(0,0,0,0.2),0 0 0 1px rgba(0,0,0,0.08)\\x22,\\x22sbpl\\x22:16,\\x22sbpr\\x22:16,\\x22scd\\x22:10,\\x22stok\\x22:\\x22KQBICNFOhyGKONqzlg-mshWW5yI\\x22,\\x22uhde\\x22:false}}';google.pmc=JSON.parse(pmc);})();</script>        </body></html>\n"
     ]
    }
   ],
   "source": [
    "''' My Useful Functions\n",
    "'''\n",
    "\n",
    "import unicodedata\n",
    "import numpy as np\n",
    "import requests\n",
    "import glob, os\n",
    "from bs4 import BeautifulSoup\n",
    "\n",
    "# 1. Tries to download page 6 times instead of 1\n",
    "def long_request(url):\n",
    "    for j in range(6):\n",
    "        try:\n",
    "            p = requests.get(url)\n",
    "            return p\n",
    "            #break\n",
    "        except Exception as e:\n",
    "            print(e)\n",
    "    return 'CAN_NOT_CONNECT'\n",
    "\n",
    "# 2. Checks if list has the same elements\n",
    "def Doubles(a):\n",
    "    ans = []\n",
    "    for i in range(1,len(a)):\n",
    "        if a[i] in set(a[:i]):\n",
    "            ans.append(a[i])\n",
    "    return ans\n",
    "\n",
    "# 3. Checks if a table has columns or rows with the same name.(That's a huge mistake!)\n",
    "def DRDC(table):\n",
    "    a = ['raws']\n",
    "    a.extend(Doubles(table.index))\n",
    "    a.append('columns')\n",
    "    a.extend(Doubles(table.columns))\n",
    "    return a\n",
    "\n",
    "# 4. Delete accents above players names\n",
    "def strip_accents(s):\n",
    "   return ''.join(c for c in unicodedata.normalize('NFD', s)\n",
    "                  if unicodedata.category(c) != 'Mn')\n",
    "\n",
    "# 5. strip_accents for the 1st clumn of the table\n",
    "# Need to be DataFrame,not a column constti.strip_accents_pdlist(pd.DataFrame(bigTable['web_name']))\n",
    "def strip_accents_pdlist(a):\n",
    "    b = a.copy()\n",
    "    for i in range(len(a)):\n",
    "        b.iat[i,0] = strip_accents(a.iat[i,0])\n",
    "    return b\n",
    "\n",
    "# 6. Changes name of a column col_name to new_col_name of a Table\n",
    "def change_column_name(Table, col_name, new_col_name):\n",
    "    if new_col_name in set(Table.columns):\n",
    "        print(\"Can't change column name\")\n",
    "        return Table\n",
    "    temp_Table = Table.copy()\n",
    "    temp = temp_Table.columns\n",
    "    temp = [temp[i] if temp[i] != col_name else new_col_name for i in range(len(temp))]\n",
    "    temp_Table.columns = temp\n",
    "    return temp_Table\n",
    "\n",
    "# 7. Finds differences between the tables\n",
    "\n",
    "def differences(A, B):\n",
    "    '''\n",
    "        Finds differences between the tables\n",
    "        Change None to np.nan previously\n",
    "    '''\n",
    "    same = 1\n",
    "    if list(A.index) != list(B.index):\n",
    "        print(f'Indexes are not equal: {(set(A.index)-set(B.index))|(set(B.index)-set(A.index))}')\n",
    "        same = 0\n",
    "    if list(A.columns) != list(B.columns):\n",
    "        print(f'Columns are not equal: {(set(A.columns)-set(B.columns))|(set(B.columns)-set(A.columns))}')\n",
    "        same = 0\n",
    "    if same == 0:\n",
    "        return A\n",
    "    else:\n",
    "        A = A.fillna(value=np.nan)\n",
    "        B = B.fillna(value=np.nan)\n",
    "        def eqNeq(col):\n",
    "            res = col.copy()\n",
    "            for i in A.index:\n",
    "                a = type(col[i]) not in (float, np.float64)\n",
    "                b = type(B[col.name][i]) not in (float, np.float64)\n",
    "                if a|b: res[i] = bool(col[i] == B[col.name][i])\n",
    "                else:\n",
    "                    c = np.isnan(col[i])\n",
    "                    d = np.isnan(B[col.name][i])\n",
    "                    if c&d: res[i] = True\n",
    "                    else: res[i] = bool(col[i] == B[col.name][i])\n",
    "            return res\n",
    "        df = A.apply(eqNeq)\n",
    "#         df = A.apply(lambda x: [x[i] == B[x.name][i] \\\n",
    "#         if (type(x[i]) not in (float, np.float64))|(type(B[x.name][i]) not in (float, np.float64))\\\n",
    "#         else True if (np.isnan(x[i]))&(np.isnan(B[x.name][i]))\\\n",
    "#         else x[i] == B[x.name][i] for i in A.index])\n",
    "\n",
    "        for i in df.index:\n",
    "            if df.loc[i].sum() == len(df.columns):\n",
    "                df = df.drop(i)\n",
    "        for j in df.columns:\n",
    "            if df[j].sum() == len(df):\n",
    "                del df[j]\n",
    "        return df\n",
    "    \n",
    "# 8. isnan without mistake for non numpy objects\n",
    "\n",
    "def myisnan(x):\n",
    "    try:\n",
    "        return np.isnan(x)\n",
    "    except:\n",
    "        return False\n",
    "\n",
    "# 9. Same head, header and script at the end for all html files inside html folder\n",
    "\n",
    "def head_header_script (copy_head = 1, copy_header = 1, copy_script = 1, copy_nav=1, copy_footer=1):\n",
    "    '''\n",
    "        Same head, header and script at the end for all html files inside html folder\n",
    "    '''\n",
    "    with open('index.html', 'r', encoding=\"utf-8\") as file:\n",
    "        main_html = file.read()\n",
    "        header = str(BeautifulSoup(main_html, 'html.parser')('header')[0])\n",
    "        head = str(BeautifulSoup(main_html, 'html.parser')('head')[0])\n",
    "        script = str(BeautifulSoup(main_html, 'html.parser')('script')[-1])\n",
    "        nav = str(BeautifulSoup(main_html, 'html.parser')('nav')[0])\n",
    "        footer = str(BeautifulSoup(main_html, 'html.parser')('footer')[0])\n",
    "        \n",
    "\n",
    "    my_path = os.getcwd()\n",
    "    file_paths = glob.glob(my_path + '/html/**/*.html', recursive=True)\n",
    "\n",
    "    for path in file_paths:\n",
    "        with open(path, 'r', encoding=\"utf-8\") as file:\n",
    "            print(path)\n",
    "            file_text = file.read()\n",
    "        \n",
    "        new_file = file_text\n",
    "        if (file_text.find('<head>') != -1) & (copy_head == 1):\n",
    "            new_file = file_text.replace(file_text[file_text.find('<head>'):file_text.find('</head>')+7], head)\n",
    "        if (file_text.find('<header>') != -1) & (copy_header == 1):\n",
    "            new_file = new_file.replace(new_file[new_file.find('<header>'):new_file.find('</header>')+9], header)\n",
    "        if (new_file.find('<script id=\"end\">') != -1) & (copy_script == 1):\n",
    "            #print(\"found!!\")\n",
    "            new_file = new_file.replace(new_file[new_file.find('<script id=\"end\">'):], script)\n",
    "        if (file_text.find('<nav>') != -1) & (copy_nav == 1):\n",
    "            new_file = new_file.replace(new_file[new_file.find('<nav>'):new_file.find('</nav>')+6], nav)\n",
    "        if (file_text.find('<footer>') != -1) & (copy_nav == 1):\n",
    "            new_file = new_file.replace(new_file[new_file.find('<footer>'):new_file.find('</footer>')+9], footer)\n",
    "\n",
    "#             file_text1 = str(BeautifulSoup(file_text, 'html.parser')('div', {id:\"main-table\"})[0])\n",
    "#             file_text2 = str(BeautifulSoup(file_text, 'html.parser')('div', {id:\"blog\"})[0])\n",
    "#             file_text = file_text1 + file_text2\n",
    "#             new_file = head + \"<body>\" + header + nav + file_text + \"</body>\" + footer + script\n",
    "        \n",
    "        #else:\n",
    "        #Check if it i not a Data page\n",
    "        if ('FPL' not in path.split('\\\\')) and ('Understat' not in path.split('\\\\')):\n",
    "            #print(\"not found\")\n",
    "            div_sources = str(BeautifulSoup(main_html, 'html.parser')('div', {\"id\" : \"Sources\"})[0])\n",
    "            new_file = head + \"<body>\" + header + \"<main>\" + file_text + \"</main>\" + \"</body>\" + footer + script\n",
    "            new_file = new_file.replace(div_sources, \"\")\n",
    "        with open(path, 'w', encoding=\"utf-8\") as file:\n",
    "            file.write(new_file)\n",
    "            \n",
    "#     file_paths = glob.glob(my_path + '/Ranking/**/*.html', recursive=True)\n",
    "#     for path in file_paths:\n",
    "#         with open(path, 'r', encoding=\"utf-8\") as file:\n",
    "#             print(path)\n",
    "#             file_text = file.read()\n",
    "#         new_file = head + header + file_text + footer + script\n",
    "#         with open(path, 'w', encoding=\"utf-8\") as file:\n",
    "#             file.write(new_file)\n",
    "\n",
    "if __name__==\"__main__\":\n",
    "    print('Hello')\n",
    "    p = long_request('http://google.com')\n",
    "    print(p.text)"
   ]
  },
  {
   "cell_type": "code",
   "execution_count": 64,
   "metadata": {
    "scrolled": true
   },
   "outputs": [
    {
     "name": "stdout",
     "output_type": "stream",
     "text": [
      "C:\\Users\\const\\Documents\\GitHub\\tikeve.github.io/html\\2019_2020\\index.html\n"
     ]
    },
    {
     "ename": "IndexError",
     "evalue": "list index out of range",
     "output_type": "error",
     "traceback": [
      "\u001b[1;31m---------------------------------------------------------------------------\u001b[0m",
      "\u001b[1;31mIndexError\u001b[0m                                Traceback (most recent call last)",
      "\u001b[1;32m<ipython-input-64-6a510f45bb09>\u001b[0m in \u001b[0;36m<module>\u001b[1;34m\u001b[0m\n\u001b[1;32m----> 1\u001b[1;33m \u001b[0mhead_header_script\u001b[0m\u001b[1;33m(\u001b[0m\u001b[1;33m)\u001b[0m\u001b[1;33m\u001b[0m\u001b[1;33m\u001b[0m\u001b[0m\n\u001b[0m",
      "\u001b[1;32m<ipython-input-63-4d9dcdccbdf3>\u001b[0m in \u001b[0;36mhead_header_script\u001b[1;34m(copy_head, copy_header, copy_script, copy_nav, copy_footer)\u001b[0m\n\u001b[0;32m    149\u001b[0m     \u001b[1;31m#     if new_file.find('/n<script id=\"end\">') != -1:\u001b[0m\u001b[1;33m\u001b[0m\u001b[1;33m\u001b[0m\u001b[1;33m\u001b[0m\u001b[0m\n\u001b[0;32m    150\u001b[0m     \u001b[1;31m#         new_file = new_file.replace('/n<script id=\"end\">', '<script id=\"end\">')\u001b[0m\u001b[1;33m\u001b[0m\u001b[1;33m\u001b[0m\u001b[1;33m\u001b[0m\u001b[0m\n\u001b[1;32m--> 151\u001b[1;33m             \u001b[0mfile_text1\u001b[0m \u001b[1;33m=\u001b[0m \u001b[0mstr\u001b[0m\u001b[1;33m(\u001b[0m\u001b[0mBeautifulSoup\u001b[0m\u001b[1;33m(\u001b[0m\u001b[0mfile_text\u001b[0m\u001b[1;33m,\u001b[0m \u001b[1;34m'html.parser'\u001b[0m\u001b[1;33m)\u001b[0m\u001b[1;33m(\u001b[0m\u001b[1;34m'div'\u001b[0m\u001b[1;33m,\u001b[0m \u001b[1;33m{\u001b[0m\u001b[0mid\u001b[0m\u001b[1;33m:\u001b[0m\u001b[1;34m\"main-table\"\u001b[0m\u001b[1;33m}\u001b[0m\u001b[1;33m)\u001b[0m\u001b[1;33m[\u001b[0m\u001b[1;36m0\u001b[0m\u001b[1;33m]\u001b[0m\u001b[1;33m)\u001b[0m\u001b[1;33m\u001b[0m\u001b[1;33m\u001b[0m\u001b[0m\n\u001b[0m\u001b[0;32m    152\u001b[0m             \u001b[0mfile_text2\u001b[0m \u001b[1;33m=\u001b[0m \u001b[0mstr\u001b[0m\u001b[1;33m(\u001b[0m\u001b[0mBeautifulSoup\u001b[0m\u001b[1;33m(\u001b[0m\u001b[0mfile_text\u001b[0m\u001b[1;33m,\u001b[0m \u001b[1;34m'html.parser'\u001b[0m\u001b[1;33m)\u001b[0m\u001b[1;33m(\u001b[0m\u001b[1;34m'div'\u001b[0m\u001b[1;33m,\u001b[0m \u001b[1;33m{\u001b[0m\u001b[0mid\u001b[0m\u001b[1;33m:\u001b[0m\u001b[1;34m\"blog\"\u001b[0m\u001b[1;33m}\u001b[0m\u001b[1;33m)\u001b[0m\u001b[1;33m[\u001b[0m\u001b[1;36m0\u001b[0m\u001b[1;33m]\u001b[0m\u001b[1;33m)\u001b[0m\u001b[1;33m\u001b[0m\u001b[1;33m\u001b[0m\u001b[0m\n\u001b[0;32m    153\u001b[0m             \u001b[0mfile_text\u001b[0m \u001b[1;33m=\u001b[0m \u001b[0mfile_text1\u001b[0m \u001b[1;33m+\u001b[0m \u001b[0mfile_text2\u001b[0m\u001b[1;33m\u001b[0m\u001b[1;33m\u001b[0m\u001b[0m\n",
      "\u001b[1;31mIndexError\u001b[0m: list index out of range"
     ]
    }
   ],
   "source": [
    "head_header_script()"
   ]
  },
  {
   "cell_type": "code",
   "execution_count": 58,
   "metadata": {},
   "outputs": [
    {
     "data": {
      "text/plain": [
       "['C:',\n",
       " 'Users',\n",
       " 'const',\n",
       " 'Documents',\n",
       " 'GitHub',\n",
       " 'tikeve.github.io/html',\n",
       " 'Understat',\n",
       " 'Player_xG.html']"
      ]
     },
     "execution_count": 58,
     "metadata": {},
     "output_type": "execute_result"
    }
   ],
   "source": [
    "path.split('\\\\')"
   ]
  },
  {
   "cell_type": "code",
   "execution_count": 60,
   "metadata": {},
   "outputs": [
    {
     "data": {
      "text/plain": [
       "False"
      ]
     },
     "execution_count": 60,
     "metadata": {},
     "output_type": "execute_result"
    }
   ],
   "source": [
    "('FPL' not in path.split('\\\\')) and ('Understat' not in path.split('\\\\'))"
   ]
  },
  {
   "cell_type": "code",
   "execution_count": null,
   "metadata": {},
   "outputs": [],
   "source": []
  }
 ],
 "metadata": {
  "kernelspec": {
   "display_name": "Python 3",
   "language": "python",
   "name": "python3"
  },
  "language_info": {
   "codemirror_mode": {
    "name": "ipython",
    "version": 3
   },
   "file_extension": ".py",
   "mimetype": "text/x-python",
   "name": "python",
   "nbconvert_exporter": "python",
   "pygments_lexer": "ipython3",
   "version": "3.7.1"
  }
 },
 "nbformat": 4,
 "nbformat_minor": 2
}
