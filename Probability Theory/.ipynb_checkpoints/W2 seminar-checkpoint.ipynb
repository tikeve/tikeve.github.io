{
 "cells": [
  {
   "cell_type": "markdown",
   "metadata": {},
   "source": [
    "GQ. Application of Binomial distribution"
   ]
  },
  {
   "cell_type": "code",
   "execution_count": 8,
   "metadata": {},
   "outputs": [
    {
     "data": {
      "text/plain": [
       "0.0729"
      ]
     },
     "execution_count": 8,
     "metadata": {},
     "output_type": "execute_result"
    }
   ],
   "source": [
    "import math\n",
    "import numpy as np\n",
    "math.factorial(5)/(math.factorial(3)*2)*0.9**3*0.01"
   ]
  },
  {
   "cell_type": "markdown",
   "metadata": {},
   "source": [
    "GQ. More exotic distributions"
   ]
  },
  {
   "cell_type": "code",
   "execution_count": 7,
   "metadata": {},
   "outputs": [
    {
     "data": {
      "text/plain": [
       "0.13399507967452326"
      ]
     },
     "execution_count": 7,
     "metadata": {},
     "output_type": "execute_result"
    }
   ],
   "source": [
    "p1 = 75*74*73/(100*99*98)\n",
    "p2 = 3*75*74*25/(100*99*98)\n",
    "p3 = 3*75*25*24/(100*99*98)\n",
    "25*24*23/(100*99*98)\n",
    "math.factorial(5)/4*p1**2*p2**2*p3"
   ]
  },
  {
   "cell_type": "markdown",
   "metadata": {},
   "source": [
    "PQ. PMF practice"
   ]
  },
  {
   "cell_type": "code",
   "execution_count": 13,
   "metadata": {},
   "outputs": [
    {
     "data": {
      "text/plain": [
       "2.25"
      ]
     },
     "execution_count": 13,
     "metadata": {},
     "output_type": "execute_result"
    }
   ],
   "source": [
    "X = np.array([-2,-1,0,1,3])\n",
    "P = np.array([0.1,0.1,0.4,0.2,0.2])\n",
    "sum(X*P)\n",
    "sum(P*(X-sum(X*P))**2)"
   ]
  },
  {
   "cell_type": "markdown",
   "metadata": {},
   "source": [
    "PQ. Expectation practice  =  too easy"
   ]
  },
  {
   "cell_type": "markdown",
   "metadata": {},
   "source": [
    "GQ. Expected value excercises"
   ]
  },
  {
   "cell_type": "code",
   "execution_count": 43,
   "metadata": {},
   "outputs": [
    {
     "data": {
      "text/plain": [
       "0.9259259259259258"
      ]
     },
     "execution_count": 43,
     "metadata": {},
     "output_type": "execute_result"
    }
   ],
   "source": [
    "X = np.array([-3,-2,-1,0,1,2,3])\n",
    "P = np.array([1/14,1/7,1/7,2/7,2/7,0,1/14])\n",
    "sum(X*P)\n",
    "3.5**2\n",
    "3*4-4*3\n",
    "math.factorial(6)/6**6 * 60"
   ]
  },
  {
   "cell_type": "code",
   "execution_count": 44,
   "metadata": {},
   "outputs": [
    {
     "data": {
      "text/plain": [
       "Fraction(-1, 7)"
      ]
     },
     "execution_count": 44,
     "metadata": {},
     "output_type": "execute_result"
    }
   ],
   "source": [
    "from fractions import Fraction\n",
    "X = np.array([Fraction('-3'),Fraction('-2'),Fraction('-1'),Fraction('0'),Fraction('1'),Fraction('2'),Fraction('3')])\n",
    "P = np.array([Fraction('1/14'),Fraction('1/7'),Fraction('1/7'),Fraction('2/7'),Fraction('2/7'),Fraction('0'),Fraction('1/14')])\n",
    "sum(X*P)"
   ]
  },
  {
   "cell_type": "markdown",
   "metadata": {},
   "source": [
    "GQ. Variance skill test"
   ]
  },
  {
   "cell_type": "code",
   "execution_count": 54,
   "metadata": {},
   "outputs": [
    {
     "data": {
      "text/plain": [
       "2.9166666666666665"
      ]
     },
     "execution_count": 54,
     "metadata": {},
     "output_type": "execute_result"
    }
   ],
   "source": [
    "X = np.array([Fraction('-3'),Fraction('-2'),Fraction('-1'),Fraction('0'),Fraction('1'),Fraction('2'),Fraction('3')])\n",
    "P = np.array([Fraction('1/14'),Fraction('1/7'),Fraction('1/7'),Fraction('2/7'),Fraction('2/7'),Fraction('0'),Fraction('1/14')])\n",
    "sum(P*(X-sum(X*P))**2)\n",
    "\n",
    "X = np.array(range(1,7))\n",
    "P = np.array(6*[1/6])\n",
    "sum(P*(X-sum(X*P))**2)"
   ]
  },
  {
   "cell_type": "markdown",
   "metadata": {},
   "source": [
    "GQ. More skill tests on Expectation and Variance"
   ]
  },
  {
   "cell_type": "code",
   "execution_count": 68,
   "metadata": {},
   "outputs": [
    {
     "name": "stdout",
     "output_type": "stream",
     "text": [
      "[2 2 4 5 3 5 2 5 3 0]\n",
      "[0.75679384 0.04135509 0.91945657 0.11037422 0.65313813 0.70915534\n",
      " 0.69820671 0.7901477  0.3559865  0.22785011]\n",
      "[ 4  2  1  3 11  1  8 10 10 18]\n",
      "[10  3  8  7 12  9  9 14  4  5]\n"
     ]
    }
   ],
   "source": [
    "from numpy.random import choice\n",
    "from itertools import product\n",
    "\n",
    "choice([1,2,3], p=[0.2,0.3,0.5])\n",
    "omega = set(product(['1','0'], repeat=3))\n",
    "omega\n",
    "\n",
    "from numpy.random import binomial\n",
    "print(binomial(n=10, p=0.3, size=10))\n",
    "from numpy.random import uniform\n",
    "print(uniform(low=0, high=1, size=10))\n",
    "from numpy.random import geometric\n",
    "print(geometric(p=0.2, size=10))\n",
    "from numpy.random import poisson\n",
    "print(poisson(lam=8, size=10))"
   ]
  },
  {
   "cell_type": "code",
   "execution_count": 77,
   "metadata": {},
   "outputs": [
    {
     "data": {
      "text/plain": [
       "0.0"
      ]
     },
     "execution_count": 77,
     "metadata": {},
     "output_type": "execute_result"
    }
   ],
   "source": [
    "from scipy.stats import binom\n",
    "X = binom(10, 1)\n",
    "X.pmf(1)\n",
    "X.moment(2) - X.moment(1)**2"
   ]
  },
  {
   "cell_type": "code",
   "execution_count": null,
   "metadata": {},
   "outputs": [],
   "source": []
  }
 ],
 "metadata": {
  "kernelspec": {
   "display_name": "Python 3",
   "language": "python",
   "name": "python3"
  },
  "language_info": {
   "codemirror_mode": {
    "name": "ipython",
    "version": 3
   },
   "file_extension": ".py",
   "mimetype": "text/x-python",
   "name": "python",
   "nbconvert_exporter": "python",
   "pygments_lexer": "ipython3",
   "version": "3.7.3"
  }
 },
 "nbformat": 4,
 "nbformat_minor": 2
}
