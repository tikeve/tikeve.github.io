{
 "cells": [
  {
   "cell_type": "markdown",
   "metadata": {},
   "source": [
    "# Probability\n",
    "## Random number generators\n",
    "In this assignment we will practice generating samples from various discrete random variables. All distributions that we generate are well-known and already implemented in Python. However, it is important to understand how random variables work and how we can implement random number generators with different distributions.\n",
    "\n",
    "### Peer review grading\n",
    "After you finish solving problems, you can click *Validate* button to check that everything works. Then you can submit it for automatic grading. However, automatic grading (as well as validation) only checks that all functions are implemented and there are no syntax errors. It cannot check that results are correct in this assignment. The main part of grading is done in peer review mode. When ready, please, download this notebook as ipynb file (*File → Download as → Notebook*), then submit to *Peer Review: Random number generators* course element. Please, refer to [this article](https://learner.coursera.help/hc/en-us/articles/360042817371-Solving-Common-Issues-with-Coursera-Labs-) for help with the Lab environment. Peer Review Grading instructions are given in the appropriate places in the notebook below (under **Peer Review Grading** headings).\n",
    "\n",
    "\n",
    "### Binomial random number generator: modelling probability space\n",
    "Implement the function `rbinom_fair(trials)` that generates one random number with binomial distribution for a given number of trials (tossings). Assume that we use fair coin (i.e. probability of success (*head*) is 1/2). Use `itertools.product` to construct a sample set `omega`. Then define a function `X(outcome)` that takes element `outcome` from `omega` and returns the value of your random variable for this outcome (i.e. counts number of *heads*). Then use `random.choice` to select random outcome from `omega` (note that `random.choice` and `numpy.random.choice` are different functions; you should use `random.choice` here because `numpy.random.choice` does not work with lists of tuples), calculate the value of `X` at this element and return it. The results of your function should be similar to the results of `scipy.stats.binom(trials, 0.5).rvs()`. You can test your function by generating large samples and plotting frequencies like discussed in the video.\n",
    "\n",
    "**Note.** This way of generating binomial random variable is extremely inefficient due to large sample space for large values of `trials`. In the next problem we discuss mode efficient way to do it. This example is for educational purposes only: it illustrates the definition of random variable as a function defined on probability space."
   ]
  },
  {
   "cell_type": "code",
   "execution_count": 1,
   "metadata": {
    "deletable": false,
    "nbgrader": {
     "cell_type": "code",
     "checksum": "e7624b057ecaeb8e3382e1f61989e45e",
     "grade": false,
     "grade_id": "cell-9c400231081daa89",
     "locked": false,
     "schema_version": 3,
     "solution": true,
     "task": false
    }
   },
   "outputs": [],
   "source": [
    "import random\n",
    "import matplotlib.pyplot as plt\n",
    "from itertools import product\n",
    "from random import choice"
   ]
  },
  {
   "cell_type": "code",
   "execution_count": 2,
   "metadata": {},
   "outputs": [],
   "source": [
    "def X(outcome):\n",
    "    return outcome.count('H')"
   ]
  },
  {
   "cell_type": "code",
   "execution_count": 3,
   "metadata": {},
   "outputs": [],
   "source": [
    "def rbinom_fair(trials):\n",
    "    omega = set(product(['H','T'], repeat = trials))\n",
    "    ran_num = choice(list(omega))\n",
    "    x = X(ran_num)\n",
    "    return x\n",
    "    # your code here"
   ]
  },
  {
   "cell_type": "markdown",
   "metadata": {},
   "source": [
    "Try running it. Should obtain random number. If you run this cell again, you will get different number."
   ]
  },
  {
   "cell_type": "code",
   "execution_count": 45,
   "metadata": {
    "deletable": false,
    "editable": false,
    "nbgrader": {
     "cell_type": "code",
     "checksum": "632b0c5fe88834aaf05a89843b527404",
     "grade": true,
     "grade_id": "cell-d56c8e0a0eed49f6",
     "locked": true,
     "points": 1,
     "schema_version": 3,
     "solution": false,
     "task": false
    }
   },
   "outputs": [
    {
     "name": "stdout",
     "output_type": "stream",
     "text": [
      "3\n"
     ]
    }
   ],
   "source": [
    "print(rbinom_fair(10))"
   ]
  },
  {
   "cell_type": "markdown",
   "metadata": {},
   "source": [
    "We will use functions that were implemented in the videos to draw barplots of empirical frequencies and compare them with the corresponding probability mass functions."
   ]
  },
  {
   "cell_type": "code",
   "execution_count": 4,
   "metadata": {},
   "outputs": [],
   "source": [
    "# two functions from videos\n",
    "def count_frequencies(data, relative=False):\n",
    "    counter = {}\n",
    "    for element in data:\n",
    "        if element not in counter:\n",
    "            counter[element] = 1\n",
    "        else:\n",
    "            counter[element] += 1\n",
    "    if relative:\n",
    "        for element in counter:\n",
    "            counter[element] /= len(data)\n",
    "    return counter\n",
    "    \n",
    "def sample_bar_plot(data, ax=None):\n",
    "    if ax is None:\n",
    "        ax = plt.gca()\n",
    "    freqs = count_frequencies(data, relative=True)\n",
    "    ax.bar(freqs.keys(), freqs.values())\n",
    "    ax.set_xticks(list(freqs.keys()))\n",
    "    return ax"
   ]
  },
  {
   "cell_type": "markdown",
   "metadata": {},
   "source": [
    "Let us first generate a sample from `scipy.stats.binom` and visualize it."
   ]
  },
  {
   "cell_type": "code",
   "execution_count": 10,
   "metadata": {},
   "outputs": [
    {
     "data": {
      "text/plain": [
       "[<matplotlib.lines.Line2D at 0x2344857bc18>]"
      ]
     },
     "execution_count": 10,
     "metadata": {},
     "output_type": "execute_result"
    },
    {
     "data": {
      "image/png": "[encoded data removed]",
      "text/plain": [
       "<Figure size 432x288 with 1 Axes>"
      ]
     },
     "metadata": {
      "needs_background": "light"
     },
     "output_type": "display_data"
    }
   ],
   "source": [
    "from scipy.stats import binom\n",
    "\n",
    "trials = 10\n",
    "size = 1000\n",
    "\n",
    "sample = [binom(trials, 0.5).rvs() for _ in range(size)]\n",
    "\n",
    "sample_bar_plot(sample)\n",
    "plt.plot(range(trials + 1), binom(trials, 0.5).pmf(range(trials + 1)), 'o', color='red')"
   ]
  },
  {
   "cell_type": "markdown",
   "metadata": {},
   "source": [
    "If we would use `rbinom_fair` instead of `binom(trials, 0.5).rvs()` in the code above, we had to obtain a similar result. Let us write a test function to compare results of our implementation and reference one."
   ]
  },
  {
   "cell_type": "code",
   "execution_count": 9,
   "metadata": {
    "deletable": false,
    "editable": false,
    "nbgrader": {
     "cell_type": "code",
     "checksum": "1485a8c945e31f6fefcfaa811a7edfd7",
     "grade": true,
     "grade_id": "cell-15fded872fc0ff9d",
     "locked": true,
     "points": 1,
     "schema_version": 3,
     "solution": false,
     "task": false
    }
   },
   "outputs": [
    {
     "data": {
      "image/png": "[encoded data removed]",
      "text/plain": [
       "<Figure size 504x504 with 2 Axes>"
      ]
     },
     "metadata": {
      "needs_background": "light"
     },
     "output_type": "display_data"
    }
   ],
   "source": [
    "def two_pictures_rbinom_fair(trials, size):\n",
    "    plt.figure(figsize=(7, 7))\n",
    "    plt.subplot(211)\n",
    "    \n",
    "    sample = [binom(trials, 0.5).rvs() for _ in range(size)]\n",
    "\n",
    "    sample_bar_plot(sample)\n",
    "    plt.plot(range(trials + 1), binom(trials, 0.5).pmf(range(trials + 1)), 'o', color='red')\n",
    "    \n",
    "    plt.subplot(212)\n",
    "    try:\n",
    "        sample = [rbinom_fair(trials) for _ in range(size)]\n",
    "        sample_bar_plot(sample)\n",
    "        plt.plot(range(trials + 1), binom(trials, 0.5).pmf(range(trials + 1)), 'o', color='red')\n",
    "    except (NameError, TypeError) as e:\n",
    "        raise Error(\"Function rbinom_fair is not yet implemented\")\n",
    "        \n",
    "two_pictures_rbinom_fair(10, 1000)"
   ]
  },
  {
   "cell_type": "markdown",
   "metadata": {},
   "source": [
    "**Peer Review Grading.** Investigate pictures above: bottom one should be present and should be similar to top one. Points should be close to the top side of rectangles. Slight difference is possible due to randomness (try running the cell several times)."
   ]
  },
  {
   "cell_type": "code",
   "execution_count": 49,
   "metadata": {},
   "outputs": [
    {
     "data": {
      "image/png": "[encoded data removed]",
      "text/plain": [
       "<Figure size 504x504 with 2 Axes>"
      ]
     },
     "metadata": {
      "needs_background": "light"
     },
     "output_type": "display_data"
    }
   ],
   "source": [
    "two_pictures_rbinom_fair(5, 1000)"
   ]
  },
  {
   "cell_type": "markdown",
   "metadata": {},
   "source": [
    "**Grading.** Investigate the pictures above: bottom one should be present and should be similar to the top one. (Slight difference is possible due to randomness: we have only 1000 samples here.)"
   ]
  },
  {
   "cell_type": "markdown",
   "metadata": {},
   "source": [
    "### Binomial random number generator: explicit formula\n",
    "Use `numpy.random.choice` to implement function `rbinom(trials, prob, size)` that samples binomially distributed random variable with given number of trials (*tosses*) and probability of success (*head*) and returns a sample of size `size`. You should pass an array that contains all possible values that this random variable can take as a first argument of `numpy.random.choice` and their respective probabilities (i.e. values of probability mass function) as a second argument. To find probabilities, you can use the formula that is discussed in videos. You can use `scipy.special.comb` to find binomial coefficients. The results of your function should be similar to the results of `scipy.stats.binom(trials, prob).rvs(size)`. You can test your function by generating large samples and plotting frequencies like discussed in the video."
   ]
  },
  {
   "cell_type": "code",
   "execution_count": 50,
   "metadata": {
    "deletable": false,
    "nbgrader": {
     "cell_type": "code",
     "checksum": "ba79992ffd98f7b90b142d8cc8950cd8",
     "grade": false,
     "grade_id": "cell-38ea89b319f8d598",
     "locked": false,
     "schema_version": 3,
     "solution": true,
     "task": false
    }
   },
   "outputs": [],
   "source": [
    "from numpy.random import choice as choice_numpy\n",
    "from scipy.special import comb\n",
    "import matplotlib.pyplot as plt\n",
    "from scipy.stats import binom\n",
    "\n",
    "\n",
    "def rbinom(trials, prob, size):\n",
    "    sample = []\n",
    "    X_s = [i for i in range(trials+1)]\n",
    "    \n",
    "    P_s = [comb(trials,i)*((1-prob)**(trials-i))*(prob**i) for i in range(trials+1)]\n",
    "   \n",
    "    for i in range(size):\n",
    "        sample.append(choice_numpy(X_s, p = P_s))\n",
    "    \n",
    "    \n",
    "    return sample"
   ]
  },
  {
   "cell_type": "markdown",
   "metadata": {},
   "source": [
    "Try running it: should obtain `array` of numbers."
   ]
  },
  {
   "cell_type": "code",
   "execution_count": 51,
   "metadata": {},
   "outputs": [
    {
     "data": {
      "text/plain": [
       "[6, 4, 7, 4, 5]"
      ]
     },
     "execution_count": 51,
     "metadata": {},
     "output_type": "execute_result"
    }
   ],
   "source": [
    "rbinom(10, 0.5, 5)"
   ]
  },
  {
   "cell_type": "code",
   "execution_count": 52,
   "metadata": {},
   "outputs": [
    {
     "data": {
      "text/plain": [
       "[1, 2, 1, 5, 1]"
      ]
     },
     "execution_count": 52,
     "metadata": {},
     "output_type": "execute_result"
    }
   ],
   "source": [
    "rbinom(10, 0.3, 5) # expecting something like `array([4, 1, 3, 2, 1])`"
   ]
  },
  {
   "cell_type": "code",
   "execution_count": 53,
   "metadata": {
    "deletable": false,
    "editable": false,
    "nbgrader": {
     "cell_type": "code",
     "checksum": "1ccc73523c7bbcf127477d19ecc66a71",
     "grade": true,
     "grade_id": "cell-92f942db423d5cda",
     "locked": true,
     "points": 1,
     "schema_version": 3,
     "solution": false,
     "task": false
    }
   },
   "outputs": [
    {
     "data": {
      "image/png": "[encoded data removed]",
      "text/plain": [
       "<Figure size 504x504 with 2 Axes>"
      ]
     },
     "metadata": {
      "needs_background": "light"
     },
     "output_type": "display_data"
    }
   ],
   "source": [
    "def two_pictures_rbinom(trials, prob, size):\n",
    "    def draw_sample(sample, trials, prob):\n",
    "        sample_bar_plot(sample)\n",
    "        plt.plot(range(trials + 1), binom(trials, prob).pmf(range(trials + 1)), 'o', color='red')\n",
    "    plt.figure(figsize=(7, 7))\n",
    "    plt.subplot(211)\n",
    "    draw_sample(binom(trials, prob).rvs(size), trials, prob)\n",
    "    plt.subplot(212)\n",
    "    try:\n",
    "        draw_sample(rbinom(trials, prob, size), trials, prob)\n",
    "    except (NameError, TypeError):\n",
    "        raise Exception(\"rbinom is not implemented or other error occurred\")\n",
    "\n",
    "two_pictures_rbinom(10, 0.3, 10000)"
   ]
  },
  {
   "cell_type": "markdown",
   "metadata": {},
   "source": [
    "**Peer Review Grading.** Investigate pictures above: bottom one should be present and should be similar to top one."
   ]
  },
  {
   "cell_type": "code",
   "execution_count": 54,
   "metadata": {},
   "outputs": [
    {
     "data": {
      "image/png": "[encoded data removed]",
      "text/plain": [
       "<Figure size 504x504 with 2 Axes>"
      ]
     },
     "metadata": {
      "needs_background": "light"
     },
     "output_type": "display_data"
    }
   ],
   "source": [
    "two_pictures_rbinom(10, 0.5, 10000)"
   ]
  },
  {
   "cell_type": "markdown",
   "metadata": {},
   "source": [
    "**Peer Review Grading.** Investigate the pictures above: the bottom one should be present and should be similar to the top one."
   ]
  },
  {
   "cell_type": "code",
   "execution_count": 55,
   "metadata": {},
   "outputs": [
    {
     "data": {
      "image/png": "[encoded data removed]",
      "text/plain": [
       "<Figure size 504x504 with 2 Axes>"
      ]
     },
     "metadata": {
      "needs_background": "light"
     },
     "output_type": "display_data"
    }
   ],
   "source": [
    "two_pictures_rbinom(10, 0.9, 10000)"
   ]
  },
  {
   "cell_type": "markdown",
   "metadata": {},
   "source": [
    "**Peer Review Grading.** Investigate the pictures above: the bottom one should be present and should be similar to the top one."
   ]
  },
  {
   "cell_type": "markdown",
   "metadata": {},
   "source": [
    "### Binomial random number generator: sum of Bernoulli random variables\n",
    "Finally, consider another way to generate binomial random variables. Consider Bernoulli random variable. It takes value 1 with probability $p$ and value 0 with probability $1-p$. Assume that $X_1, \\ldots, X_n$ are independent Bernoulli random variables. They can be considered as realizations of independent coin tossings (if coin lands *head*, we write 1, otherwise write 0; probability of *head* is $p$). Then $Y=X_1 + \\ldots + X_n$ is a binomial random variable with $n$ trials and probability of success $p$. Let us use this approach to generate binomial random variable.\n",
    "\n",
    "Write a function `rbinom_with_bernoulli(trials, prob)` that generates `trials` independent Bernoulli random variables with parameter $p=prob$ and returns its sum. To generate Bernoulli random variable, use the `numpy.random.choice` function. Independent runs of this function will generate independent Bernoulli random variables."
   ]
  },
  {
   "cell_type": "code",
   "execution_count": 56,
   "metadata": {
    "deletable": false,
    "nbgrader": {
     "cell_type": "code",
     "checksum": "9bb18036ddebdf045f612ff0796c0681",
     "grade": false,
     "grade_id": "cell-709f10708a6ab7ba",
     "locked": false,
     "schema_version": 3,
     "solution": true,
     "task": false
    }
   },
   "outputs": [],
   "source": [
    "# your code here\n",
    "from numpy.random import choice as choice_numpy\n",
    "def rbinom_with_bernoulli(trials, prob):\n",
    "    P_s = []\n",
    "    for i in range(trials):\n",
    "        P_s.append(choice_numpy([0,1], p = [1-prob, prob]))\n",
    "    \n",
    "    return sum(P_s)\n"
   ]
  },
  {
   "cell_type": "code",
   "execution_count": 57,
   "metadata": {
    "deletable": false,
    "editable": false,
    "nbgrader": {
     "cell_type": "code",
     "checksum": "f93a94db7e597a7403e29eb4735ca179",
     "grade": true,
     "grade_id": "cell-cdc35d74bd3b9753",
     "locked": true,
     "points": 1,
     "schema_version": 3,
     "solution": false,
     "task": false
    }
   },
   "outputs": [
    {
     "data": {
      "image/png": "[encoded data removed]",
      "text/plain": [
       "<Figure size 504x504 with 2 Axes>"
      ]
     },
     "metadata": {
      "needs_background": "light"
     },
     "output_type": "display_data"
    }
   ],
   "source": [
    "def two_pictures_rbinom_with_bernoulli(trials, prob, size):\n",
    "    def draw_sample(sample, trials, prob):\n",
    "        sample_bar_plot(sample)\n",
    "        plt.plot(range(trials + 1), binom(trials, prob).pmf(range(trials + 1)), 'o', color='red')\n",
    "    plt.figure(figsize=(7, 7))\n",
    "    plt.subplot(211)\n",
    "    draw_sample(binom(trials, prob).rvs(size), trials, prob)\n",
    "    plt.subplot(212)\n",
    "    try:\n",
    "        draw_sample([rbinom_with_bernoulli(trials, prob) for _ in range(size)], trials, prob)\n",
    "    except (NameError, TypeError):\n",
    "        raise Exception(\"rbinom_with_bernoulli is not implemented or other error occurred\")\n",
    "\n",
    "two_pictures_rbinom_with_bernoulli(10, 0.3, 1000)"
   ]
  },
  {
   "cell_type": "markdown",
   "metadata": {},
   "source": [
    "**Peer Review Grading.** Investigate the pictures above: the bottom one should be present and should be similar to the top one."
   ]
  },
  {
   "cell_type": "code",
   "execution_count": 58,
   "metadata": {},
   "outputs": [
    {
     "data": {
      "image/png": "[encoded data removed]",
      "text/plain": [
       "<Figure size 504x504 with 2 Axes>"
      ]
     },
     "metadata": {
      "needs_background": "light"
     },
     "output_type": "display_data"
    }
   ],
   "source": [
    "two_pictures_rbinom_with_bernoulli(5, 0.3, 10000)"
   ]
  },
  {
   "cell_type": "markdown",
   "metadata": {},
   "source": [
    "**Peer Review Grading.** Investigate the pictures above: the bottom one should be present and should be similar to the top one."
   ]
  },
  {
   "cell_type": "markdown",
   "metadata": {},
   "source": [
    "### Geometric random number generator\n",
    "Implement a function `rgeom(p)` that generates one geometrically distributed random variable with probability of success `p`. Instead of using explicit formula for the probability, use the definition of geometric distribution: toss a virtual coin until first *head* appears, then return number of tosses (including the one with *head*). You can model this coin using `numpy.random.choice` function with appropriate `p` parameter. Check that results are similar to ones generated with `scipy.stats.geom(p).rvs()`."
   ]
  },
  {
   "cell_type": "code",
   "execution_count": 59,
   "metadata": {
    "deletable": false,
    "nbgrader": {
     "cell_type": "code",
     "checksum": "69cea8896da33b1e7e88067ac1f73447",
     "grade": false,
     "grade_id": "cell-b343cd05a26488d1",
     "locked": false,
     "schema_version": 3,
     "solution": true,
     "task": false
    }
   },
   "outputs": [],
   "source": [
    "from numpy.random import choice\n",
    "from scipy.stats import geom\n",
    "\n",
    "# your code here\n",
    "def rgeom(prob):\n",
    "    counter = 1\n",
    "    further = True\n",
    "    while further:\n",
    "        if choice([0,1], p =[1-prob,prob]) == 0:\n",
    "            counter+=1\n",
    "        else:\n",
    "            further = False\n",
    "    return counter"
   ]
  },
  {
   "cell_type": "code",
   "execution_count": 60,
   "metadata": {
    "deletable": false,
    "editable": false,
    "nbgrader": {
     "cell_type": "code",
     "checksum": "309ec0408b541b234b8427b0f2b30a84",
     "grade": true,
     "grade_id": "cell-140a3394caa8c370",
     "locked": true,
     "points": 1,
     "schema_version": 3,
     "solution": false,
     "task": false
    }
   },
   "outputs": [
    {
     "data": {
      "image/png": "[encoded data removed]",
      "text/plain": [
       "<Figure size 504x504 with 2 Axes>"
      ]
     },
     "metadata": {
      "needs_background": "light"
     },
     "output_type": "display_data"
    }
   ],
   "source": [
    "def two_pictures_rgeom(p, size):\n",
    "    def draw_sample(sample, p, ax):\n",
    "        sample_bar_plot(sample, ax)\n",
    "        x = range(1, max(sample) + 1)\n",
    "        ax.plot(x, geom(p).pmf(x), 'o', color='red')\n",
    "    _, axes = plt.subplots(2, 1, sharex=True, figsize=(7, 7))\n",
    "    draw_sample([geom(p).rvs() for _ in range(size)], p, axes[0])\n",
    "    try:\n",
    "        draw_sample([rgeom(p) for _ in range(size)], p, axes[1])\n",
    "    except (NameError, TypeError):\n",
    "        raise Exception(\"rbinom_with_bernoulli is not implemented or other error occurred\")\n",
    "two_pictures_rgeom(0.5, 1000)"
   ]
  },
  {
   "cell_type": "markdown",
   "metadata": {},
   "source": [
    "**Peer Review Grading.** Investigate the pictures above: the bottom one should be present and should be similar to the top one."
   ]
  },
  {
   "cell_type": "code",
   "execution_count": 61,
   "metadata": {},
   "outputs": [
    {
     "data": {
      "image/png": "[encoded data removed]",
      "text/plain": [
       "<Figure size 504x504 with 2 Axes>"
      ]
     },
     "metadata": {
      "needs_background": "light"
     },
     "output_type": "display_data"
    }
   ],
   "source": [
    "two_pictures_rgeom(0.9, 1000)"
   ]
  },
  {
   "cell_type": "markdown",
   "metadata": {},
   "source": [
    "**Peer Review Grading.** Investigate the pictures above: the bottom one should be present and should be similar to the top one."
   ]
  },
  {
   "cell_type": "code",
   "execution_count": 62,
   "metadata": {},
   "outputs": [
    {
     "data": {
      "image/png": "[encoded data removed]",
      "text/plain": [
       "<Figure size 504x504 with 2 Axes>"
      ]
     },
     "metadata": {
      "needs_background": "light"
     },
     "output_type": "display_data"
    }
   ],
   "source": [
    "two_pictures_rgeom(0.5, 1000)"
   ]
  },
  {
   "cell_type": "markdown",
   "metadata": {},
   "source": [
    "**Peer Review Grading.** Investigate the pictures above: the bottom one should be present and should be similar to the top one."
   ]
  },
  {
   "cell_type": "markdown",
   "metadata": {},
   "source": [
    "## That's all\n",
    "Now you know that there are different ways to construct random variables with given distributions."
   ]
  }
 ],
 "metadata": {
  "kernelspec": {
   "display_name": "Python 3",
   "language": "python",
   "name": "python3"
  },
  "language_info": {
   "codemirror_mode": {
    "name": "ipython",
    "version": 3
   },
   "file_extension": ".py",
   "mimetype": "text/x-python",
   "name": "python",
   "nbconvert_exporter": "python",
   "pygments_lexer": "ipython3",
   "version": "3.7.3"
  }
 },
 "nbformat": 4,
 "nbformat_minor": 4
}
