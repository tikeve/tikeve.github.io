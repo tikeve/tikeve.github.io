{
 "cells": [
  {
   "cell_type": "markdown",
   "metadata": {},
   "source": [
    "GQ. Application of Binomial distribution"
   ]
  },
  {
   "cell_type": "code",
   "execution_count": 2,
   "metadata": {},
   "outputs": [
    {
     "data": {
      "text/plain": [
       "0.0729"
      ]
     },
     "execution_count": 2,
     "metadata": {},
     "output_type": "execute_result"
    }
   ],
   "source": [
    "import math\n",
    "import numpy as np\n",
    "math.factorial(5)/(math.factorial(3)*2)*0.9**3*0.01"
   ]
  },
  {
   "cell_type": "markdown",
   "metadata": {},
   "source": [
    "GQ. More exotic distributions"
   ]
  },
  {
   "cell_type": "code",
   "execution_count": 7,
   "metadata": {},
   "outputs": [
    {
     "data": {
      "text/plain": [
       "0.13399507967452326"
      ]
     },
     "execution_count": 7,
     "metadata": {},
     "output_type": "execute_result"
    }
   ],
   "source": [
    "p1 = 75*74*73/(100*99*98)\n",
    "p2 = 3*75*74*25/(100*99*98)\n",
    "p3 = 3*75*25*24/(100*99*98)\n",
    "25*24*23/(100*99*98)\n",
    "math.factorial(5)/4*p1**2*p2**2*p3"
   ]
  },
  {
   "cell_type": "markdown",
   "metadata": {},
   "source": [
    "PQ. PMF practice"
   ]
  },
  {
   "cell_type": "code",
   "execution_count": 13,
   "metadata": {},
   "outputs": [
    {
     "data": {
      "text/plain": [
       "2.25"
      ]
     },
     "execution_count": 13,
     "metadata": {},
     "output_type": "execute_result"
    }
   ],
   "source": [
    "X = np.array([-2,-1,0,1,3])\n",
    "P = np.array([0.1,0.1,0.4,0.2,0.2])\n",
    "sum(X*P)\n",
    "sum(P*(X-sum(X*P))**2)"
   ]
  },
  {
   "cell_type": "markdown",
   "metadata": {},
   "source": [
    "PQ. Expectation practice  =  too easy"
   ]
  },
  {
   "cell_type": "markdown",
   "metadata": {},
   "source": [
    "GQ. Expected value excercises"
   ]
  },
  {
   "cell_type": "code",
   "execution_count": 43,
   "metadata": {},
   "outputs": [
    {
     "data": {
      "text/plain": [
       "0.9259259259259258"
      ]
     },
     "execution_count": 43,
     "metadata": {},
     "output_type": "execute_result"
    }
   ],
   "source": [
    "X = np.array([-3,-2,-1,0,1,2,3])\n",
    "P = np.array([1/14,1/7,1/7,2/7,2/7,0,1/14])\n",
    "sum(X*P)\n",
    "3.5**2\n",
    "3*4-4*3\n",
    "math.factorial(6)/6**6 * 60"
   ]
  },
  {
   "cell_type": "code",
   "execution_count": 44,
   "metadata": {},
   "outputs": [
    {
     "data": {
      "text/plain": [
       "Fraction(-1, 7)"
      ]
     },
     "execution_count": 44,
     "metadata": {},
     "output_type": "execute_result"
    }
   ],
   "source": [
    "from fractions import Fraction\n",
    "X = np.array([Fraction('-3'),Fraction('-2'),Fraction('-1'),Fraction('0'),Fraction('1'),Fraction('2'),Fraction('3')])\n",
    "P = np.array([Fraction('1/14'),Fraction('1/7'),Fraction('1/7'),Fraction('2/7'),Fraction('2/7'),Fraction('0'),Fraction('1/14')])\n",
    "sum(X*P)"
   ]
  },
  {
   "cell_type": "markdown",
   "metadata": {},
   "source": [
    "GQ. Variance skill test"
   ]
  },
  {
   "cell_type": "code",
   "execution_count": 54,
   "metadata": {},
   "outputs": [
    {
     "data": {
      "text/plain": [
       "2.9166666666666665"
      ]
     },
     "execution_count": 54,
     "metadata": {},
     "output_type": "execute_result"
    }
   ],
   "source": [
    "X = np.array([Fraction('-3'),Fraction('-2'),Fraction('-1'),Fraction('0'),Fraction('1'),Fraction('2'),Fraction('3')])\n",
    "P = np.array([Fraction('1/14'),Fraction('1/7'),Fraction('1/7'),Fraction('2/7'),Fraction('2/7'),Fraction('0'),Fraction('1/14')])\n",
    "sum(P*(X-sum(X*P))**2)\n",
    "\n",
    "X = np.array(range(1,7))\n",
    "P = np.array(6*[1/6])\n",
    "sum(P*(X-sum(X*P))**2)"
   ]
  },
  {
   "cell_type": "markdown",
   "metadata": {},
   "source": [
    "GQ. More skill tests on Expectation and Variance"
   ]
  },
  {
   "cell_type": "code",
   "execution_count": 3,
   "metadata": {},
   "outputs": [
    {
     "name": "stdout",
     "output_type": "stream",
     "text": [
      "[5 3 2 1 4 3 4 3 2 2]\n",
      "[0.93913281 0.93655915 0.29174965 0.14769227 0.52651307 0.93241102\n",
      " 0.6195808  0.54736619 0.74496604 0.85080765]\n",
      "[4 7 5 6 7 1 4 5 3 4]\n",
      "[ 8  9 12  7 13  9  4 10 10  7]\n"
     ]
    }
   ],
   "source": [
    "from numpy.random import choice\n",
    "from itertools import product\n",
    "\n",
    "choice([1,2,3], p=[0.2,0.3,0.5])\n",
    "omega = set(product(['1','0'], repeat=3))\n",
    "omega\n",
    "\n",
    "from numpy.random import binomial\n",
    "print(binomial(n=10, p=0.3, size=10))\n",
    "from numpy.random import uniform\n",
    "print(uniform(low=0, high=1, size=10))\n",
    "from numpy.random import geometric\n",
    "print(geometric(p=0.2, size=10))\n",
    "from numpy.random import poisson\n",
    "print(poisson(lam=8, size=10))"
   ]
  },
  {
   "cell_type": "code",
   "execution_count": 6,
   "metadata": {},
   "outputs": [
    {
     "data": {
      "text/plain": [
       "2.5"
      ]
     },
     "execution_count": 6,
     "metadata": {},
     "output_type": "execute_result"
    }
   ],
   "source": [
    "from scipy.stats import binom\n",
    "X = binom(10, 0.5)\n",
    "X.pmf(1)\n",
    "X.moment(2) - X.moment(1)**2\n",
    "#X.cdf(4)"
   ]
  },
  {
   "cell_type": "code",
   "execution_count": 11,
   "metadata": {},
   "outputs": [
    {
     "data": {
      "text/plain": [
       "5.326347874040841"
      ]
     },
     "execution_count": 11,
     "metadata": {},
     "output_type": "execute_result"
    }
   ],
   "source": [
    "from scipy.stats import norm\n",
    "X = norm(3, 1)\n",
    "X.ppf(0.99)"
   ]
  },
  {
   "cell_type": "code",
   "execution_count": 13,
   "metadata": {},
   "outputs": [
    {
     "data": {
      "text/plain": [
       "-0.5714285714285714"
      ]
     },
     "execution_count": 13,
     "metadata": {},
     "output_type": "execute_result"
    }
   ],
   "source": [
    "X = np.array([-3,-6,-1,0,1,2,3])\n",
    "\n",
    "sum(X)/len(X)\n",
    "X"
   ]
  },
  {
   "cell_type": "code",
   "execution_count": 15,
   "metadata": {},
   "outputs": [
    {
     "data": {
      "text/plain": [
       "0.24489795918367344"
      ]
     },
     "execution_count": 15,
     "metadata": {},
     "output_type": "execute_result"
    }
   ],
   "source": [
    "X = [0,1,1,1,0,0,0]\n",
    "p = sum(X)/len(X)\n",
    "p*(1-p)"
   ]
  },
  {
   "cell_type": "code",
   "execution_count": null,
   "metadata": {},
   "outputs": [],
   "source": []
  }
 ],
 "metadata": {
  "kernelspec": {
   "display_name": "Python 3",
   "language": "python",
   "name": "python3"
  },
  "language_info": {
   "codemirror_mode": {
    "name": "ipython",
    "version": 3
   },
   "file_extension": ".py",
   "mimetype": "text/x-python",
   "name": "python",
   "nbconvert_exporter": "python",
   "pygments_lexer": "ipython3",
   "version": "3.7.3"
  }
 },
 "nbformat": 4,
 "nbformat_minor": 2
}
