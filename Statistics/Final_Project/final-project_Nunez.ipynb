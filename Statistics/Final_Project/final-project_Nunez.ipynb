{
 "cells": [
  {
   "cell_type": "markdown",
   "metadata": {},
   "source": [
    "# Statistics basics\n",
    "## Final project\n",
    "Good news! You are hired by some retail company to analyse transaction statistics in a retail chain. (Sorry, this is just an imaginary company so far, but if you successfully finish our program, I'm sure it will become reality.)\n",
    "\n",
    "You have to use everything that we learned so far to answer questions that are asked by your employer.\n",
    "\n",
    "Part of the questions require that you write some code that will be automatically tested with autograding. So when you are finished, please, send this work to automatic grading.\n",
    "\n",
    "The other part of questions are presented in the appropriate quiz. Answer them using your results.\n",
    "\n",
    "Finally, some problems will be assessed manually. So, please, submit your notebook to staff graded assignment as well.\n",
    "\n",
    "Note you are not allowed to use loops anywhere in this project!\n",
    "\n",
    "Let's begin!\n",
    "\n",
    "### Data\n",
    "\n",
    "There are three datasets: `customers.csv`, `purchases.csv` and `shops.csv`. They are stored in `data` folder.\n",
    "\n",
    "`customers.csv` contains information about each customer registered in loyalty program.\n",
    "\n",
    "`shops.csv` contains information about shops and special offers they organized. One shap can organize several offers and therefore there are usually several rows that correspond to the same shops. However, some shops do not organize special offers at all, but they are presented in this table nevertheless.\n",
    "\n",
    "`purchases.csv` is a purchase log. It contains information for all customers, either registered in a loyalty program (in this case we know the corresponding customer id) or not registered. One purchase can be a collection of several items, but we see only the total price of everything bought."
   ]
  },
  {
   "cell_type": "code",
   "execution_count": 1,
   "metadata": {},
   "outputs": [
    {
     "name": "stdout",
     "output_type": "stream",
     "text": [
      "customers.csv  purchases.csv  shops.csv\r\n"
     ]
    }
   ],
   "source": [
    "!ls data/"
   ]
  },
  {
   "cell_type": "markdown",
   "metadata": {},
   "source": [
    "First, let us load these datasets and make a quick glance on them."
   ]
  },
  {
   "cell_type": "markdown",
   "metadata": {},
   "source": [
    "### Problem 1 (autograded)\n",
    "Load datasets intro variables `customers`, `purchases` and `shops`. Use `pd.read_csv`."
   ]
  },
  {
   "cell_type": "code",
   "execution_count": 2,
   "metadata": {},
   "outputs": [],
   "source": [
    "import pandas as pd\n",
    "import matplotlib.pyplot as plt\n",
    "\n",
    "%matplotlib inline"
   ]
  },
  {
   "cell_type": "code",
   "execution_count": 4,
   "metadata": {
    "deletable": false,
    "nbgrader": {
     "cell_type": "code",
     "checksum": "60fce1ad93c5edf0a1167a46aaf382ad",
     "grade": false,
     "grade_id": "cell-e58f666a1342c518",
     "locked": false,
     "schema_version": 3,
     "solution": true,
     "task": false
    }
   },
   "outputs": [],
   "source": [
    "customers = pd.read_csv('data/customers.csv')\n",
    "purchases = pd.read_csv('data/purchases.csv')\n",
    "shops = pd.read_csv('data/shops.csv')"
   ]
  },
  {
   "cell_type": "code",
   "execution_count": 6,
   "metadata": {
    "deletable": false,
    "editable": false,
    "nbgrader": {
     "cell_type": "code",
     "checksum": "7db5c83a3dd9c8be9f731bd42d9d1472",
     "grade": true,
     "grade_id": "cell-4dca7fce76639f93",
     "locked": true,
     "points": 1,
     "schema_version": 3,
     "solution": false,
     "task": false
    }
   },
   "outputs": [
    {
     "name": "stdout",
     "output_type": "stream",
     "text": [
      "Great, everything loaded successfully!\n"
     ]
    }
   ],
   "source": [
    "from hashlib import md5\n",
    "import numpy as np\n",
    "\n",
    "\n",
    "def test_df(frame, digest):\n",
    "    obtained = md5(\n",
    "        \"\".join(\n",
    "            [str(x) for x in np.c_[frame.head().values, frame.tail().values]]\n",
    "        ).encode(\"utf8\")\n",
    "    ).hexdigest()\n",
    "    assert obtained == digest, \"Something wrong with files: \" + obtained\n",
    "\n",
    "\n",
    "test_df(customers, \"a8c3a3d5d5f93d721f7f98564228a484\")\n",
    "test_df(purchases, \"1d4ffa7e30dcd29ab1d47d3731967a49\")\n",
    "test_df(shops, \"e017f3f83ad39610a7d82a54480fb98f\")\n",
    "print(\"Great, everything loaded successfully!\")"
   ]
  },
  {
   "cell_type": "markdown",
   "metadata": {},
   "source": [
    "### Problem 2 (quiz)"
   ]
  },
  {
   "cell_type": "markdown",
   "metadata": {},
   "source": [
    "Investigate dataframes and answer the following questions (in the appropriate Quiz):\n",
    "\n",
    "1. What is the type of variable `customer_id` in the dataset `purchases`?\n",
    "2. What is the type of variable `age` in the dataset `customers`?\n",
    "\n",
    "Note that you have to provide your answers based on the meaning of the data, not on the Python object types of the corresponding column."
   ]
  },
  {
   "cell_type": "code",
   "execution_count": 7,
   "metadata": {},
   "outputs": [
    {
     "data": {
      "text/plain": [
       "dtype('float64')"
      ]
     },
     "execution_count": 7,
     "metadata": {},
     "output_type": "execute_result"
    }
   ],
   "source": [
    "purchases.customer_id.dtype"
   ]
  },
  {
   "cell_type": "code",
   "execution_count": 8,
   "metadata": {},
   "outputs": [
    {
     "data": {
      "text/plain": [
       "dtype('float64')"
      ]
     },
     "execution_count": 8,
     "metadata": {},
     "output_type": "execute_result"
    }
   ],
   "source": [
    "customers.age.dtype"
   ]
  },
  {
   "cell_type": "markdown",
   "metadata": {},
   "source": [
    "### Problem 3 (SGA)\n",
    "Let us consider column `total_price` in the dataset `purchases`. May we assume that this column is an i.i.d. sample from some random variable? Write your answer and full explanation in the cell below.\n"
   ]
  },
  {
   "cell_type": "code",
   "execution_count": 13,
   "metadata": {},
   "outputs": [
    {
     "data": {
      "text/html": [
       "<div>\n",
       "<style scoped>\n",
       "    .dataframe tbody tr th:only-of-type {\n",
       "        vertical-align: middle;\n",
       "    }\n",
       "\n",
       "    .dataframe tbody tr th {\n",
       "        vertical-align: top;\n",
       "    }\n",
       "\n",
       "    .dataframe thead th {\n",
       "        text-align: right;\n",
       "    }\n",
       "</style>\n",
       "<table border=\"1\" class=\"dataframe\">\n",
       "  <thead>\n",
       "    <tr style=\"text-align: right;\">\n",
       "      <th></th>\n",
       "      <th>customer_id</th>\n",
       "      <th>date</th>\n",
       "      <th>shop_id</th>\n",
       "      <th>total_price</th>\n",
       "    </tr>\n",
       "  </thead>\n",
       "  <tbody>\n",
       "    <tr>\n",
       "      <th>0</th>\n",
       "      <td>0.0</td>\n",
       "      <td>2018-05-04</td>\n",
       "      <td>40</td>\n",
       "      <td>289.673291</td>\n",
       "    </tr>\n",
       "    <tr>\n",
       "      <th>1</th>\n",
       "      <td>0.0</td>\n",
       "      <td>2019-01-26</td>\n",
       "      <td>40</td>\n",
       "      <td>1316.898901</td>\n",
       "    </tr>\n",
       "    <tr>\n",
       "      <th>2</th>\n",
       "      <td>0.0</td>\n",
       "      <td>2018-11-18</td>\n",
       "      <td>42</td>\n",
       "      <td>159.414367</td>\n",
       "    </tr>\n",
       "    <tr>\n",
       "      <th>3</th>\n",
       "      <td>0.0</td>\n",
       "      <td>2018-05-12</td>\n",
       "      <td>42</td>\n",
       "      <td>808.791649</td>\n",
       "    </tr>\n",
       "    <tr>\n",
       "      <th>4</th>\n",
       "      <td>0.0</td>\n",
       "      <td>2019-04-20</td>\n",
       "      <td>42</td>\n",
       "      <td>1207.855038</td>\n",
       "    </tr>\n",
       "    <tr>\n",
       "      <th>5</th>\n",
       "      <td>0.0</td>\n",
       "      <td>2018-11-24</td>\n",
       "      <td>42</td>\n",
       "      <td>1057.752024</td>\n",
       "    </tr>\n",
       "    <tr>\n",
       "      <th>6</th>\n",
       "      <td>0.0</td>\n",
       "      <td>2018-07-28</td>\n",
       "      <td>15</td>\n",
       "      <td>896.895694</td>\n",
       "    </tr>\n",
       "    <tr>\n",
       "      <th>7</th>\n",
       "      <td>0.0</td>\n",
       "      <td>2019-06-01</td>\n",
       "      <td>40</td>\n",
       "      <td>341.922336</td>\n",
       "    </tr>\n",
       "    <tr>\n",
       "      <th>8</th>\n",
       "      <td>0.0</td>\n",
       "      <td>2019-03-13</td>\n",
       "      <td>42</td>\n",
       "      <td>69.240631</td>\n",
       "    </tr>\n",
       "    <tr>\n",
       "      <th>9</th>\n",
       "      <td>0.0</td>\n",
       "      <td>2018-12-22</td>\n",
       "      <td>40</td>\n",
       "      <td>936.012095</td>\n",
       "    </tr>\n",
       "  </tbody>\n",
       "</table>\n",
       "</div>"
      ],
      "text/plain": [
       "   customer_id        date  shop_id  total_price\n",
       "0          0.0  2018-05-04       40   289.673291\n",
       "1          0.0  2019-01-26       40  1316.898901\n",
       "2          0.0  2018-11-18       42   159.414367\n",
       "3          0.0  2018-05-12       42   808.791649\n",
       "4          0.0  2019-04-20       42  1207.855038\n",
       "5          0.0  2018-11-24       42  1057.752024\n",
       "6          0.0  2018-07-28       15   896.895694\n",
       "7          0.0  2019-06-01       40   341.922336\n",
       "8          0.0  2019-03-13       42    69.240631\n",
       "9          0.0  2018-12-22       40   936.012095"
      ]
     },
     "execution_count": 13,
     "metadata": {},
     "output_type": "execute_result"
    }
   ],
   "source": [
    "purchases.head(10)"
   ]
  },
  {
   "cell_type": "markdown",
   "metadata": {},
   "source": [
    "No, it is not i.i.d because for example the row 0 and 1 above belong to the same customer and same shop, and each customer buys in different shops and different quantities, so there is a dependency."
   ]
  },
  {
   "cell_type": "markdown",
   "metadata": {},
   "source": [
    "### Problem 4 (quiz)\n",
    "Visualise distribution of variable `age` in the dataset `customers` using appropriate visualization tool.\n"
   ]
  },
  {
   "cell_type": "code",
   "execution_count": 14,
   "metadata": {
    "deletable": false,
    "nbgrader": {
     "cell_type": "code",
     "checksum": "1a56b597e9dfc428ad9081e6b8c47403",
     "grade": false,
     "grade_id": "cell-bf36c8a6ba51056f",
     "locked": false,
     "schema_version": 3,
     "solution": true,
     "task": false
    }
   },
   "outputs": [
    {
     "data": {
      "text/plain": [
       "<matplotlib.axes._subplots.AxesSubplot at 0x7f18c2970f50>"
      ]
     },
     "execution_count": 14,
     "metadata": {},
     "output_type": "execute_result"
    },
    {
     "data": {
      "image/png": "[encoded data removed]",
      "text/plain": [
       "<Figure size 432x288 with 1 Axes>"
      ]
     },
     "metadata": {
      "needs_background": "light"
     },
     "output_type": "display_data"
    }
   ],
   "source": [
    "customers.age.hist(bins=10)\n"
   ]
  },
  {
   "cell_type": "markdown",
   "metadata": {},
   "source": [
    "### Problem 5 (quiz)\n",
    "Your employer is going to provide two special offers for all registered customers based on the customer age. They want to pick some threshold age, and offer one special program to customers who are younger than this threshold age and another special program to customers who are older than this age. They want to choose the threshold in such a way that the number of potential participants of both programs coincide (or at least be as close to each other as possible). What is the threshold?"
   ]
  },
  {
   "cell_type": "code",
   "execution_count": 18,
   "metadata": {
    "deletable": false,
    "nbgrader": {
     "cell_type": "code",
     "checksum": "7ac50c16cc264cc6c56ba4b4db8927d8",
     "grade": false,
     "grade_id": "cell-3441bc9e50418569",
     "locked": false,
     "schema_version": 3,
     "solution": true,
     "task": false
    }
   },
   "outputs": [
    {
     "data": {
      "text/plain": [
       "43.0"
      ]
     },
     "execution_count": 18,
     "metadata": {},
     "output_type": "execute_result"
    }
   ],
   "source": [
    "customers.age.median()\n"
   ]
  },
  {
   "cell_type": "markdown",
   "metadata": {},
   "source": [
    "### Problem 6 (quiz)\n",
    "\n",
    "Let us visualize how purchases are distributed around a year. For example, it is known that December is a hot month for retail due to Christmas. Will you see it in the data? Are there any other tendencies we will see?\n",
    "\n",
    "To do it, we have to extract a month from the `date` variable of `purchases` table and create a new variable (new dataframe column) that contains this month, then plot distribution of this variable. There is a special data type in pandas to represent date and time. However, by default `pd.read_csv` does not try to guess that a particular column contains something that looks like a date and reads it just as a column of strings. So let's convert this column manually using function `pd.to_datetime` first:\n"
   ]
  },
  {
   "cell_type": "code",
   "execution_count": 31,
   "metadata": {},
   "outputs": [],
   "source": [
    "purchases[\"date\"] = pd.to_datetime(purchases[\"date\"])"
   ]
  },
  {
   "cell_type": "markdown",
   "metadata": {},
   "source": [
    "Let's check that `date` has correct `dtype`:"
   ]
  },
  {
   "cell_type": "code",
   "execution_count": 32,
   "metadata": {},
   "outputs": [
    {
     "data": {
      "text/plain": [
       "dtype('<M8[ns]')"
      ]
     },
     "execution_count": 32,
     "metadata": {},
     "output_type": "execute_result"
    }
   ],
   "source": [
    "purchases[\"date\"].dtype"
   ]
  },
  {
   "cell_type": "markdown",
   "metadata": {},
   "source": [
    "This should return something like `dtype('datetime64[ns]')` or `dtype('<M8[ns]')`. It is much easier to work with dates when they are converted to native datetime format instead of strings. For example, you can find the difference between two dates and do a lot of other things. To extract different features of date like month of even day of week, one can use `.dt` accessor (similar to using `.str` accessor to access string methods), see [documentation](https://pandas.pydata.org/pandas-docs/stable/user_guide/timeseries.html#time-date-components) for details. For example, this is how we can extract day of week (Monday=0, Sunday=6):"
   ]
  },
  {
   "cell_type": "code",
   "execution_count": 33,
   "metadata": {},
   "outputs": [
    {
     "data": {
      "text/plain": [
       "0        4\n",
       "1        5\n",
       "2        6\n",
       "3        5\n",
       "4        5\n",
       "        ..\n",
       "40397    5\n",
       "40398    5\n",
       "40399    2\n",
       "40400    5\n",
       "40401    5\n",
       "Name: date, Length: 40402, dtype: int64"
      ]
     },
     "execution_count": 33,
     "metadata": {},
     "output_type": "execute_result"
    }
   ],
   "source": [
    "purchases[\"date\"].dt.dayofweek"
   ]
  },
  {
   "cell_type": "markdown",
   "metadata": {},
   "source": [
    "Now let us return to our problem here. We want to make a plot that shows how many purchases we have per month. In other words, we want to create and consider new variable `month`. This is a categorical variable. Use an appropriate tool to visualize it.\n",
    "\n",
    "Make this bar plot. \n",
    "\n",
    "**Hint.** To sort the values on the horizontal axis one can use `.sort_index()`.\n"
   ]
  },
  {
   "cell_type": "code",
   "execution_count": 39,
   "metadata": {
    "deletable": false,
    "nbgrader": {
     "cell_type": "code",
     "checksum": "fe3fa9d208804f31db3a95680239a8e9",
     "grade": false,
     "grade_id": "cell-fab958f31a3bfdb3",
     "locked": false,
     "schema_version": 3,
     "solution": true,
     "task": false
    }
   },
   "outputs": [],
   "source": [
    "purchases[\"month\"] = purchases[\"date\"].dt.month\n",
    "purchases_month = purchases.groupby('month').size()"
   ]
  },
  {
   "cell_type": "code",
   "execution_count": 42,
   "metadata": {},
   "outputs": [
    {
     "data": {
      "text/plain": [
       "<matplotlib.axes._subplots.AxesSubplot at 0x7f18bfdaa7d0>"
      ]
     },
     "execution_count": 42,
     "metadata": {},
     "output_type": "execute_result"
    },
    {
     "data": {
      "image/png": "[encoded data removed]",
      "text/plain": [
       "<Figure size 432x288 with 1 Axes>"
      ]
     },
     "metadata": {
      "needs_background": "light"
     },
     "output_type": "display_data"
    }
   ],
   "source": [
    "purchases_month.plot.bar()"
   ]
  },
  {
   "cell_type": "markdown",
   "metadata": {},
   "source": [
    "### Problem 7 (SGA)\n",
    "\n",
    "What's wrong with May? Why do we have so many purchases? Are there any unknown holidays in this month? Or it's some other reason? Investigate your data and give an answer. Write it in the cell below. Add new cells to include code / explanations as necessary."
   ]
  },
  {
   "cell_type": "code",
   "execution_count": 68,
   "metadata": {},
   "outputs": [
    {
     "data": {
      "text/plain": [
       "date\n",
       "2018-05-03    489\n",
       "2018-05-04    265\n",
       "2018-05-05    707\n",
       "2018-05-06    101\n",
       "2018-05-07      1\n",
       "2018-05-08     11\n",
       "2018-05-09     83\n",
       "2018-05-10    100\n",
       "2018-05-11    107\n",
       "2018-05-12    277\n",
       "2018-05-13    100\n",
       "2018-05-15     14\n",
       "2018-05-16     78\n",
       "2018-05-17     98\n",
       "2018-05-18     97\n",
       "2018-05-19    289\n",
       "2018-05-20     91\n",
       "2018-05-22      5\n",
       "2018-05-23     81\n",
       "2018-05-24     97\n",
       "2018-05-25    105\n",
       "2018-05-26    253\n",
       "2018-05-27    110\n",
       "2018-05-29     17\n",
       "2018-05-30     85\n",
       "2018-05-31     95\n",
       "2019-05-01     74\n",
       "2019-05-02    102\n",
       "2019-05-03     99\n",
       "2019-05-04    301\n",
       "2019-05-05    110\n",
       "2019-05-07     11\n",
       "2019-05-08     73\n",
       "2019-05-09     77\n",
       "2019-05-10     96\n",
       "2019-05-11    262\n",
       "2019-05-12     91\n",
       "2019-05-14     15\n",
       "2019-05-15     82\n",
       "2019-05-16     86\n",
       "2019-05-17    100\n",
       "2019-05-18    282\n",
       "2019-05-19    107\n",
       "2019-05-20      2\n",
       "2019-05-21     11\n",
       "2019-05-22     87\n",
       "2019-05-23     93\n",
       "2019-05-24    101\n",
       "2019-05-25    294\n",
       "2019-05-26    129\n",
       "2019-05-27      1\n",
       "2019-05-28     12\n",
       "2019-05-29     72\n",
       "2019-05-30     81\n",
       "2019-05-31    110\n",
       "dtype: int64"
      ]
     },
     "execution_count": 68,
     "metadata": {},
     "output_type": "execute_result"
    },
    {
     "data": {
      "image/png": "[encoded data removed]",
      "text/plain": [
       "<Figure size 432x288 with 1 Axes>"
      ]
     },
     "metadata": {
      "needs_background": "light"
     },
     "output_type": "display_data"
    }
   ],
   "source": [
    "purchases[purchases.month == 5].groupby('date').size().plot.bar()\n",
    "purchases[purchases.month == 5].groupby('date').size()"
   ]
  },
  {
   "cell_type": "markdown",
   "metadata": {},
   "source": [
    "Observe that for 2018-05-03 and 2018-05-05 we have an unusual high number of transactions. Maybe a holiday or some mistake in the data."
   ]
  },
  {
   "cell_type": "markdown",
   "metadata": {},
   "source": [
    "### Problem 8 (quiz)\n",
    "We see that people go to shop more often in December. But do they spend more per each visit? Let us draw a bar plot that shows the average purchase total price per month of year. Use `groupby` with the `month` variable you (hopefully) created earlier."
   ]
  },
  {
   "cell_type": "code",
   "execution_count": 85,
   "metadata": {
    "deletable": false,
    "nbgrader": {
     "cell_type": "code",
     "checksum": "89a009b51313bca59f1a9c7b9f6d33ef",
     "grade": false,
     "grade_id": "cell-12691d80596bff43",
     "locked": false,
     "schema_version": 3,
     "solution": true,
     "task": false
    }
   },
   "outputs": [
    {
     "data": {
      "text/plain": [
       "<matplotlib.axes._subplots.AxesSubplot at 0x7f18bcfe1890>"
      ]
     },
     "execution_count": 85,
     "metadata": {},
     "output_type": "execute_result"
    },
    {
     "data": {
      "image/png": "[encoded data removed]",
      "text/plain": [
       "<Figure size 432x288 with 1 Axes>"
      ]
     },
     "metadata": {
      "needs_background": "light"
     },
     "output_type": "display_data"
    }
   ],
   "source": [
    "purchases[['month', 'total_price']].groupby('month').mean().plot.bar()\n"
   ]
  },
  {
   "cell_type": "markdown",
   "metadata": {},
   "source": [
    "### Problem 9 (quiz)\n",
    "Okay, we see that there is a difference between December's mean purchase price and other month's. But we also see that the average price is different in different months (not including December), probably due to some random factors. Is it possible that December behaviour is just a result of fluke? To answer this question, let us compare two months, for example, December and November, in a statistically rigorous way.\n",
    "\n",
    "To do so, let us find the average purchase price in each month in each shop (hint: use `.pivot_table`), then extract two samples: one contains average purchase prices in December and another in November. The number of elements in each sample should be equal to the number of shops. Is it true that they are different? Use the statistical test that suits this problem the best with a two-sided alternative. Then answer the question in a quiz.\n"
   ]
  },
  {
   "cell_type": "code",
   "execution_count": 92,
   "metadata": {
    "deletable": false,
    "nbgrader": {
     "cell_type": "code",
     "checksum": "4ed485535496665eafb92eaa02df641f",
     "grade": false,
     "grade_id": "cell-15f7626650b863ab",
     "locked": false,
     "schema_version": 3,
     "solution": true,
     "task": false
    }
   },
   "outputs": [],
   "source": [
    "pivot = pd.pivot_table(purchases[purchases.month >= 11], values='total_price', index=['month'],\n",
    "                    columns=['shop_id'], aggfunc=np.mean)"
   ]
  },
  {
   "cell_type": "code",
   "execution_count": 97,
   "metadata": {},
   "outputs": [],
   "source": [
    "rows_list = pivot.values.tolist()\n",
    "november, december = rows_list[0][0:], rows_list[1][0:]"
   ]
  },
  {
   "cell_type": "code",
   "execution_count": 224,
   "metadata": {},
   "outputs": [],
   "source": [
    "diff = np.array(december) - np.array(november)"
   ]
  },
  {
   "cell_type": "code",
   "execution_count": 226,
   "metadata": {},
   "outputs": [
    {
     "data": {
      "text/plain": [
       "Ttest_1sampResult(statistic=12.130046456676508, pvalue=2.887511793692427e-19)"
      ]
     },
     "execution_count": 226,
     "metadata": {},
     "output_type": "execute_result"
    }
   ],
   "source": [
    "from scipy import stats\n",
    "stats.ttest_1samp(diff, 0)"
   ]
  },
  {
   "cell_type": "markdown",
   "metadata": {},
   "source": [
    "### Problem 10 (autograded)"
   ]
  },
  {
   "cell_type": "markdown",
   "metadata": {},
   "source": [
    "Now let us investigate customer behaviour. First of all we are interested in the relation between customers' age and their spendings per each purchase. To study this relation, first join tables `purchases` and `customers` in such a way to obtain information on customer's age for each purchase. Call the resulting table `purchases_c`. This table should contain all purchases by the registered customers, but rows that correspond to unregistered customers (not present in `customers`) should be dropped. The resulting table also should contain column `customer_id`."
   ]
  },
  {
   "cell_type": "code",
   "execution_count": 121,
   "metadata": {
    "deletable": false,
    "nbgrader": {
     "cell_type": "code",
     "checksum": "52e933cdce5d156ee08d3506d5200d32",
     "grade": false,
     "grade_id": "cell-def585989383682a",
     "locked": false,
     "schema_version": 3,
     "solution": true,
     "task": false
    }
   },
   "outputs": [],
   "source": [
    "purchases2 = purchases[purchases.customer_id.notnull()]\n",
    "purchases2['customer_id'] = purchases2['customer_id'].astype('int')\n",
    "purchases_c = pd.merge(purchases2, customers, left_on='customer_id', right_on='customer id', how='left')\n"
   ]
  },
  {
   "cell_type": "code",
   "execution_count": 123,
   "metadata": {
    "deletable": false,
    "editable": false,
    "nbgrader": {
     "cell_type": "code",
     "checksum": "d4ead409d4eb3d8756ddaaa216f14b9e",
     "grade": true,
     "grade_id": "cell-27f4df593483d1bc",
     "locked": true,
     "points": 1,
     "schema_version": 3,
     "solution": false,
     "task": false
    }
   },
   "outputs": [],
   "source": [
    "assert (\n",
    "    purchases_c[lambda x: x[\"customer_id\"] == 123][\"age\"]\n",
    "    == customers.set_index(\"customer id\").loc[123][\"age\"]\n",
    ").all()\n",
    "assert (\n",
    "    purchases_c[lambda x: x[\"customer_id\"] == 12][\"age\"]\n",
    "    == customers.set_index(\"customer id\").loc[12][\"age\"]\n",
    ").all()\n",
    "assert sum(purchases_c[\"customer_id\"]) == 17548008.0"
   ]
  },
  {
   "cell_type": "markdown",
   "metadata": {},
   "source": [
    "### Problem 11 (autograded)"
   ]
  },
  {
   "cell_type": "code",
   "execution_count": 159,
   "metadata": {},
   "outputs": [
    {
     "data": {
      "text/html": [
       "<div>\n",
       "<style scoped>\n",
       "    .dataframe tbody tr th:only-of-type {\n",
       "        vertical-align: middle;\n",
       "    }\n",
       "\n",
       "    .dataframe tbody tr th {\n",
       "        vertical-align: top;\n",
       "    }\n",
       "\n",
       "    .dataframe thead th {\n",
       "        text-align: right;\n",
       "    }\n",
       "</style>\n",
       "<table border=\"1\" class=\"dataframe\">\n",
       "  <thead>\n",
       "    <tr style=\"text-align: right;\">\n",
       "      <th></th>\n",
       "      <th>customer_id</th>\n",
       "      <th>date</th>\n",
       "      <th>shop_id</th>\n",
       "      <th>total_price</th>\n",
       "      <th>month</th>\n",
       "      <th>customer id</th>\n",
       "      <th>age</th>\n",
       "    </tr>\n",
       "  </thead>\n",
       "  <tbody>\n",
       "    <tr>\n",
       "      <th>0</th>\n",
       "      <td>0</td>\n",
       "      <td>2018-05-04</td>\n",
       "      <td>40</td>\n",
       "      <td>289.673291</td>\n",
       "      <td>5</td>\n",
       "      <td>0</td>\n",
       "      <td>38.0</td>\n",
       "    </tr>\n",
       "    <tr>\n",
       "      <th>1</th>\n",
       "      <td>0</td>\n",
       "      <td>2019-01-26</td>\n",
       "      <td>40</td>\n",
       "      <td>1316.898901</td>\n",
       "      <td>1</td>\n",
       "      <td>0</td>\n",
       "      <td>38.0</td>\n",
       "    </tr>\n",
       "    <tr>\n",
       "      <th>2</th>\n",
       "      <td>0</td>\n",
       "      <td>2018-11-18</td>\n",
       "      <td>42</td>\n",
       "      <td>159.414367</td>\n",
       "      <td>11</td>\n",
       "      <td>0</td>\n",
       "      <td>38.0</td>\n",
       "    </tr>\n",
       "    <tr>\n",
       "      <th>3</th>\n",
       "      <td>0</td>\n",
       "      <td>2018-05-12</td>\n",
       "      <td>42</td>\n",
       "      <td>808.791649</td>\n",
       "      <td>5</td>\n",
       "      <td>0</td>\n",
       "      <td>38.0</td>\n",
       "    </tr>\n",
       "    <tr>\n",
       "      <th>4</th>\n",
       "      <td>0</td>\n",
       "      <td>2019-04-20</td>\n",
       "      <td>42</td>\n",
       "      <td>1207.855038</td>\n",
       "      <td>4</td>\n",
       "      <td>0</td>\n",
       "      <td>38.0</td>\n",
       "    </tr>\n",
       "    <tr>\n",
       "      <th>...</th>\n",
       "      <td>...</td>\n",
       "      <td>...</td>\n",
       "      <td>...</td>\n",
       "      <td>...</td>\n",
       "      <td>...</td>\n",
       "      <td>...</td>\n",
       "      <td>...</td>\n",
       "    </tr>\n",
       "    <tr>\n",
       "      <th>28794</th>\n",
       "      <td>1212</td>\n",
       "      <td>2018-11-08</td>\n",
       "      <td>60</td>\n",
       "      <td>46.653544</td>\n",
       "      <td>11</td>\n",
       "      <td>1212</td>\n",
       "      <td>24.0</td>\n",
       "    </tr>\n",
       "    <tr>\n",
       "      <th>28795</th>\n",
       "      <td>1212</td>\n",
       "      <td>2018-07-20</td>\n",
       "      <td>60</td>\n",
       "      <td>50.592132</td>\n",
       "      <td>7</td>\n",
       "      <td>1212</td>\n",
       "      <td>24.0</td>\n",
       "    </tr>\n",
       "    <tr>\n",
       "      <th>28796</th>\n",
       "      <td>1212</td>\n",
       "      <td>2019-04-18</td>\n",
       "      <td>15</td>\n",
       "      <td>95.459705</td>\n",
       "      <td>4</td>\n",
       "      <td>1212</td>\n",
       "      <td>24.0</td>\n",
       "    </tr>\n",
       "    <tr>\n",
       "      <th>28797</th>\n",
       "      <td>1212</td>\n",
       "      <td>2019-02-14</td>\n",
       "      <td>60</td>\n",
       "      <td>69.968788</td>\n",
       "      <td>2</td>\n",
       "      <td>1212</td>\n",
       "      <td>24.0</td>\n",
       "    </tr>\n",
       "    <tr>\n",
       "      <th>28798</th>\n",
       "      <td>1212</td>\n",
       "      <td>2018-07-13</td>\n",
       "      <td>60</td>\n",
       "      <td>129.335559</td>\n",
       "      <td>7</td>\n",
       "      <td>1212</td>\n",
       "      <td>24.0</td>\n",
       "    </tr>\n",
       "  </tbody>\n",
       "</table>\n",
       "<p>28799 rows × 7 columns</p>\n",
       "</div>"
      ],
      "text/plain": [
       "       customer_id       date  shop_id  total_price  month  customer id   age\n",
       "0                0 2018-05-04       40   289.673291      5            0  38.0\n",
       "1                0 2019-01-26       40  1316.898901      1            0  38.0\n",
       "2                0 2018-11-18       42   159.414367     11            0  38.0\n",
       "3                0 2018-05-12       42   808.791649      5            0  38.0\n",
       "4                0 2019-04-20       42  1207.855038      4            0  38.0\n",
       "...            ...        ...      ...          ...    ...          ...   ...\n",
       "28794         1212 2018-11-08       60    46.653544     11         1212  24.0\n",
       "28795         1212 2018-07-20       60    50.592132      7         1212  24.0\n",
       "28796         1212 2019-04-18       15    95.459705      4         1212  24.0\n",
       "28797         1212 2019-02-14       60    69.968788      2         1212  24.0\n",
       "28798         1212 2018-07-13       60   129.335559      7         1212  24.0\n",
       "\n",
       "[28799 rows x 7 columns]"
      ]
     },
     "execution_count": 159,
     "metadata": {},
     "output_type": "execute_result"
    }
   ],
   "source": [
    "purchases_c"
   ]
  },
  {
   "cell_type": "markdown",
   "metadata": {},
   "source": [
    "To visualize the relation between customer's age and their spendings, we have to transform our table in such a way that one observation (row) corresponds to one customer. Let us do it by groupping and aggregating. Transform table `purchases_c` to find average `total_price` for each customer and keep column `age`. Indexes of the new dataframe should be customer id's. Put the resulting dataframe to variable `purchases_c_mean`.\n"
   ]
  },
  {
   "cell_type": "code",
   "execution_count": 146,
   "metadata": {
    "deletable": false,
    "nbgrader": {
     "cell_type": "code",
     "checksum": "9a1dc0250b79d8890516e7bc760f6b92",
     "grade": false,
     "grade_id": "cell-e76268ef19a434d2",
     "locked": false,
     "schema_version": 3,
     "solution": true,
     "task": false
    }
   },
   "outputs": [],
   "source": [
    "purchases_c_mean = purchases_c[['customer_id', 'age', 'total_price']].groupby(['customer_id', 'age']).mean().reset_index().set_index('customer_id')\n"
   ]
  },
  {
   "cell_type": "code",
   "execution_count": 147,
   "metadata": {
    "deletable": false,
    "editable": false,
    "nbgrader": {
     "cell_type": "code",
     "checksum": "e4efabf877bd870229a3df3daad7c59e",
     "grade": true,
     "grade_id": "cell-8f565c5b33fd9384",
     "locked": true,
     "points": 1,
     "schema_version": 3,
     "solution": false,
     "task": false
    }
   },
   "outputs": [],
   "source": [
    "assert (\n",
    "    purchases_c_mean.loc[12][\"total_price\"]\n",
    "    == purchases_c.query(\"customer_id == 12\")[\"total_price\"].mean()\n",
    ")\n",
    "assert (\n",
    "    purchases_c_mean.loc[125][\"total_price\"]\n",
    "    == purchases_c.query(\"customer_id == 125\")[\"total_price\"].mean()\n",
    ")"
   ]
  },
  {
   "cell_type": "markdown",
   "metadata": {},
   "source": [
    "### Problem 12 (quiz)\n",
    "Use dataframe `purchases_c_mean` to visualize the relation between customer's `age` (horizontal axis) and their average `total_price` (vertical axis)."
   ]
  },
  {
   "cell_type": "code",
   "execution_count": 148,
   "metadata": {
    "deletable": false,
    "nbgrader": {
     "cell_type": "code",
     "checksum": "c455540eb28600e30bf18c62c5196b1a",
     "grade": false,
     "grade_id": "cell-74bf2c586a384ceb",
     "locked": false,
     "schema_version": 3,
     "solution": true,
     "task": false
    }
   },
   "outputs": [
    {
     "data": {
      "text/plain": [
       "<matplotlib.axes._subplots.AxesSubplot at 0x7f18b633ca50>"
      ]
     },
     "execution_count": 148,
     "metadata": {},
     "output_type": "execute_result"
    },
    {
     "data": {
      "image/png": "[encoded data removed]",
      "text/plain": [
       "<Figure size 432x288 with 1 Axes>"
      ]
     },
     "metadata": {
      "needs_background": "light"
     },
     "output_type": "display_data"
    }
   ],
   "source": [
    "purchases_c_mean.plot.scatter(x='age',\n",
    "                      y='total_price',\n",
    "                      c='DarkBlue')\n"
   ]
  },
  {
   "cell_type": "markdown",
   "metadata": {},
   "source": [
    "### Problem 13 (quiz)\n",
    "Find Pearson's correlation coefficient between age and total price."
   ]
  },
  {
   "cell_type": "code",
   "execution_count": 150,
   "metadata": {
    "deletable": false,
    "nbgrader": {
     "cell_type": "code",
     "checksum": "142f6d72b0d3cebe66beb17daca23275",
     "grade": false,
     "grade_id": "cell-b49d12358f261cf2",
     "locked": false,
     "schema_version": 3,
     "solution": true,
     "task": false
    }
   },
   "outputs": [
    {
     "data": {
      "text/html": [
       "<div>\n",
       "<style scoped>\n",
       "    .dataframe tbody tr th:only-of-type {\n",
       "        vertical-align: middle;\n",
       "    }\n",
       "\n",
       "    .dataframe tbody tr th {\n",
       "        vertical-align: top;\n",
       "    }\n",
       "\n",
       "    .dataframe thead th {\n",
       "        text-align: right;\n",
       "    }\n",
       "</style>\n",
       "<table border=\"1\" class=\"dataframe\">\n",
       "  <thead>\n",
       "    <tr style=\"text-align: right;\">\n",
       "      <th></th>\n",
       "      <th>age</th>\n",
       "      <th>total_price</th>\n",
       "    </tr>\n",
       "  </thead>\n",
       "  <tbody>\n",
       "    <tr>\n",
       "      <th>age</th>\n",
       "      <td>1.000000</td>\n",
       "      <td>0.165395</td>\n",
       "    </tr>\n",
       "    <tr>\n",
       "      <th>total_price</th>\n",
       "      <td>0.165395</td>\n",
       "      <td>1.000000</td>\n",
       "    </tr>\n",
       "  </tbody>\n",
       "</table>\n",
       "</div>"
      ],
      "text/plain": [
       "                  age  total_price\n",
       "age          1.000000     0.165395\n",
       "total_price  0.165395     1.000000"
      ]
     },
     "execution_count": 150,
     "metadata": {},
     "output_type": "execute_result"
    }
   ],
   "source": [
    "purchases_c_mean[['age','total_price']].corr(method = 'pearson')"
   ]
  },
  {
   "cell_type": "markdown",
   "metadata": {},
   "source": [
    "### Problem 14 (quiz)\n",
    "We found correlation in the data present on the previous step and made some conclusions based on this data. However, we have to make sure that we can generalize our conclusion to the corresponding population. To do it, let us perform a statistical test of the significance of correlation. This can be done with `scipy.stats.pearsonr`. However, our data contains `NaN`'s in column `age` (there are registered customers with unknown age). Use method `.dropna()` to remove such rows from the dataset, then perform statistical testing with `pearsonr`. This function returns a two-tuple: first value is correlation coefficient and the second is p-value that corresponds to a test where the null hypothesis is that the correlation in population is zero."
   ]
  },
  {
   "cell_type": "code",
   "execution_count": 160,
   "metadata": {
    "deletable": false,
    "nbgrader": {
     "cell_type": "code",
     "checksum": "3f8a3f77a0351a26d6bcf13ec670f662",
     "grade": false,
     "grade_id": "cell-952ef9e07ecc7e07",
     "locked": false,
     "schema_version": 3,
     "solution": true,
     "task": false
    }
   },
   "outputs": [
    {
     "data": {
      "text/plain": [
       "(0.165395081207719, 1.811078910330637e-06)"
      ]
     },
     "execution_count": 160,
     "metadata": {},
     "output_type": "execute_result"
    }
   ],
   "source": [
    "stats.pearsonr(purchases_c_mean.age, purchases_c_mean.total_price)\n"
   ]
  },
  {
   "cell_type": "markdown",
   "metadata": {},
   "source": [
    "### Problem 15 (autograded)\n",
    "Now we are going to do the main investigation. We want to understand how special offers in our shops affect customers' behaviour. To do it, we have to identify those purchases that are made during special offers. This can be a bit tricky: for each purchase we know its date and shop id. For each shop we also know the dates of all special offers (there can be several). So for each purchase we have to compare its date with dates of all offers that took place in the corresponding shop.\n",
    "\n",
    "As a first step, let us try to join `purchases_c` with `shops`. Name this table `full_df_preliminary`."
   ]
  },
  {
   "cell_type": "code",
   "execution_count": 163,
   "metadata": {
    "deletable": false,
    "nbgrader": {
     "cell_type": "code",
     "checksum": "37d37965a3fe7cf29bb129834f736c47",
     "grade": false,
     "grade_id": "cell-3202f7f2e9be6c36",
     "locked": false,
     "schema_version": 3,
     "solution": true,
     "task": false
    }
   },
   "outputs": [],
   "source": [
    "full_df_preliminary = pd.merge(purchases_c, shops, left_on='shop_id', right_on='shop_id', how='left')\n"
   ]
  },
  {
   "cell_type": "code",
   "execution_count": 164,
   "metadata": {
    "deletable": false,
    "editable": false,
    "nbgrader": {
     "cell_type": "code",
     "checksum": "e638ccfb467cd7758d68cc80d186f2f4",
     "grade": true,
     "grade_id": "cell-36bc4666e56a90b9",
     "locked": true,
     "points": 1,
     "schema_version": 3,
     "solution": false,
     "task": false
    }
   },
   "outputs": [],
   "source": [
    "assert (\n",
    "    full_df_preliminary.query('date == \"2019-04-24\" and customer_id == 555.0')[\n",
    "        \"offer_begin\"\n",
    "    ].iloc[0]\n",
    "    == \"2018-08-15\"\n",
    ")\n",
    "assert (\n",
    "    full_df_preliminary.query('date == \"2018-08-24\" and customer_id == 686.0').max()[\n",
    "        \"offer_end\"\n",
    "    ]\n",
    "    == \"2019-01-21\"\n",
    ")"
   ]
  },
  {
   "cell_type": "markdown",
   "metadata": {},
   "source": [
    "### Problem 16 (autograded)\n",
    "Let us investigate the table `full_df_preliminary`. Each row of this table corresponds to some purchase. However, for some shops we have several special offers and therefore several rows in the table `shops`. During the join each purchase is joined to all rows of `shops` that correspond to a particular shop. Therefore, purchases are duplicated, and we lost information on which rows in `full_df_preliminary` correspond to which purchase. (For example, the last two rows seem to correspond to the same purchase, but can we be sure?) This is due to the fact that table `purchases_c` don't have any explicit column with purchase identifier. Let us add it. As each row of `purchases_c` corresponds to exactly one purchase, table index can work as such an identifier. To create a column that coincides with the index one can use method `.reset_index()`.\n",
    "\n",
    "Apply `.reset_index()` to `purchases_c`, then repeat the join from the previous problem. Name the resulting dataframe `full_df`."
   ]
  },
  {
   "cell_type": "code",
   "execution_count": 166,
   "metadata": {
    "deletable": false,
    "nbgrader": {
     "cell_type": "code",
     "checksum": "711532e6ab63c11aab5b7dd9d298b3af",
     "grade": false,
     "grade_id": "cell-8414788809192d4e",
     "locked": false,
     "schema_version": 3,
     "solution": true,
     "task": false
    }
   },
   "outputs": [],
   "source": [
    "full_df = pd.merge(purchases_c.reset_index(), shops, left_on='shop_id', right_on='shop_id', how='left')"
   ]
  },
  {
   "cell_type": "code",
   "execution_count": 167,
   "metadata": {
    "deletable": false,
    "editable": false,
    "nbgrader": {
     "cell_type": "code",
     "checksum": "f015cc3e9b8370425cdaf4ad4b395946",
     "grade": true,
     "grade_id": "cell-484af97a03241903",
     "locked": true,
     "points": 1,
     "schema_version": 3,
     "solution": false,
     "task": false
    }
   },
   "outputs": [],
   "source": [
    "assert (\n",
    "    full_df.query(\"index == 1207\")\n",
    "    .iloc[0][[\"customer_id\", \"date\", \"shop_id\", \"total_price\"]]\n",
    "    .equals(purchases_c.loc[1207][[\"customer_id\", \"date\", \"shop_id\", \"total_price\"]])\n",
    ")"
   ]
  },
  {
   "cell_type": "markdown",
   "metadata": {},
   "source": [
    "### Problem 17 (autograded)\n",
    "Now we need to check for each purchase, did it happen during any of the special offers or not. In the dataset `full_df`, each row relates some purchase with some special offer that happened in the same shop as a purchase. Let us check, is it true that this purchase happened during the corresponding offer? Add a column `offer` that contains values `True` or `False` that answer this question. To do so, we have to compare the value in column `date` with values in columns `offer_begin` and `offer_end`. Let us assume that `offer_end` is the last day of the offer (so the offer still holds during this day). Name the corresponding dataframe `full_df_offer`. Note that you can compare between dates, but not between dates and strings. Convert your data appropriately.\n"
   ]
  },
  {
   "cell_type": "code",
   "execution_count": 178,
   "metadata": {
    "deletable": false,
    "nbgrader": {
     "cell_type": "code",
     "checksum": "338c8fa45dcfcdf2403e1e16fd7acfe3",
     "grade": false,
     "grade_id": "cell-72280e238346d5dc",
     "locked": false,
     "schema_version": 3,
     "solution": true,
     "task": false
    }
   },
   "outputs": [],
   "source": [
    "full_df['offer'] = (full_df['date']>=pd.to_datetime(full_df.offer_begin)) & (full_df['date']<=pd.to_datetime(full_df.offer_end))  \n",
    "full_df_offer = full_df"
   ]
  },
  {
   "cell_type": "code",
   "execution_count": 179,
   "metadata": {
    "deletable": false,
    "editable": false,
    "nbgrader": {
     "cell_type": "code",
     "checksum": "5bc3c6253b86389489682486f3909035",
     "grade": true,
     "grade_id": "cell-158644e2bb557078",
     "locked": true,
     "points": 2,
     "schema_version": 3,
     "solution": false,
     "task": false
    }
   },
   "outputs": [],
   "source": [
    "from itertools import islice\n",
    "\n",
    "for _, row in islice(full_df_offer.iterrows(), 0, 1000):\n",
    "    assert (\n",
    "        (pd.to_datetime(row[\"date\"]) >= pd.to_datetime(row[\"offer_begin\"]))\n",
    "        & (pd.to_datetime(row[\"date\"]) <= pd.to_datetime(row[\"offer_end\"]))\n",
    "    ) == row[\"offer\"]"
   ]
  },
  {
   "cell_type": "markdown",
   "metadata": {},
   "source": [
    "### Almost here\n",
    "Now we have a table that contains information on whether a particular purchase happened during a particular special offer. What we need is a new table that contains information on whether a particular purchase happened during *any* relevant special offer. This can be done by grouping and aggregating. Basically, we need to group our table by column `index` that contains a purchase identifier and apply a special aggregation function `any` to column `offer`. This function checks if there is any `True` element in a group and returns `True` in this case, otherwise (everything is `False`) it returns false. Also, we have to keep all other columns that are related to purchases as is. They are duplicated in the group, so we can just get the first value. This is done by the aggregation function `first`. To apply these functions to different columns, we have to pass a dictionary to method `.agg`. Let's see what's happening.\n"
   ]
  },
  {
   "cell_type": "code",
   "execution_count": 180,
   "metadata": {},
   "outputs": [
    {
     "data": {
      "text/html": [
       "<div>\n",
       "<style scoped>\n",
       "    .dataframe tbody tr th:only-of-type {\n",
       "        vertical-align: middle;\n",
       "    }\n",
       "\n",
       "    .dataframe tbody tr th {\n",
       "        vertical-align: top;\n",
       "    }\n",
       "\n",
       "    .dataframe thead th {\n",
       "        text-align: right;\n",
       "    }\n",
       "</style>\n",
       "<table border=\"1\" class=\"dataframe\">\n",
       "  <thead>\n",
       "    <tr style=\"text-align: right;\">\n",
       "      <th></th>\n",
       "      <th>customer_id</th>\n",
       "      <th>date</th>\n",
       "      <th>shop_id</th>\n",
       "      <th>total_price</th>\n",
       "      <th>month</th>\n",
       "      <th>age</th>\n",
       "      <th>offer</th>\n",
       "    </tr>\n",
       "    <tr>\n",
       "      <th>index</th>\n",
       "      <th></th>\n",
       "      <th></th>\n",
       "      <th></th>\n",
       "      <th></th>\n",
       "      <th></th>\n",
       "      <th></th>\n",
       "      <th></th>\n",
       "    </tr>\n",
       "  </thead>\n",
       "  <tbody>\n",
       "    <tr>\n",
       "      <th>0</th>\n",
       "      <td>0</td>\n",
       "      <td>2018-05-04</td>\n",
       "      <td>40</td>\n",
       "      <td>289.673291</td>\n",
       "      <td>5</td>\n",
       "      <td>38.0</td>\n",
       "      <td>False</td>\n",
       "    </tr>\n",
       "    <tr>\n",
       "      <th>1</th>\n",
       "      <td>0</td>\n",
       "      <td>2019-01-26</td>\n",
       "      <td>40</td>\n",
       "      <td>1316.898901</td>\n",
       "      <td>1</td>\n",
       "      <td>38.0</td>\n",
       "      <td>False</td>\n",
       "    </tr>\n",
       "    <tr>\n",
       "      <th>2</th>\n",
       "      <td>0</td>\n",
       "      <td>2018-11-18</td>\n",
       "      <td>42</td>\n",
       "      <td>159.414367</td>\n",
       "      <td>11</td>\n",
       "      <td>38.0</td>\n",
       "      <td>False</td>\n",
       "    </tr>\n",
       "    <tr>\n",
       "      <th>3</th>\n",
       "      <td>0</td>\n",
       "      <td>2018-05-12</td>\n",
       "      <td>42</td>\n",
       "      <td>808.791649</td>\n",
       "      <td>5</td>\n",
       "      <td>38.0</td>\n",
       "      <td>False</td>\n",
       "    </tr>\n",
       "    <tr>\n",
       "      <th>4</th>\n",
       "      <td>0</td>\n",
       "      <td>2019-04-20</td>\n",
       "      <td>42</td>\n",
       "      <td>1207.855038</td>\n",
       "      <td>4</td>\n",
       "      <td>38.0</td>\n",
       "      <td>False</td>\n",
       "    </tr>\n",
       "    <tr>\n",
       "      <th>...</th>\n",
       "      <td>...</td>\n",
       "      <td>...</td>\n",
       "      <td>...</td>\n",
       "      <td>...</td>\n",
       "      <td>...</td>\n",
       "      <td>...</td>\n",
       "      <td>...</td>\n",
       "    </tr>\n",
       "    <tr>\n",
       "      <th>28794</th>\n",
       "      <td>1212</td>\n",
       "      <td>2018-11-08</td>\n",
       "      <td>60</td>\n",
       "      <td>46.653544</td>\n",
       "      <td>11</td>\n",
       "      <td>24.0</td>\n",
       "      <td>False</td>\n",
       "    </tr>\n",
       "    <tr>\n",
       "      <th>28795</th>\n",
       "      <td>1212</td>\n",
       "      <td>2018-07-20</td>\n",
       "      <td>60</td>\n",
       "      <td>50.592132</td>\n",
       "      <td>7</td>\n",
       "      <td>24.0</td>\n",
       "      <td>True</td>\n",
       "    </tr>\n",
       "    <tr>\n",
       "      <th>28796</th>\n",
       "      <td>1212</td>\n",
       "      <td>2019-04-18</td>\n",
       "      <td>15</td>\n",
       "      <td>95.459705</td>\n",
       "      <td>4</td>\n",
       "      <td>24.0</td>\n",
       "      <td>False</td>\n",
       "    </tr>\n",
       "    <tr>\n",
       "      <th>28797</th>\n",
       "      <td>1212</td>\n",
       "      <td>2019-02-14</td>\n",
       "      <td>60</td>\n",
       "      <td>69.968788</td>\n",
       "      <td>2</td>\n",
       "      <td>24.0</td>\n",
       "      <td>False</td>\n",
       "    </tr>\n",
       "    <tr>\n",
       "      <th>28798</th>\n",
       "      <td>1212</td>\n",
       "      <td>2018-07-13</td>\n",
       "      <td>60</td>\n",
       "      <td>129.335559</td>\n",
       "      <td>7</td>\n",
       "      <td>24.0</td>\n",
       "      <td>True</td>\n",
       "    </tr>\n",
       "  </tbody>\n",
       "</table>\n",
       "<p>28799 rows × 7 columns</p>\n",
       "</div>"
      ],
      "text/plain": [
       "       customer_id       date  shop_id  total_price  month   age  offer\n",
       "index                                                                  \n",
       "0                0 2018-05-04       40   289.673291      5  38.0  False\n",
       "1                0 2019-01-26       40  1316.898901      1  38.0  False\n",
       "2                0 2018-11-18       42   159.414367     11  38.0  False\n",
       "3                0 2018-05-12       42   808.791649      5  38.0  False\n",
       "4                0 2019-04-20       42  1207.855038      4  38.0  False\n",
       "...            ...        ...      ...          ...    ...   ...    ...\n",
       "28794         1212 2018-11-08       60    46.653544     11  24.0  False\n",
       "28795         1212 2018-07-20       60    50.592132      7  24.0   True\n",
       "28796         1212 2019-04-18       15    95.459705      4  24.0  False\n",
       "28797         1212 2019-02-14       60    69.968788      2  24.0  False\n",
       "28798         1212 2018-07-13       60   129.335559      7  24.0   True\n",
       "\n",
       "[28799 rows x 7 columns]"
      ]
     },
     "execution_count": 180,
     "metadata": {},
     "output_type": "execute_result"
    }
   ],
   "source": [
    "purchases_offer = full_df_offer.groupby(\"index\").agg(\n",
    "    {\n",
    "        \"customer_id\": \"first\",\n",
    "        \"date\": \"first\",\n",
    "        \"shop_id\": \"first\",\n",
    "        \"total_price\": \"first\",\n",
    "        \"month\": \"first\",\n",
    "        \"age\": \"first\",\n",
    "        \"offer\": \"any\",\n",
    "    }\n",
    ")\n",
    "purchases_offer"
   ]
  },
  {
   "cell_type": "markdown",
   "metadata": {},
   "source": [
    "### Problem 18 (quiz)\n",
    "Do people tend to spend more money when they make a purchase during a special offer? Let's check it!\n",
    "\n",
    "First of all, we know that during December people spend more money in shops due to holidays and at the time shops usually announce more special offers during December. As we are interested in the effect of special offers alone, let us remove all purchases that happened during December.\n",
    "\n",
    "Then create a table which rows are customers that contains two columns: in one column we have average of all prices of purchases that were made during special offers, and in the second the same for purchases that were not made during special offers. Drop all rows that contain `NaN`'s. Then apply an appropriate statistical test to check if there is any statistically significant difference between these columns. Use two-sided alternative.\n",
    "\n",
    "\n"
   ]
  },
  {
   "cell_type": "code",
   "execution_count": 242,
   "metadata": {
    "deletable": false,
    "nbgrader": {
     "cell_type": "code",
     "checksum": "c8103dc0ef0df87757fec5507fde9022",
     "grade": false,
     "grade_id": "cell-ba9d2b1c164cb3e5",
     "locked": false,
     "schema_version": 3,
     "solution": true,
     "task": false
    }
   },
   "outputs": [],
   "source": [
    "true = purchases_offer[purchases_offer.month != 12][purchases_offer.offer == True][['customer_id','total_price']].groupby('customer_id').mean().reset_index()\n",
    "false = purchases_offer[purchases_offer.month != 12][purchases_offer.offer == False][['customer_id','total_price']].groupby('customer_id').mean().reset_index()"
   ]
  },
  {
   "cell_type": "code",
   "execution_count": 247,
   "metadata": {},
   "outputs": [],
   "source": [
    "merge = pd.merge(true, false, on='customer_id', how='left')"
   ]
  },
  {
   "cell_type": "code",
   "execution_count": 249,
   "metadata": {},
   "outputs": [],
   "source": [
    "merge['diff'] = merge.total_price_x - merge.total_price_y"
   ]
  },
  {
   "cell_type": "code",
   "execution_count": 256,
   "metadata": {},
   "outputs": [],
   "source": [
    "sample = merge['diff'].to_list()"
   ]
  },
  {
   "cell_type": "code",
   "execution_count": 259,
   "metadata": {},
   "outputs": [
    {
     "data": {
      "text/plain": [
       "Ttest_1sampResult(statistic=16.682645056499567, pvalue=3.221672499502215e-53)"
      ]
     },
     "execution_count": 259,
     "metadata": {},
     "output_type": "execute_result"
    }
   ],
   "source": [
    "stats.ttest_1samp(sample, 0)"
   ]
  },
  {
   "cell_type": "code",
   "execution_count": null,
   "metadata": {},
   "outputs": [],
   "source": []
  }
 ],
 "metadata": {
  "kernelspec": {
   "display_name": "Python 3",
   "language": "python",
   "name": "python3"
  },
  "language_info": {
   "codemirror_mode": {
    "name": "ipython",
    "version": 3
   },
   "file_extension": ".py",
   "mimetype": "text/x-python",
   "name": "python",
   "nbconvert_exporter": "python",
   "pygments_lexer": "ipython3",
   "version": "3.7.6"
  }
 },
 "nbformat": 4,
 "nbformat_minor": 4
}
